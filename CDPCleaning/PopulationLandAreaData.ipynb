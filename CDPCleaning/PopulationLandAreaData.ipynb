{
  "nbformat": 4,
  "nbformat_minor": 0,
  "metadata": {
    "colab": {
      "name": "PopulationLandAreaData.ipynb",
      "provenance": [],
      "collapsed_sections": []
    },
    "kernelspec": {
      "name": "python3",
      "display_name": "Python 3"
    },
    "language_info": {
      "name": "python"
    }
  },
  "cells": [
    {
      "cell_type": "markdown",
      "metadata": {
        "id": "yNygBkG8UK2C"
      },
      "source": [
        "Extracting Population and Land Area Data from CDP Data"
      ]
    },
    {
      "cell_type": "code",
      "metadata": {
        "id": "puNhMr6vUSYJ"
      },
      "source": [
        "#Import required packages \n",
        "import pandas as pd\n",
        "import numpy as np"
      ],
      "execution_count": 1,
      "outputs": []
    },
    {
      "cell_type": "code",
      "metadata": {
        "id": "uE6uMHASVcJt"
      },
      "source": [
        "#Import CDP 2016-2020 Datasets\n",
        "#Datasets from prior to 2016 have no population or land area data\n",
        "\n",
        "df2016 = pd.read_csv(\"https://raw.githubusercontent.com/jadenio/CityEmissionsData/main/CDP%202012-2020/2016_-_Citywide_GHG_Emissions.csv\")\n",
        "df2017 = pd.read_csv(\"https://raw.githubusercontent.com/jadenio/CityEmissionsData/main/CDP%202012-2020/2017_-_Cities_Community_Wide_Emissions.csv\")\n",
        "df2018 = pd.read_csv(\"https://raw.githubusercontent.com/jadenio/CityEmissionsData/main/CDP%202012-2020/2018_-_2019_City-wide_Emissions.csv\")\n",
        "df2019 = pd.read_csv(\"https://raw.githubusercontent.com/jadenio/CityEmissionsData/main/CDP%202012-2020/2019_City-wide_Emissions.csv\")\n",
        "df2020 = pd.read_csv(\"https://raw.githubusercontent.com/jadenio/CityEmissionsData/main/CDP%202012-2020/2020_-_City-Wide_Emissions.csv\")"
      ],
      "execution_count": 2,
      "outputs": []
    },
    {
      "cell_type": "code",
      "metadata": {
        "id": "CVBFUbG8W8my"
      },
      "source": [
        "#Standardize column names \n",
        "\n",
        "df2016 = df2016.rename(columns={'Current Population': 'Population'})\n",
        "df2016 = df2016.rename(columns={'Current Population Year': 'PopulationYear'})\n",
        "df2016 = df2016.rename(columns={ df2016.columns[23]: \"LandArea(sqkm)\" })\n",
        "\n",
        "df2017 = df2017.rename(columns={'Population year': 'PopulationYear'})\n",
        "df2017 = df2017.rename(columns={'Account number': 'Account Number'})\n",
        "df2017 = df2017.rename(columns={ df2017.columns[28]: \"LandArea(sqkm)\" })\n",
        "\n",
        "df2018 = df2018.rename(columns={'Population Year': 'PopulationYear'})\n",
        "df2018 = df2018.rename(columns={ df2018.columns[28]: \"LandArea(sqkm)\" })\n",
        "\n",
        "df2019 = df2019.rename(columns={'Population Year': 'PopulationYear'})\n",
        "df2019 = df2019.rename(columns={ df2019.columns[28]: \"LandArea(sqkm)\" })\n",
        "\n",
        "df2020 = df2020.rename(columns={'Population Year': 'PopulationYear'})\n",
        "df2020 = df2020.rename(columns={ df2020.columns[28]: \"LandArea(sqkm)\" })"
      ],
      "execution_count": 3,
      "outputs": []
    },
    {
      "cell_type": "markdown",
      "metadata": {
        "id": "kmL2EgNljDRH"
      },
      "source": [
        "Extract Land Area Data to LandArea (la) df"
      ]
    },
    {
      "cell_type": "code",
      "metadata": {
        "id": "Ku-aAi5QjRym"
      },
      "source": [
        "#keep only Account Number and Land Area (year doesn't matter)\n",
        "la16 = df2016.iloc[:,[0,23]]\n",
        "la17 = df2017.iloc[:,[0,28]]\n",
        "la18 = df2018.iloc[:,[1,28]]\n",
        "la19 = df2019.iloc[:,[1,28]]\n",
        "la20 = df2020.iloc[:,[1,28]]"
      ],
      "execution_count": 4,
      "outputs": []
    },
    {
      "cell_type": "code",
      "metadata": {
        "id": "IzNJG6X9kw0m"
      },
      "source": [
        "#Merge Land Area datasets\n",
        "frames = [la16, la17, la18, la19, la20]\n",
        "\n",
        "la = pd.concat(frames)"
      ],
      "execution_count": 5,
      "outputs": []
    },
    {
      "cell_type": "code",
      "metadata": {
        "id": "UcWPWXDpjyS9"
      },
      "source": [
        "#Drop duplicate Land Area values for each Account Number\n",
        "la = la.drop_duplicates(['Account Number'])"
      ],
      "execution_count": 6,
      "outputs": []
    },
    {
      "cell_type": "code",
      "metadata": {
        "id": "Dg7g_2b8l-RY"
      },
      "source": [
        "#Remove rows with no Land Area information\n",
        "la = la[la['LandArea(sqkm)'].notna()]"
      ],
      "execution_count": 10,
      "outputs": []
    },
    {
      "cell_type": "code",
      "metadata": {
        "id": "q3aDVc2tlhBv"
      },
      "source": [
        "la.to_excel('landarea.xlsx')"
      ],
      "execution_count": 9,
      "outputs": []
    },
    {
      "cell_type": "markdown",
      "metadata": {
        "id": "TiTfKf8bDUkk"
      },
      "source": [
        "Merge Land Area Data to CDPMerge dataset"
      ]
    },
    {
      "cell_type": "code",
      "metadata": {
        "id": "2MMfHgfYDheK"
      },
      "source": [
        "cdp = pd.read_excel(\"CDPMerge.xlsx\")"
      ],
      "execution_count": null,
      "outputs": []
    },
    {
      "cell_type": "code",
      "metadata": {
        "id": "yZ08vIhJDTX6"
      },
      "source": [
        "CDPla = cdp.merge(la, on=['Account Number'], how='left')"
      ],
      "execution_count": 118,
      "outputs": []
    },
    {
      "cell_type": "markdown",
      "metadata": {
        "id": "G9qurAatjSNG"
      },
      "source": [
        "Extract Population Data to Population (pop) df"
      ]
    },
    {
      "cell_type": "code",
      "metadata": {
        "id": "HUGETHAKXA0g"
      },
      "source": [
        "#Extract Account Number, Population, Population Year columns\n",
        "pop16 = df2016.iloc[:,[0,17,16]]\n",
        "pop17 = df2017.iloc[:,[0,20,21]]\n",
        "pop18 = df2018.iloc[:,[1,29,30]]\n",
        "pop19 = df2019.iloc[:,[1,29,30]]\n",
        "pop20 = df2020.iloc[:,[1,29,30]]"
      ],
      "execution_count": 104,
      "outputs": []
    },
    {
      "cell_type": "code",
      "metadata": {
        "id": "DO_5AE-gXRrc"
      },
      "source": [
        "#Merge Population Datasets\n",
        "frames = [pop16, pop17, pop18, pop19, pop20]\n",
        "\n",
        "pop = pd.concat(frames)"
      ],
      "execution_count": 105,
      "outputs": []
    },
    {
      "cell_type": "code",
      "metadata": {
        "id": "z-SqeYS0migh"
      },
      "source": [
        "#Remove duplicates \n",
        "pop = pop.drop_duplicates(['Population','Account Number'])"
      ],
      "execution_count": 106,
      "outputs": []
    },
    {
      "cell_type": "code",
      "metadata": {
        "id": "Utt3rLcRmpq6"
      },
      "source": [
        "#Remove rows with no Land Area information\n",
        "pop = pop[pop['Population'].notna()]"
      ],
      "execution_count": 107,
      "outputs": []
    },
    {
      "cell_type": "code",
      "metadata": {
        "id": "NqB9h5QwhspI"
      },
      "source": [
        "#Export final dataset to excel file\n",
        "pop.to_excel('Population.xlsx')"
      ],
      "execution_count": 74,
      "outputs": []
    },
    {
      "cell_type": "markdown",
      "metadata": {
        "id": "VIx9-rF8FJCZ"
      },
      "source": [
        "Take Average Population across all years for each City"
      ]
    },
    {
      "cell_type": "code",
      "metadata": {
        "id": "GxFdB_GKFQxf"
      },
      "source": [
        "avgpop = pop.groupby('Account Number', as_index=False)['Population'].mean()"
      ],
      "execution_count": 120,
      "outputs": []
    },
    {
      "cell_type": "markdown",
      "metadata": {
        "id": "6Zjgs81fmH7v"
      },
      "source": [
        "Merge Population and Land Area data with CDPMerge dataset"
      ]
    },
    {
      "cell_type": "code",
      "metadata": {
        "id": "lkmHVfqemHTc"
      },
      "source": [
        "#Import CDPMerge dataset\n",
        "cdp = pd.read_excel(\"CDPMerge.xlsx\")"
      ],
      "execution_count": 108,
      "outputs": []
    },
    {
      "cell_type": "code",
      "metadata": {
        "id": "YH9vW9WqmQFe"
      },
      "source": [
        "#Merge Population Data with CDPMerge\n",
        "cdp_pop = cdp.merge(avgpop, on=['Account Number'], \n",
        "    how='left')"
      ],
      "execution_count": 123,
      "outputs": []
    },
    {
      "cell_type": "code",
      "metadata": {
        "id": "uNoqDj6TGaFl"
      },
      "source": [
        "#Merge Land Area Data with cdp_pop\n",
        "cdp_pop_la = cdp_pop.merge(la, on=['Account Number'], \n",
        "    how='left')"
      ],
      "execution_count": 128,
      "outputs": []
    },
    {
      "cell_type": "code",
      "metadata": {
        "id": "RQ0xb2PvHgGE"
      },
      "source": [
        "#Fill missing Population values with column mean\n",
        "cdp_pop_la[\"Population\"] = cdp_pop_la[\"Population\"].fillna(value=cdp_pop_la[\"Population\"].mean())"
      ],
      "execution_count": 133,
      "outputs": []
    },
    {
      "cell_type": "code",
      "metadata": {
        "id": "pXe3GIxNGvbl"
      },
      "source": [
        "#Fill missing Land Area values with column mean\n",
        "cdp_pop_la[\"LandArea(sqkm)\"] = cdp_pop_la[\"LandArea(sqkm)\"].fillna(value=cdp_pop_la[\"LandArea(sqkm)\"].mean())"
      ],
      "execution_count": 131,
      "outputs": []
    },
    {
      "cell_type": "code",
      "metadata": {
        "id": "r4PKUMReHzwh"
      },
      "source": [
        "#Export finished dataset to excel file \n",
        "cdp_pop_la.to_excel('CDPFinal.xlsx')"
      ],
      "execution_count": null,
      "outputs": []
    }
  ]
}