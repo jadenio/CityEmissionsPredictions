{
 "cells": [
  {
   "cell_type": "markdown",
   "metadata": {
    "toc": true
   },
   "source": [
    "<h1>Table of Contents<span class=\"tocSkip\"></span></h1>\n",
    "<div class=\"toc\"><ul class=\"toc-item\"><li><span><a href=\"#Create-Map\" data-toc-modified-id=\"Create-Map-1\"><span class=\"toc-item-num\">1&nbsp;&nbsp;</span>Create Map</a></span></li></ul></div>"
   ]
  },
  {
   "cell_type": "code",
   "execution_count": 1,
   "metadata": {},
   "outputs": [],
   "source": [
    "import plotly.express as px\n",
    "import pandas as pd"
   ]
  },
  {
   "cell_type": "code",
   "execution_count": 4,
   "metadata": {},
   "outputs": [
    {
     "data": {
      "text/html": [
       "<div>\n",
       "<style scoped>\n",
       "    .dataframe tbody tr th:only-of-type {\n",
       "        vertical-align: middle;\n",
       "    }\n",
       "\n",
       "    .dataframe tbody tr th {\n",
       "        vertical-align: top;\n",
       "    }\n",
       "\n",
       "    .dataframe thead th {\n",
       "        text-align: right;\n",
       "    }\n",
       "</style>\n",
       "<table border=\"1\" class=\"dataframe\">\n",
       "  <thead>\n",
       "    <tr style=\"text-align: right;\">\n",
       "      <th></th>\n",
       "      <th>Country Code</th>\n",
       "      <th>Country Name</th>\n",
       "      <th>City</th>\n",
       "      <th>CDP_TotalEmissions</th>\n",
       "      <th>CDP_Longitude</th>\n",
       "      <th>CDP_Latitude</th>\n",
       "      <th>OWID_co2</th>\n",
       "      <th>OWID_co2_growth_prct</th>\n",
       "      <th>OWID_co2_growth_abs</th>\n",
       "      <th>OWID_consumption_co2</th>\n",
       "      <th>...</th>\n",
       "      <th>City_Monetary Freedom</th>\n",
       "      <th>City_Trade Freedom</th>\n",
       "      <th>City_Investment Freedom</th>\n",
       "      <th>City_Financial Freedom</th>\n",
       "      <th>inconsistent</th>\n",
       "      <th>pct_change2</th>\n",
       "      <th>TotalEmissions_std</th>\n",
       "      <th>Classif</th>\n",
       "      <th>CategClassif</th>\n",
       "      <th>cluster</th>\n",
       "    </tr>\n",
       "  </thead>\n",
       "  <tbody>\n",
       "    <tr>\n",
       "      <th>0</th>\n",
       "      <td>ALB</td>\n",
       "      <td>Albania</td>\n",
       "      <td>Tirana</td>\n",
       "      <td>6.107730e+05</td>\n",
       "      <td>19.818700</td>\n",
       "      <td>41.327500</td>\n",
       "      <td>5.4040</td>\n",
       "      <td>20.2120</td>\n",
       "      <td>0.9090</td>\n",
       "      <td>6.1860</td>\n",
       "      <td>...</td>\n",
       "      <td>NaN</td>\n",
       "      <td>NaN</td>\n",
       "      <td>NaN</td>\n",
       "      <td>NaN</td>\n",
       "      <td>0.00</td>\n",
       "      <td>0.0</td>\n",
       "      <td>-0.221462</td>\n",
       "      <td>0</td>\n",
       "      <td>3</td>\n",
       "      <td>3</td>\n",
       "    </tr>\n",
       "    <tr>\n",
       "      <th>1</th>\n",
       "      <td>ARE</td>\n",
       "      <td>United Arab Emirates</td>\n",
       "      <td>Dubai</td>\n",
       "      <td>6.809123e+07</td>\n",
       "      <td>55.270800</td>\n",
       "      <td>25.204800</td>\n",
       "      <td>NaN</td>\n",
       "      <td>NaN</td>\n",
       "      <td>NaN</td>\n",
       "      <td>NaN</td>\n",
       "      <td>...</td>\n",
       "      <td>NaN</td>\n",
       "      <td>NaN</td>\n",
       "      <td>NaN</td>\n",
       "      <td>NaN</td>\n",
       "      <td>0.00</td>\n",
       "      <td>0.0</td>\n",
       "      <td>1.980219</td>\n",
       "      <td>0</td>\n",
       "      <td>3</td>\n",
       "      <td>2</td>\n",
       "    </tr>\n",
       "    <tr>\n",
       "      <th>2</th>\n",
       "      <td>ARG</td>\n",
       "      <td>Argentina</td>\n",
       "      <td>Arequito</td>\n",
       "      <td>1.212827e+04</td>\n",
       "      <td>NaN</td>\n",
       "      <td>NaN</td>\n",
       "      <td>NaN</td>\n",
       "      <td>NaN</td>\n",
       "      <td>NaN</td>\n",
       "      <td>NaN</td>\n",
       "      <td>...</td>\n",
       "      <td>NaN</td>\n",
       "      <td>NaN</td>\n",
       "      <td>NaN</td>\n",
       "      <td>NaN</td>\n",
       "      <td>0.00</td>\n",
       "      <td>0.0</td>\n",
       "      <td>-0.240994</td>\n",
       "      <td>0</td>\n",
       "      <td>3</td>\n",
       "      <td>2</td>\n",
       "    </tr>\n",
       "    <tr>\n",
       "      <th>3</th>\n",
       "      <td>ARG</td>\n",
       "      <td>Argentina</td>\n",
       "      <td>Arias</td>\n",
       "      <td>9.521671e+04</td>\n",
       "      <td>NaN</td>\n",
       "      <td>NaN</td>\n",
       "      <td>NaN</td>\n",
       "      <td>NaN</td>\n",
       "      <td>NaN</td>\n",
       "      <td>NaN</td>\n",
       "      <td>...</td>\n",
       "      <td>NaN</td>\n",
       "      <td>NaN</td>\n",
       "      <td>NaN</td>\n",
       "      <td>NaN</td>\n",
       "      <td>0.00</td>\n",
       "      <td>0.0</td>\n",
       "      <td>-0.238283</td>\n",
       "      <td>0</td>\n",
       "      <td>3</td>\n",
       "      <td>2</td>\n",
       "    </tr>\n",
       "    <tr>\n",
       "      <th>4</th>\n",
       "      <td>ARG</td>\n",
       "      <td>Argentina</td>\n",
       "      <td>Armstrong</td>\n",
       "      <td>5.208305e+04</td>\n",
       "      <td>NaN</td>\n",
       "      <td>NaN</td>\n",
       "      <td>NaN</td>\n",
       "      <td>NaN</td>\n",
       "      <td>NaN</td>\n",
       "      <td>NaN</td>\n",
       "      <td>...</td>\n",
       "      <td>NaN</td>\n",
       "      <td>NaN</td>\n",
       "      <td>NaN</td>\n",
       "      <td>NaN</td>\n",
       "      <td>0.00</td>\n",
       "      <td>0.0</td>\n",
       "      <td>-0.239690</td>\n",
       "      <td>0</td>\n",
       "      <td>3</td>\n",
       "      <td>2</td>\n",
       "    </tr>\n",
       "    <tr>\n",
       "      <th>...</th>\n",
       "      <td>...</td>\n",
       "      <td>...</td>\n",
       "      <td>...</td>\n",
       "      <td>...</td>\n",
       "      <td>...</td>\n",
       "      <td>...</td>\n",
       "      <td>...</td>\n",
       "      <td>...</td>\n",
       "      <td>...</td>\n",
       "      <td>...</td>\n",
       "      <td>...</td>\n",
       "      <td>...</td>\n",
       "      <td>...</td>\n",
       "      <td>...</td>\n",
       "      <td>...</td>\n",
       "      <td>...</td>\n",
       "      <td>...</td>\n",
       "      <td>...</td>\n",
       "      <td>...</td>\n",
       "      <td>...</td>\n",
       "      <td>...</td>\n",
       "    </tr>\n",
       "    <tr>\n",
       "      <th>516</th>\n",
       "      <td>ZAF</td>\n",
       "      <td>South Africa</td>\n",
       "      <td>KwaDukuza</td>\n",
       "      <td>1.008657e+06</td>\n",
       "      <td>NaN</td>\n",
       "      <td>NaN</td>\n",
       "      <td>NaN</td>\n",
       "      <td>NaN</td>\n",
       "      <td>NaN</td>\n",
       "      <td>NaN</td>\n",
       "      <td>...</td>\n",
       "      <td>NaN</td>\n",
       "      <td>NaN</td>\n",
       "      <td>NaN</td>\n",
       "      <td>NaN</td>\n",
       "      <td>0.00</td>\n",
       "      <td>0.0</td>\n",
       "      <td>-0.208480</td>\n",
       "      <td>0</td>\n",
       "      <td>3</td>\n",
       "      <td>2</td>\n",
       "    </tr>\n",
       "    <tr>\n",
       "      <th>517</th>\n",
       "      <td>ZAF</td>\n",
       "      <td>South Africa</td>\n",
       "      <td>Nelson Mandela Bay</td>\n",
       "      <td>1.223231e+07</td>\n",
       "      <td>25.568108</td>\n",
       "      <td>-33.745241</td>\n",
       "      <td>466.1030</td>\n",
       "      <td>1.3170</td>\n",
       "      <td>6.0600</td>\n",
       "      <td>331.0130</td>\n",
       "      <td>...</td>\n",
       "      <td>NaN</td>\n",
       "      <td>NaN</td>\n",
       "      <td>NaN</td>\n",
       "      <td>NaN</td>\n",
       "      <td>0.00</td>\n",
       "      <td>0.0</td>\n",
       "      <td>0.157713</td>\n",
       "      <td>0</td>\n",
       "      <td>3</td>\n",
       "      <td>3</td>\n",
       "    </tr>\n",
       "    <tr>\n",
       "      <th>518</th>\n",
       "      <td>ZAF</td>\n",
       "      <td>South Africa</td>\n",
       "      <td>Pretoria  Tshwane</td>\n",
       "      <td>5.314197e+07</td>\n",
       "      <td>28.188100</td>\n",
       "      <td>-25.746100</td>\n",
       "      <td>463.0730</td>\n",
       "      <td>1.5945</td>\n",
       "      <td>7.2565</td>\n",
       "      <td>325.9505</td>\n",
       "      <td>...</td>\n",
       "      <td>NaN</td>\n",
       "      <td>NaN</td>\n",
       "      <td>NaN</td>\n",
       "      <td>NaN</td>\n",
       "      <td>0.25</td>\n",
       "      <td>0.0</td>\n",
       "      <td>1.492470</td>\n",
       "      <td>0</td>\n",
       "      <td>1</td>\n",
       "      <td>3</td>\n",
       "    </tr>\n",
       "    <tr>\n",
       "      <th>519</th>\n",
       "      <td>ZAF</td>\n",
       "      <td>South Africa</td>\n",
       "      <td>Pretoria Tshwane</td>\n",
       "      <td>1.198473e+07</td>\n",
       "      <td>28.188056</td>\n",
       "      <td>-25.746111</td>\n",
       "      <td>466.7375</td>\n",
       "      <td>-0.2895</td>\n",
       "      <td>-2.1380</td>\n",
       "      <td>329.6395</td>\n",
       "      <td>...</td>\n",
       "      <td>NaN</td>\n",
       "      <td>NaN</td>\n",
       "      <td>NaN</td>\n",
       "      <td>NaN</td>\n",
       "      <td>0.00</td>\n",
       "      <td>0.0</td>\n",
       "      <td>0.149636</td>\n",
       "      <td>0</td>\n",
       "      <td>3</td>\n",
       "      <td>3</td>\n",
       "    </tr>\n",
       "    <tr>\n",
       "      <th>520</th>\n",
       "      <td>ZAF</td>\n",
       "      <td>South Africa</td>\n",
       "      <td>Steve Tshwete</td>\n",
       "      <td>3.303170e+07</td>\n",
       "      <td>NaN</td>\n",
       "      <td>NaN</td>\n",
       "      <td>NaN</td>\n",
       "      <td>NaN</td>\n",
       "      <td>NaN</td>\n",
       "      <td>NaN</td>\n",
       "      <td>...</td>\n",
       "      <td>NaN</td>\n",
       "      <td>NaN</td>\n",
       "      <td>NaN</td>\n",
       "      <td>NaN</td>\n",
       "      <td>0.00</td>\n",
       "      <td>0.0</td>\n",
       "      <td>0.836334</td>\n",
       "      <td>0</td>\n",
       "      <td>3</td>\n",
       "      <td>2</td>\n",
       "    </tr>\n",
       "  </tbody>\n",
       "</table>\n",
       "<p>521 rows × 89 columns</p>\n",
       "</div>"
      ],
      "text/plain": [
       "    Country Code          Country Name                City  \\\n",
       "0            ALB               Albania              Tirana   \n",
       "1            ARE  United Arab Emirates               Dubai   \n",
       "2            ARG             Argentina            Arequito   \n",
       "3            ARG             Argentina               Arias   \n",
       "4            ARG             Argentina           Armstrong   \n",
       "..           ...                   ...                 ...   \n",
       "516          ZAF          South Africa           KwaDukuza   \n",
       "517          ZAF          South Africa  Nelson Mandela Bay   \n",
       "518          ZAF          South Africa   Pretoria  Tshwane   \n",
       "519          ZAF          South Africa    Pretoria Tshwane   \n",
       "520          ZAF          South Africa       Steve Tshwete   \n",
       "\n",
       "     CDP_TotalEmissions  CDP_Longitude  CDP_Latitude  OWID_co2  \\\n",
       "0          6.107730e+05      19.818700     41.327500    5.4040   \n",
       "1          6.809123e+07      55.270800     25.204800       NaN   \n",
       "2          1.212827e+04            NaN           NaN       NaN   \n",
       "3          9.521671e+04            NaN           NaN       NaN   \n",
       "4          5.208305e+04            NaN           NaN       NaN   \n",
       "..                  ...            ...           ...       ...   \n",
       "516        1.008657e+06            NaN           NaN       NaN   \n",
       "517        1.223231e+07      25.568108    -33.745241  466.1030   \n",
       "518        5.314197e+07      28.188100    -25.746100  463.0730   \n",
       "519        1.198473e+07      28.188056    -25.746111  466.7375   \n",
       "520        3.303170e+07            NaN           NaN       NaN   \n",
       "\n",
       "     OWID_co2_growth_prct  OWID_co2_growth_abs  OWID_consumption_co2  ...  \\\n",
       "0                 20.2120               0.9090                6.1860  ...   \n",
       "1                     NaN                  NaN                   NaN  ...   \n",
       "2                     NaN                  NaN                   NaN  ...   \n",
       "3                     NaN                  NaN                   NaN  ...   \n",
       "4                     NaN                  NaN                   NaN  ...   \n",
       "..                    ...                  ...                   ...  ...   \n",
       "516                   NaN                  NaN                   NaN  ...   \n",
       "517                1.3170               6.0600              331.0130  ...   \n",
       "518                1.5945               7.2565              325.9505  ...   \n",
       "519               -0.2895              -2.1380              329.6395  ...   \n",
       "520                   NaN                  NaN                   NaN  ...   \n",
       "\n",
       "     City_Monetary Freedom  City_Trade Freedom  City_Investment Freedom  \\\n",
       "0                      NaN                 NaN                      NaN   \n",
       "1                      NaN                 NaN                      NaN   \n",
       "2                      NaN                 NaN                      NaN   \n",
       "3                      NaN                 NaN                      NaN   \n",
       "4                      NaN                 NaN                      NaN   \n",
       "..                     ...                 ...                      ...   \n",
       "516                    NaN                 NaN                      NaN   \n",
       "517                    NaN                 NaN                      NaN   \n",
       "518                    NaN                 NaN                      NaN   \n",
       "519                    NaN                 NaN                      NaN   \n",
       "520                    NaN                 NaN                      NaN   \n",
       "\n",
       "     City_Financial Freedom  inconsistent  pct_change2  TotalEmissions_std  \\\n",
       "0                       NaN          0.00          0.0           -0.221462   \n",
       "1                       NaN          0.00          0.0            1.980219   \n",
       "2                       NaN          0.00          0.0           -0.240994   \n",
       "3                       NaN          0.00          0.0           -0.238283   \n",
       "4                       NaN          0.00          0.0           -0.239690   \n",
       "..                      ...           ...          ...                 ...   \n",
       "516                     NaN          0.00          0.0           -0.208480   \n",
       "517                     NaN          0.00          0.0            0.157713   \n",
       "518                     NaN          0.25          0.0            1.492470   \n",
       "519                     NaN          0.00          0.0            0.149636   \n",
       "520                     NaN          0.00          0.0            0.836334   \n",
       "\n",
       "     Classif  CategClassif  cluster  \n",
       "0          0             3        3  \n",
       "1          0             3        2  \n",
       "2          0             3        2  \n",
       "3          0             3        2  \n",
       "4          0             3        2  \n",
       "..       ...           ...      ...  \n",
       "516        0             3        2  \n",
       "517        0             3        3  \n",
       "518        0             1        3  \n",
       "519        0             3        3  \n",
       "520        0             3        2  \n",
       "\n",
       "[521 rows x 89 columns]"
      ]
     },
     "execution_count": 4,
     "metadata": {},
     "output_type": "execute_result"
    }
   ],
   "source": [
    "df = pd.read_csv('../data/02_output/03_Clusters.csv', sep=',', index_col = ['Unnamed: 0'])\n",
    "df"
   ]
  },
  {
   "cell_type": "markdown",
   "metadata": {},
   "source": [
    "### Create Map"
   ]
  },
  {
   "cell_type": "code",
   "execution_count": 18,
   "metadata": {},
   "outputs": [
    {
     "ename": "TypeError",
     "evalue": "scatter_geo() got an unexpected keyword argument 'mode'",
     "output_type": "error",
     "traceback": [
      "\u001b[0;31m---------------------------------------------------------------------------\u001b[0m",
      "\u001b[0;31mTypeError\u001b[0m                                 Traceback (most recent call last)",
      "\u001b[0;32m<ipython-input-18-946f26234e40>\u001b[0m in \u001b[0;36m<module>\u001b[0;34m\u001b[0m\n\u001b[1;32m      1\u001b[0m \u001b[0;31m#Create map figure\u001b[0m\u001b[0;34m\u001b[0m\u001b[0;34m\u001b[0m\u001b[0;34m\u001b[0m\u001b[0m\n\u001b[0;32m----> 2\u001b[0;31m map_emissions = px.scatter_geo(\n\u001b[0m\u001b[1;32m      3\u001b[0m     \u001b[0mdf\u001b[0m\u001b[0;34m,\u001b[0m \u001b[0;31m#emissions data\u001b[0m\u001b[0;34m\u001b[0m\u001b[0;34m\u001b[0m\u001b[0m\n\u001b[1;32m      4\u001b[0m     \u001b[0mlat\u001b[0m \u001b[0;34m=\u001b[0m \u001b[0mdf\u001b[0m\u001b[0;34m[\u001b[0m\u001b[0;34m'City_Latitude'\u001b[0m\u001b[0;34m]\u001b[0m\u001b[0;34m,\u001b[0m \u001b[0;31m#latitude data\u001b[0m\u001b[0;34m\u001b[0m\u001b[0;34m\u001b[0m\u001b[0m\n\u001b[1;32m      5\u001b[0m     \u001b[0mlon\u001b[0m \u001b[0;34m=\u001b[0m \u001b[0mdf\u001b[0m\u001b[0;34m[\u001b[0m\u001b[0;34m'City_Longitude'\u001b[0m\u001b[0;34m]\u001b[0m\u001b[0;34m,\u001b[0m \u001b[0;31m#longitude data\u001b[0m\u001b[0;34m\u001b[0m\u001b[0;34m\u001b[0m\u001b[0m\n",
      "\u001b[0;31mTypeError\u001b[0m: scatter_geo() got an unexpected keyword argument 'mode'"
     ]
    }
   ],
   "source": [
    "#Create map figure \n",
    "map_emissions = px.scatter_geo(\n",
    "    df, #emissions data\n",
    "    lat = df['City_Latitude'], #latitude data\n",
    "    lon = df['City_Longitude'], #longitude data\n",
    "    #zoom = 0.5, #Starting zoom level\n",
    "    color = 'pct_change2', #Colored by Emissions per capita  \n",
    "    color_continuous_scale='RdYlGn_r', #Color scale for Emissions per capita\n",
    "    size = 'CDP_TotalEmissions', #size of markers based on Emissions\n",
    "    size_max = 50, #Create scale for marker sizes\n",
    "    opacity = .6,\n",
    "    #animation_frame = 'Year', #slider values\n",
    "    animation_frame = 'cluster', #Slider groups\n",
    "    hover_name = 'City',\n",
    "    hover_data = ['Country Name','CDP_TotalEmissions','City_Population'], #data to be displayed when mouse is hovered over point\n",
    "    #mapbox_style=\"carto-positron\", #for flat map\n",
    "    projection = 'natural earth',\n",
    "    mode = 'markers',\n",
    "    marker = dict(\n",
    "            size = 8,\n",
    "            opacity = 0.8,\n",
    "            reversescale = True)\n",
    ")"
   ]
  },
  {
   "cell_type": "code",
   "execution_count": 19,
   "metadata": {},
   "outputs": [
    {
     "data": {
      "application/vnd.plotly.v1+json": {
       "config": {
        "plotlyServerURL": "https://plot.ly"
       },
       "data": [
        {
         "customdata": [
          [
           "Albania",
           610773,
           null
          ],
          [
           "Argentina",
           15258800.244285716,
           3016817
          ],
          [
           "Argentina",
           5004314.333333333,
           null
          ],
          [
           "Argentina",
           395490.62,
           null
          ],
          [
           "Argentina",
           54024257,
           115041
          ],
          [
           "Argentina",
           938987,
           null
          ],
          [
           "Bulgaria",
           4867839.116666666,
           1402665.5
          ],
          [
           "Bulgaria",
           1104,
           null
          ],
          [
           "Bolivia",
           1380.95,
           null
          ],
          [
           "Brazil",
           1082862,
           null
          ],
          [
           "Brazil",
           3556507.551428572,
           2463719.666666667
          ],
          [
           "Brazil",
           3699985.5,
           null
          ],
          [
           "Brazil",
           773983,
           null
          ],
          [
           "Brazil",
           3615331.333333334,
           1822952
          ],
          [
           "Brazil",
           131925.96,
           null
          ],
          [
           "Brazil",
           1258134.142857143,
           null
          ],
          [
           "Brazil",
           4559979.4095,
           null
          ],
          [
           "Brazil",
           2016320,
           null
          ],
          [
           "Brazil",
           548195.98,
           null
          ],
          [
           "Brazil",
           2726421.666666666,
           null
          ],
          [
           "Brazil",
           1195051,
           null
          ],
          [
           "Brazil",
           1580803.45,
           null
          ],
          [
           "Brazil",
           625391.59,
           null
          ],
          [
           "Brazil",
           2590161.5,
           null
          ],
          [
           "Brazil",
           17164389.21,
           null
          ],
          [
           "Brazil",
           959544.652,
           1619576
          ],
          [
           "Brazil",
           18492265.03,
           null
          ],
          [
           "Brazil",
           3520657.75,
           null
          ],
          [
           "Brazil",
           15622980.5,
           null
          ],
          [
           "Brazil",
           1131824.6,
           661991
          ],
          [
           "Brazil",
           3127795.465,
           null
          ],
          [
           "Chile",
           24003572.3,
           7399031.6
          ],
          [
           "Colombia",
           14465150.51,
           null
          ],
          [
           "Colombia",
           4615846.279999998,
           null
          ],
          [
           "Colombia",
           2330487,
           null
          ],
          [
           "Colombia",
           2784141,
           null
          ],
          [
           "Colombia",
           903.738,
           null
          ],
          [
           "Colombia",
           4174608,
           null
          ],
          [
           "Colombia",
           208681,
           null
          ],
          [
           "Comoros",
           45274,
           null
          ],
          [
           "Costa Rica",
           988760.71,
           null
          ],
          [
           "Ecuador",
           5264282,
           2239191
          ],
          [
           "Ecuador",
           6787374,
           null
          ],
          [
           "Spain",
           3579483,
           1617601.5
          ],
          [
           "Spain",
           10930773.285714284,
           2397950.5
          ],
          [
           "Spain",
           1734423.59,
           null
          ],
          [
           "Spain",
           2409104.5,
           674097.4
          ],
          [
           "Ethiopia",
           4376076,
           3516188.6
          ],
          [
           "France",
           2150000,
           null
          ],
          [
           "France",
           2770589.5,
           550000
          ],
          [
           "France",
           6342506.857142857,
           2242245.333333333
          ],
          [
           "Ghana",
           1092173,
           null
          ],
          [
           "Greece",
           4427191.833333333,
           664046
          ],
          [
           "Honduras",
           5034285.89,
           null
          ],
          [
           "Indonesia",
           2193642,
           null
          ],
          [
           "Indonesia",
           28665451.07,
           10216080.5
          ],
          [
           "Italy",
           2203176.6025,
           null
          ],
          [
           "Italy",
           1582605.13,
           null
          ],
          [
           "Italy",
           1630308,
           null
          ],
          [
           "Italy",
           1999159.666666667,
           null
          ],
          [
           "Italy",
           6065119.020000001,
           null
          ],
          [
           "Italy",
           2913435,
           null
          ],
          [
           "Italy",
           2736378.5,
           null
          ],
          [
           "Italy",
           154534,
           null
          ],
          [
           "Italy",
           1892158,
           null
          ],
          [
           "Italy",
           615452,
           null
          ],
          [
           "Italy",
           10372.5,
           235996
          ],
          [
           "Italy",
           12216361.666666664,
           2148980.4035
          ],
          [
           "Italy",
           4028611.75,
           885408.6
          ],
          [
           "Italy",
           5065364,
           null
          ],
          [
           "Italy",
           613588,
           null
          ],
          [
           "Italy",
           2743488.5,
           261169.75
          ],
          [
           "Jordan",
           8537852.2,
           3777487.25
          ],
          [
           "Mexico",
           14330261,
           null
          ],
          [
           "Mexico",
           1131908.75,
           null
          ],
          [
           "Mexico",
           3905713,
           null
          ],
          [
           "Mexico",
           5012357,
           null
          ],
          [
           "Mexico",
           26368231.80571429,
           null
          ],
          [
           "Mexico",
           2673675.995,
           null
          ],
          [
           "Nigeria",
           10000,
           6091589
          ],
          [
           "Nigeria",
           29476644.25,
           null
          ],
          [
           "Peru",
           15551216,
           9120333.5
          ],
          [
           "Peru",
           227023.265,
           null
          ],
          [
           "Philippines",
           428998,
           343314
          ],
          [
           "Philippines",
           1061478,
           null
          ],
          [
           "Philippines",
           788108,
           null
          ],
          [
           "Portugal",
           258882,
           null
          ],
          [
           "Portugal",
           287419.66666666674,
           78764
          ],
          [
           "Portugal",
           18052.325594,
           null
          ],
          [
           "Portugal",
           618626.2,
           210298
          ],
          [
           "Portugal",
           170264.8,
           null
          ],
          [
           "Portugal",
           260.88750000000005,
           61059
          ],
          [
           "Portugal",
           401595,
           null
          ],
          [
           "Portugal",
           2556307.5,
           547753
          ],
          [
           "Portugal",
           65293.74333333334,
           66029
          ],
          [
           "Portugal",
           1084516.166666667,
           238272.5
          ],
          [
           "Portugal",
           242554,
           null
          ],
          [
           "Portugal",
           415526,
           null
          ],
          [
           "Portugal",
           267988.5,
           null
          ],
          [
           "Thailand",
           47240334,
           null
          ],
          [
           "Turkey",
           758627,
           null
          ],
          [
           "Turkey",
           50341916,
           null
          ],
          [
           "Turkey",
           485.55,
           226.8
          ],
          [
           "Turkey",
           546.6666666666666,
           226.8
          ],
          [
           "Uruguay",
           3726857,
           null
          ],
          [
           "Venezuela",
           17561958.8,
           3518590
          ],
          [
           "Vietnam",
           32563662.5,
           null
          ],
          [
           "South Africa",
           21929248.031666666,
           null
          ],
          [
           "South Africa",
           19577428.666666668,
           10652765.4
          ],
          [
           "South Africa",
           16195880.044000002,
           5101095.25
          ],
          [
           "South Africa",
           12232310,
           null
          ],
          [
           "South Africa",
           53141968.66666666,
           null
          ],
          [
           "South Africa",
           11984729,
           null
          ]
         ],
         "geo": "geo",
         "hovertemplate": "<b>%{hovertext}</b><br><br>cluster=3<br>CDP_TotalEmissions=%{customdata[1]}<br>City_Latitude=%{lat}<br>City_Longitude=%{lon}<br>Country Name=%{customdata[0]}<br>City_Population=%{customdata[2]}<br>pct_change2=%{marker.color}<extra></extra>",
         "hovertext": [
          "Tirana",
          "Buenos Aires",
          "Cordoba",
          "General Alvear Buenos Aires",
          "Mendoza",
          "Rio Grande",
          "Sofia",
          "Stara Zagora",
          "La Paz",
          "Aracaju",
          "Belo Horizonte",
          "Betim",
          "Brasilia",
          "Curitiba",
          "Extrema",
          "Florianopolis",
          "Fortaleza",
          "Goiania",
          "Guaratingueta",
          "Joao Pessoa",
          "Londrina",
          "Niteroi",
          "Palmas",
          "Porto Alegre",
          "Porto Velho",
          "Recife",
          "RioJaneiro",
          "Salvador",
          "Sao Paulo",
          "Sorocaba",
          "Vitoria",
          "Santiago",
          "Bogota",
          "Cali",
          "Ibague",
          "Medellin",
          "Monteria",
          "SantiagoCali",
          "Tulua",
          "Moroni",
          "San Jose",
          "Quito",
          "SantiagoGuayaquil",
          "Barcelona",
          "Madrid",
          "Valencia",
          "Zaragoza",
          "Addis Ababa",
          "Nancy",
          "Nice",
          "Paris",
          "Accra",
          "Athens",
          "Tegucigalpa",
          "Bogor",
          "Jakarta",
          "Bologna",
          "Ferrara",
          "Firenze",
          "Genova",
          "Milano",
          "Naples",
          "Napoli",
          "Oristano",
          "Padova",
          "Piacenza",
          "Ravenna",
          "Roma",
          "Torino",
          "Turin",
          "Udine",
          "Venezia",
          "Amman",
          "Chihuahua",
          "Cuernevaca",
          "Guadalajara",
          "Leonlos Aldamas",
          "Mexico",
          "San Luis Potosi",
          "Ibadan",
          "Lagos",
          "Lima",
          "San Isidro Lima",
          "Batangas",
          "Makati",
          "Paranaque",
          "Agueda",
          "Barreiro",
          "CamaraLobos",
          "Cascais",
          "Fafe",
          "Faro",
          "Guimaraes",
          "Lisbon",
          "Moita",
          "Porto",
          "Santarem",
          "Seixal",
          "Torres Vedras",
          "Bangkok",
          "Bornova",
          "Istanbul",
          "Kadiovacik",
          "Urla",
          "Montevideo",
          "Caracas",
          "Ho Chi Minh",
          "Cape",
          "Durban",
          "Johannesburg",
          "Nelson Mandela Bay",
          "Pretoria  Tshwane",
          "Pretoria Tshwane"
         ],
         "lat": [
          null,
          -34.603723200000005,
          null,
          null,
          -32.8894,
          null,
          42.6977,
          null,
          null,
          null,
          -19.9167,
          null,
          null,
          8.309021000000001,
          null,
          null,
          null,
          null,
          null,
          null,
          null,
          null,
          null,
          null,
          null,
          8.3127386,
          null,
          null,
          null,
          -23.4774899,
          null,
          -33.469119899999995,
          null,
          null,
          null,
          null,
          null,
          null,
          null,
          null,
          null,
          -0.2333,
          null,
          41.382271,
          40.4167754,
          null,
          41.6488226,
          9.028874,
          null,
          43.710173,
          48.856614,
          null,
          37.98381,
          null,
          null,
          -6.2087634000000005,
          null,
          null,
          null,
          null,
          null,
          null,
          null,
          null,
          null,
          null,
          41.913028000000004,
          41.8723889,
          45.070312,
          null,
          null,
          45.440847399999996,
          31.945366999999997,
          null,
          null,
          null,
          null,
          null,
          null,
          7.377535000000001,
          null,
          -12.046374,
          null,
          13.756464999999999,
          null,
          null,
          null,
          38.660815,
          null,
          38.6970565,
          null,
          57.9441874,
          null,
          38.722252399999995,
          41.30284,
          41.1579438,
          null,
          null,
          null,
          null,
          null,
          null,
          38.3434574,
          38.3434574,
          null,
          10.469640400000001,
          null,
          null,
          -29.8586804,
          -26.2041028,
          null,
          null,
          null
         ],
         "legendgroup": "",
         "lon": [
          null,
          -58.381593099999996,
          null,
          null,
          -68.8458,
          null,
          23.3219,
          null,
          null,
          null,
          -43.9333,
          null,
          null,
          -62.7288829,
          null,
          null,
          null,
          null,
          null,
          null,
          null,
          null,
          null,
          null,
          null,
          -62.7284414,
          null,
          null,
          null,
          -47.4220615,
          null,
          -70.641997,
          null,
          null,
          null,
          null,
          null,
          null,
          null,
          null,
          null,
          -78.5167,
          null,
          2.177506,
          -3.7037902000000003,
          null,
          -0.8890853000000001,
          38.754366,
          null,
          7.261953,
          2.3522218999999995,
          null,
          23.727539,
          null,
          null,
          106.84559899999999,
          null,
          null,
          null,
          null,
          null,
          null,
          null,
          null,
          null,
          null,
          12.518037,
          12.4801802,
          7.6868565,
          null,
          null,
          12.315515099999999,
          35.928371999999996,
          null,
          null,
          null,
          null,
          null,
          null,
          3.9470400000000003,
          null,
          -77.042793,
          null,
          121.05830800000001,
          null,
          null,
          null,
          -9.079072,
          null,
          -9.4222945,
          null,
          19.1424789,
          null,
          -9.1393366,
          -8.65731,
          -8.6291053,
          null,
          null,
          null,
          null,
          null,
          null,
          26.553613000000002,
          26.553613000000002,
          null,
          -66.8037185,
          null,
          null,
          31.0218404,
          28.04730510000001,
          null,
          null,
          null
         ],
         "marker": {
          "color": [
           0,
           0.1857142857142857,
           -0.03333333333333333,
           0,
           0,
           0.05,
           0.13333333333333333,
           0,
           -0.05,
           0.05,
           0.07142857142857142,
           -0.35,
           0,
           0.05,
           0,
           0.5428571428571428,
           0,
           0,
           0,
           0.03333333333333333,
           -0.06666666666666668,
           0.05,
           0,
           -0.1,
           0,
           0.07999999999999999,
           0.1285714285714286,
           -0.05,
           0.025,
           0.03333333333333333,
           0.1,
           0.05000000000000001,
           -0.03333333333333333,
           0,
           0,
           0,
           0,
           0,
           0,
           0.1,
           0,
           0,
           0,
           0.05,
           0,
           0,
           -0.1,
           0.2,
           0,
           -0.1,
           0.11428571428571427,
           0,
           0,
           0,
           0,
           -0.28,
           -0.025,
           0,
           0,
           -0.06666666666666668,
           0,
           0,
           -0.05,
           0,
           0,
           0,
           -0.1,
           0.2333333333333333,
           -0.025,
           0,
           0,
           0,
           0.14,
           0,
           0,
           0,
           0,
           0.014285714285714282,
           -0.35,
           0,
           0,
           0,
           -0.3,
           -0.09999999999999998,
           -0.35,
           0,
           0,
           0,
           0,
           0.1,
           0.02,
           -0.025,
           0,
           -0.05000000000000001,
           -0.3333333333333333,
           -0.05000000000000001,
           -0.275,
           0,
           0.05,
           0,
           0,
           0.05,
           -0.08,
           1.1,
           -0.1,
           0,
           0.1,
           0,
           0.26666666666666666,
           -0.1,
           0,
           0,
           0
          ],
          "coloraxis": "coloraxis",
          "opacity": 0.6,
          "size": [
           610773,
           15258800.244285716,
           5004314.333333333,
           395490.62,
           54024257,
           938987,
           4867839.116666666,
           1104,
           1380.95,
           1082862,
           3556507.551428572,
           3699985.5,
           773983,
           3615331.333333334,
           131925.96,
           1258134.142857143,
           4559979.4095,
           2016320,
           548195.98,
           2726421.666666666,
           1195051,
           1580803.45,
           625391.59,
           2590161.5,
           17164389.21,
           959544.652,
           18492265.03,
           3520657.75,
           15622980.5,
           1131824.6,
           3127795.465,
           24003572.3,
           14465150.51,
           4615846.279999998,
           2330487,
           2784141,
           903.738,
           4174608,
           208681,
           45274,
           988760.71,
           5264282,
           6787374,
           3579483,
           10930773.285714284,
           1734423.59,
           2409104.5,
           4376076,
           2150000,
           2770589.5,
           6342506.857142857,
           1092173,
           4427191.833333333,
           5034285.89,
           2193642,
           28665451.07,
           2203176.6025,
           1582605.13,
           1630308,
           1999159.666666667,
           6065119.020000001,
           2913435,
           2736378.5,
           154534,
           1892158,
           615452,
           10372.5,
           12216361.666666664,
           4028611.75,
           5065364,
           613588,
           2743488.5,
           8537852.2,
           14330261,
           1131908.75,
           3905713,
           5012357,
           26368231.80571429,
           2673675.995,
           10000,
           29476644.25,
           15551216,
           227023.265,
           428998,
           1061478,
           788108,
           258882,
           287419.66666666674,
           18052.325594,
           618626.2,
           170264.8,
           260.88750000000005,
           401595,
           2556307.5,
           65293.74333333334,
           1084516.166666667,
           242554,
           415526,
           267988.5,
           47240334,
           758627,
           50341916,
           485.55,
           546.6666666666666,
           3726857,
           17561958.8,
           32563662.5,
           21929248.031666666,
           19577428.666666668,
           16195880.044000002,
           12232310,
           53141968.66666666,
           11984729
          ],
          "sizemode": "area",
          "sizeref": 202340.8396,
          "symbol": "circle"
         },
         "mode": "markers",
         "name": "",
         "showlegend": false,
         "type": "scattergeo"
        }
       ],
       "frames": [
        {
         "data": [
          {
           "customdata": [
            [
             "Albania",
             610773,
             null
            ],
            [
             "Argentina",
             15258800.244285716,
             3016817
            ],
            [
             "Argentina",
             5004314.333333333,
             null
            ],
            [
             "Argentina",
             395490.62,
             null
            ],
            [
             "Argentina",
             54024257,
             115041
            ],
            [
             "Argentina",
             938987,
             null
            ],
            [
             "Bulgaria",
             4867839.116666666,
             1402665.5
            ],
            [
             "Bulgaria",
             1104,
             null
            ],
            [
             "Bolivia",
             1380.95,
             null
            ],
            [
             "Brazil",
             1082862,
             null
            ],
            [
             "Brazil",
             3556507.551428572,
             2463719.666666667
            ],
            [
             "Brazil",
             3699985.5,
             null
            ],
            [
             "Brazil",
             773983,
             null
            ],
            [
             "Brazil",
             3615331.333333334,
             1822952
            ],
            [
             "Brazil",
             131925.96,
             null
            ],
            [
             "Brazil",
             1258134.142857143,
             null
            ],
            [
             "Brazil",
             4559979.4095,
             null
            ],
            [
             "Brazil",
             2016320,
             null
            ],
            [
             "Brazil",
             548195.98,
             null
            ],
            [
             "Brazil",
             2726421.666666666,
             null
            ],
            [
             "Brazil",
             1195051,
             null
            ],
            [
             "Brazil",
             1580803.45,
             null
            ],
            [
             "Brazil",
             625391.59,
             null
            ],
            [
             "Brazil",
             2590161.5,
             null
            ],
            [
             "Brazil",
             17164389.21,
             null
            ],
            [
             "Brazil",
             959544.652,
             1619576
            ],
            [
             "Brazil",
             18492265.03,
             null
            ],
            [
             "Brazil",
             3520657.75,
             null
            ],
            [
             "Brazil",
             15622980.5,
             null
            ],
            [
             "Brazil",
             1131824.6,
             661991
            ],
            [
             "Brazil",
             3127795.465,
             null
            ],
            [
             "Chile",
             24003572.3,
             7399031.6
            ],
            [
             "Colombia",
             14465150.51,
             null
            ],
            [
             "Colombia",
             4615846.279999998,
             null
            ],
            [
             "Colombia",
             2330487,
             null
            ],
            [
             "Colombia",
             2784141,
             null
            ],
            [
             "Colombia",
             903.738,
             null
            ],
            [
             "Colombia",
             4174608,
             null
            ],
            [
             "Colombia",
             208681,
             null
            ],
            [
             "Comoros",
             45274,
             null
            ],
            [
             "Costa Rica",
             988760.71,
             null
            ],
            [
             "Ecuador",
             5264282,
             2239191
            ],
            [
             "Ecuador",
             6787374,
             null
            ],
            [
             "Spain",
             3579483,
             1617601.5
            ],
            [
             "Spain",
             10930773.285714284,
             2397950.5
            ],
            [
             "Spain",
             1734423.59,
             null
            ],
            [
             "Spain",
             2409104.5,
             674097.4
            ],
            [
             "Ethiopia",
             4376076,
             3516188.6
            ],
            [
             "France",
             2150000,
             null
            ],
            [
             "France",
             2770589.5,
             550000
            ],
            [
             "France",
             6342506.857142857,
             2242245.333333333
            ],
            [
             "Ghana",
             1092173,
             null
            ],
            [
             "Greece",
             4427191.833333333,
             664046
            ],
            [
             "Honduras",
             5034285.89,
             null
            ],
            [
             "Indonesia",
             2193642,
             null
            ],
            [
             "Indonesia",
             28665451.07,
             10216080.5
            ],
            [
             "Italy",
             2203176.6025,
             null
            ],
            [
             "Italy",
             1582605.13,
             null
            ],
            [
             "Italy",
             1630308,
             null
            ],
            [
             "Italy",
             1999159.666666667,
             null
            ],
            [
             "Italy",
             6065119.020000001,
             null
            ],
            [
             "Italy",
             2913435,
             null
            ],
            [
             "Italy",
             2736378.5,
             null
            ],
            [
             "Italy",
             154534,
             null
            ],
            [
             "Italy",
             1892158,
             null
            ],
            [
             "Italy",
             615452,
             null
            ],
            [
             "Italy",
             10372.5,
             235996
            ],
            [
             "Italy",
             12216361.666666664,
             2148980.4035
            ],
            [
             "Italy",
             4028611.75,
             885408.6
            ],
            [
             "Italy",
             5065364,
             null
            ],
            [
             "Italy",
             613588,
             null
            ],
            [
             "Italy",
             2743488.5,
             261169.75
            ],
            [
             "Jordan",
             8537852.2,
             3777487.25
            ],
            [
             "Mexico",
             14330261,
             null
            ],
            [
             "Mexico",
             1131908.75,
             null
            ],
            [
             "Mexico",
             3905713,
             null
            ],
            [
             "Mexico",
             5012357,
             null
            ],
            [
             "Mexico",
             26368231.80571429,
             null
            ],
            [
             "Mexico",
             2673675.995,
             null
            ],
            [
             "Nigeria",
             10000,
             6091589
            ],
            [
             "Nigeria",
             29476644.25,
             null
            ],
            [
             "Peru",
             15551216,
             9120333.5
            ],
            [
             "Peru",
             227023.265,
             null
            ],
            [
             "Philippines",
             428998,
             343314
            ],
            [
             "Philippines",
             1061478,
             null
            ],
            [
             "Philippines",
             788108,
             null
            ],
            [
             "Portugal",
             258882,
             null
            ],
            [
             "Portugal",
             287419.66666666674,
             78764
            ],
            [
             "Portugal",
             18052.325594,
             null
            ],
            [
             "Portugal",
             618626.2,
             210298
            ],
            [
             "Portugal",
             170264.8,
             null
            ],
            [
             "Portugal",
             260.88750000000005,
             61059
            ],
            [
             "Portugal",
             401595,
             null
            ],
            [
             "Portugal",
             2556307.5,
             547753
            ],
            [
             "Portugal",
             65293.74333333334,
             66029
            ],
            [
             "Portugal",
             1084516.166666667,
             238272.5
            ],
            [
             "Portugal",
             242554,
             null
            ],
            [
             "Portugal",
             415526,
             null
            ],
            [
             "Portugal",
             267988.5,
             null
            ],
            [
             "Thailand",
             47240334,
             null
            ],
            [
             "Turkey",
             758627,
             null
            ],
            [
             "Turkey",
             50341916,
             null
            ],
            [
             "Turkey",
             485.55,
             226.8
            ],
            [
             "Turkey",
             546.6666666666666,
             226.8
            ],
            [
             "Uruguay",
             3726857,
             null
            ],
            [
             "Venezuela",
             17561958.8,
             3518590
            ],
            [
             "Vietnam",
             32563662.5,
             null
            ],
            [
             "South Africa",
             21929248.031666666,
             null
            ],
            [
             "South Africa",
             19577428.666666668,
             10652765.4
            ],
            [
             "South Africa",
             16195880.044000002,
             5101095.25
            ],
            [
             "South Africa",
             12232310,
             null
            ],
            [
             "South Africa",
             53141968.66666666,
             null
            ],
            [
             "South Africa",
             11984729,
             null
            ]
           ],
           "geo": "geo",
           "hovertemplate": "<b>%{hovertext}</b><br><br>cluster=3<br>CDP_TotalEmissions=%{customdata[1]}<br>City_Latitude=%{lat}<br>City_Longitude=%{lon}<br>Country Name=%{customdata[0]}<br>City_Population=%{customdata[2]}<br>pct_change2=%{marker.color}<extra></extra>",
           "hovertext": [
            "Tirana",
            "Buenos Aires",
            "Cordoba",
            "General Alvear Buenos Aires",
            "Mendoza",
            "Rio Grande",
            "Sofia",
            "Stara Zagora",
            "La Paz",
            "Aracaju",
            "Belo Horizonte",
            "Betim",
            "Brasilia",
            "Curitiba",
            "Extrema",
            "Florianopolis",
            "Fortaleza",
            "Goiania",
            "Guaratingueta",
            "Joao Pessoa",
            "Londrina",
            "Niteroi",
            "Palmas",
            "Porto Alegre",
            "Porto Velho",
            "Recife",
            "RioJaneiro",
            "Salvador",
            "Sao Paulo",
            "Sorocaba",
            "Vitoria",
            "Santiago",
            "Bogota",
            "Cali",
            "Ibague",
            "Medellin",
            "Monteria",
            "SantiagoCali",
            "Tulua",
            "Moroni",
            "San Jose",
            "Quito",
            "SantiagoGuayaquil",
            "Barcelona",
            "Madrid",
            "Valencia",
            "Zaragoza",
            "Addis Ababa",
            "Nancy",
            "Nice",
            "Paris",
            "Accra",
            "Athens",
            "Tegucigalpa",
            "Bogor",
            "Jakarta",
            "Bologna",
            "Ferrara",
            "Firenze",
            "Genova",
            "Milano",
            "Naples",
            "Napoli",
            "Oristano",
            "Padova",
            "Piacenza",
            "Ravenna",
            "Roma",
            "Torino",
            "Turin",
            "Udine",
            "Venezia",
            "Amman",
            "Chihuahua",
            "Cuernevaca",
            "Guadalajara",
            "Leonlos Aldamas",
            "Mexico",
            "San Luis Potosi",
            "Ibadan",
            "Lagos",
            "Lima",
            "San Isidro Lima",
            "Batangas",
            "Makati",
            "Paranaque",
            "Agueda",
            "Barreiro",
            "CamaraLobos",
            "Cascais",
            "Fafe",
            "Faro",
            "Guimaraes",
            "Lisbon",
            "Moita",
            "Porto",
            "Santarem",
            "Seixal",
            "Torres Vedras",
            "Bangkok",
            "Bornova",
            "Istanbul",
            "Kadiovacik",
            "Urla",
            "Montevideo",
            "Caracas",
            "Ho Chi Minh",
            "Cape",
            "Durban",
            "Johannesburg",
            "Nelson Mandela Bay",
            "Pretoria  Tshwane",
            "Pretoria Tshwane"
           ],
           "lat": [
            null,
            -34.603723200000005,
            null,
            null,
            -32.8894,
            null,
            42.6977,
            null,
            null,
            null,
            -19.9167,
            null,
            null,
            8.309021000000001,
            null,
            null,
            null,
            null,
            null,
            null,
            null,
            null,
            null,
            null,
            null,
            8.3127386,
            null,
            null,
            null,
            -23.4774899,
            null,
            -33.469119899999995,
            null,
            null,
            null,
            null,
            null,
            null,
            null,
            null,
            null,
            -0.2333,
            null,
            41.382271,
            40.4167754,
            null,
            41.6488226,
            9.028874,
            null,
            43.710173,
            48.856614,
            null,
            37.98381,
            null,
            null,
            -6.2087634000000005,
            null,
            null,
            null,
            null,
            null,
            null,
            null,
            null,
            null,
            null,
            41.913028000000004,
            41.8723889,
            45.070312,
            null,
            null,
            45.440847399999996,
            31.945366999999997,
            null,
            null,
            null,
            null,
            null,
            null,
            7.377535000000001,
            null,
            -12.046374,
            null,
            13.756464999999999,
            null,
            null,
            null,
            38.660815,
            null,
            38.6970565,
            null,
            57.9441874,
            null,
            38.722252399999995,
            41.30284,
            41.1579438,
            null,
            null,
            null,
            null,
            null,
            null,
            38.3434574,
            38.3434574,
            null,
            10.469640400000001,
            null,
            null,
            -29.8586804,
            -26.2041028,
            null,
            null,
            null
           ],
           "legendgroup": "",
           "lon": [
            null,
            -58.381593099999996,
            null,
            null,
            -68.8458,
            null,
            23.3219,
            null,
            null,
            null,
            -43.9333,
            null,
            null,
            -62.7288829,
            null,
            null,
            null,
            null,
            null,
            null,
            null,
            null,
            null,
            null,
            null,
            -62.7284414,
            null,
            null,
            null,
            -47.4220615,
            null,
            -70.641997,
            null,
            null,
            null,
            null,
            null,
            null,
            null,
            null,
            null,
            -78.5167,
            null,
            2.177506,
            -3.7037902000000003,
            null,
            -0.8890853000000001,
            38.754366,
            null,
            7.261953,
            2.3522218999999995,
            null,
            23.727539,
            null,
            null,
            106.84559899999999,
            null,
            null,
            null,
            null,
            null,
            null,
            null,
            null,
            null,
            null,
            12.518037,
            12.4801802,
            7.6868565,
            null,
            null,
            12.315515099999999,
            35.928371999999996,
            null,
            null,
            null,
            null,
            null,
            null,
            3.9470400000000003,
            null,
            -77.042793,
            null,
            121.05830800000001,
            null,
            null,
            null,
            -9.079072,
            null,
            -9.4222945,
            null,
            19.1424789,
            null,
            -9.1393366,
            -8.65731,
            -8.6291053,
            null,
            null,
            null,
            null,
            null,
            null,
            26.553613000000002,
            26.553613000000002,
            null,
            -66.8037185,
            null,
            null,
            31.0218404,
            28.04730510000001,
            null,
            null,
            null
           ],
           "marker": {
            "color": [
             0,
             0.1857142857142857,
             -0.03333333333333333,
             0,
             0,
             0.05,
             0.13333333333333333,
             0,
             -0.05,
             0.05,
             0.07142857142857142,
             -0.35,
             0,
             0.05,
             0,
             0.5428571428571428,
             0,
             0,
             0,
             0.03333333333333333,
             -0.06666666666666668,
             0.05,
             0,
             -0.1,
             0,
             0.07999999999999999,
             0.1285714285714286,
             -0.05,
             0.025,
             0.03333333333333333,
             0.1,
             0.05000000000000001,
             -0.03333333333333333,
             0,
             0,
             0,
             0,
             0,
             0,
             0.1,
             0,
             0,
             0,
             0.05,
             0,
             0,
             -0.1,
             0.2,
             0,
             -0.1,
             0.11428571428571427,
             0,
             0,
             0,
             0,
             -0.28,
             -0.025,
             0,
             0,
             -0.06666666666666668,
             0,
             0,
             -0.05,
             0,
             0,
             0,
             -0.1,
             0.2333333333333333,
             -0.025,
             0,
             0,
             0,
             0.14,
             0,
             0,
             0,
             0,
             0.014285714285714282,
             -0.35,
             0,
             0,
             0,
             -0.3,
             -0.09999999999999998,
             -0.35,
             0,
             0,
             0,
             0,
             0.1,
             0.02,
             -0.025,
             0,
             -0.05000000000000001,
             -0.3333333333333333,
             -0.05000000000000001,
             -0.275,
             0,
             0.05,
             0,
             0,
             0.05,
             -0.08,
             1.1,
             -0.1,
             0,
             0.1,
             0,
             0.26666666666666666,
             -0.1,
             0,
             0,
             0
            ],
            "coloraxis": "coloraxis",
            "opacity": 0.6,
            "size": [
             610773,
             15258800.244285716,
             5004314.333333333,
             395490.62,
             54024257,
             938987,
             4867839.116666666,
             1104,
             1380.95,
             1082862,
             3556507.551428572,
             3699985.5,
             773983,
             3615331.333333334,
             131925.96,
             1258134.142857143,
             4559979.4095,
             2016320,
             548195.98,
             2726421.666666666,
             1195051,
             1580803.45,
             625391.59,
             2590161.5,
             17164389.21,
             959544.652,
             18492265.03,
             3520657.75,
             15622980.5,
             1131824.6,
             3127795.465,
             24003572.3,
             14465150.51,
             4615846.279999998,
             2330487,
             2784141,
             903.738,
             4174608,
             208681,
             45274,
             988760.71,
             5264282,
             6787374,
             3579483,
             10930773.285714284,
             1734423.59,
             2409104.5,
             4376076,
             2150000,
             2770589.5,
             6342506.857142857,
             1092173,
             4427191.833333333,
             5034285.89,
             2193642,
             28665451.07,
             2203176.6025,
             1582605.13,
             1630308,
             1999159.666666667,
             6065119.020000001,
             2913435,
             2736378.5,
             154534,
             1892158,
             615452,
             10372.5,
             12216361.666666664,
             4028611.75,
             5065364,
             613588,
             2743488.5,
             8537852.2,
             14330261,
             1131908.75,
             3905713,
             5012357,
             26368231.80571429,
             2673675.995,
             10000,
             29476644.25,
             15551216,
             227023.265,
             428998,
             1061478,
             788108,
             258882,
             287419.66666666674,
             18052.325594,
             618626.2,
             170264.8,
             260.88750000000005,
             401595,
             2556307.5,
             65293.74333333334,
             1084516.166666667,
             242554,
             415526,
             267988.5,
             47240334,
             758627,
             50341916,
             485.55,
             546.6666666666666,
             3726857,
             17561958.8,
             32563662.5,
             21929248.031666666,
             19577428.666666668,
             16195880.044000002,
             12232310,
             53141968.66666666,
             11984729
            ],
            "sizemode": "area",
            "sizeref": 202340.8396,
            "symbol": "circle"
           },
           "mode": "markers",
           "name": "",
           "showlegend": false,
           "type": "scattergeo"
          }
         ],
         "name": "3"
        },
        {
         "data": [
          {
           "customdata": [
            [
             "United Arab Emirates",
             68091232,
             null
            ],
            [
             "Argentina",
             12128.27,
             null
            ],
            [
             "Argentina",
             95216.71,
             null
            ],
            [
             "Argentina",
             52083.05,
             null
            ],
            [
             "Argentina",
             27857.38,
             null
            ],
            [
             "Argentina",
             1533903.26,
             null
            ],
            [
             "Argentina",
             96806.11,
             null
            ],
            [
             "Argentina",
             668545.8,
             null
            ],
            [
             "Argentina",
             91022.88,
             null
            ],
            [
             "Argentina",
             104047.77,
             null
            ],
            [
             "Argentina",
             20938.19,
             null
            ],
            [
             "Argentina",
             18734.57,
             null
            ],
            [
             "Argentina",
             662343.5599999999,
             null
            ],
            [
             "Argentina",
             39023.24,
             null
            ],
            [
             "Argentina",
             58070.21,
             null
            ],
            [
             "Argentina",
             791744.47,
             null
            ],
            [
             "Argentina",
             37604.54,
             null
            ],
            [
             "Argentina",
             130575.32,
             null
            ],
            [
             "Argentina",
             27730.33,
             null
            ],
            [
             "Argentina",
             443795.38,
             null
            ],
            [
             "Argentina",
             794110.6799999998,
             null
            ],
            [
             "Argentina",
             775221.69,
             null
            ],
            [
             "Argentina",
             37701.46,
             null
            ],
            [
             "Argentina",
             52603.15,
             null
            ],
            [
             "Argentina",
             44050.65,
             null
            ],
            [
             "Argentina",
             634302.97,
             null
            ],
            [
             "Argentina",
             27505.85,
             null
            ],
            [
             "Argentina",
             457265.28,
             null
            ],
            [
             "Argentina",
             3838.13,
             null
            ],
            [
             "Argentina",
             49149.11,
             null
            ],
            [
             "Argentina",
             48468.27,
             null
            ],
            [
             "Argentina",
             1007137.3,
             null
            ],
            [
             "Argentina",
             900594.35,
             null
            ],
            [
             "Argentina",
             3309377.7800000007,
             null
            ],
            [
             "Argentina",
             159209.7,
             null
            ],
            [
             "Argentina",
             664557.76,
             null
            ],
            [
             "Argentina",
             90153.21,
             null
            ],
            [
             "Argentina",
             1149552.31,
             null
            ],
            [
             "Argentina",
             291756.19999999995,
             null
            ],
            [
             "Argentina",
             4523516,
             null
            ],
            [
             "Argentina",
             203695.49,
             null
            ],
            [
             "Argentina",
             182599.95,
             null
            ],
            [
             "Argentina",
             24696.92,
             null
            ],
            [
             "Argentina",
             905190.38,
             null
            ],
            [
             "Argentina",
             241533.26,
             null
            ],
            [
             "Argentina",
             756164.42,
             null
            ],
            [
             "Argentina",
             3371203.24,
             null
            ],
            [
             "Argentina",
             965990.75,
             null
            ],
            [
             "Argentina",
             12056.6,
             null
            ],
            [
             "Argentina",
             106117.74,
             null
            ],
            [
             "Argentina",
             488563.6,
             null
            ],
            [
             "Argentina",
             35144.51,
             null
            ],
            [
             "Argentina",
             116102.18,
             null
            ],
            [
             "Argentina",
             9847.64,
             null
            ],
            [
             "Argentina",
             420095.92,
             null
            ],
            [
             "Argentina",
             56816.69,
             null
            ],
            [
             "Argentina",
             27616.28,
             null
            ],
            [
             "Argentina",
             793211.8,
             null
            ],
            [
             "Australia",
             1484675.0499999996,
             null
            ],
            [
             "Australia",
             1114500,
             null
            ],
            [
             "Australia",
             2363195,
             null
            ],
            [
             "Australia",
             2067212,
             null
            ],
            [
             "Australia",
             1361270,
             null
            ],
            [
             "Australia",
             1423300,
             null
            ],
            [
             "Australia",
             2747001,
             null
            ],
            [
             "Australia",
             3605229.91,
             null
            ],
            [
             "Belgium",
             4254080,
             null
            ],
            [
             "Brazil",
             2663901.43,
             null
            ],
            [
             "Brazil",
             4372254,
             null
            ],
            [
             "Brazil",
             297,
             null
            ],
            [
             "Brazil",
             40240.59,
             null
            ],
            [
             "Canada",
             1149000,
             null
            ],
            [
             "Canada",
             269967,
             null
            ],
            [
             "Chile",
             909667,
             null
            ],
            [
             "Chile",
             4536.54,
             null
            ],
            [
             "China",
             61674200,
             null
            ],
            [
             "Colombia",
             12418.07,
             null
            ],
            [
             "Colombia",
             15268570,
             null
            ],
            [
             "Colombia",
             39712.15,
             null
            ],
            [
             "Colombia",
             15268.57,
             null
            ],
            [
             "Colombia",
             78169.36,
             null
            ],
            [
             "Colombia",
             24831.51,
             null
            ],
            [
             "Colombia",
             48072.19,
             null
            ],
            [
             "Colombia",
             109305.9,
             null
            ],
            [
             "Colombia",
             69118820,
             null
            ],
            [
             "Costa Rica",
             34.25,
             null
            ],
            [
             "Germany",
             311.86,
             null
            ],
            [
             "Denmark",
             196090.19,
             null
            ],
            [
             "Denmark",
             299657,
             null
            ],
            [
             "Ecuador",
             1499074,
             null
            ],
            [
             "Ecuador",
             423878,
             null
            ],
            [
             "Spain",
             731879,
             null
            ],
            [
             "Finland",
             252300,
             null
            ],
            [
             "France",
             1894045,
             null
            ],
            [
             "United Kingdom",
             766878.04,
             null
            ],
            [
             "United Kingdom",
             1734538.64,
             null
            ],
            [
             "Gibraltar",
             337070,
             34313.75
            ],
            [
             "Guatemala",
             281589,
             null
            ],
            [
             "Guatemala",
             63924,
             null
            ],
            [
             "Guatemala",
             355163,
             null
            ],
            [
             "Indonesia",
             578446,
             null
            ],
            [
             "Indonesia",
             12910725,
             null
            ],
            [
             "Indonesia",
             4127286.89,
             null
            ],
            [
             "Indonesia",
             492164.23,
             null
            ],
            [
             "Indonesia",
             1199556.19,
             null
            ],
            [
             "India",
             19315934,
             null
            ],
            [
             "India",
             1887685,
             null
            ],
            [
             "Italy",
             485684,
             null
            ],
            [
             "Italy",
             990097,
             null
            ],
            [
             "Italy",
             863779.51,
             null
            ],
            [
             "Italy",
             137456,
             null
            ],
            [
             "Korea, Republic of",
             69794140,
             null
            ],
            [
             "Korea, Republic of",
             48730645.5,
             null
            ],
            [
             "Korea, Republic of",
             5901570.666666668,
             null
            ],
            [
             "Latvia",
             1870000,
             null
            ],
            [
             "Monaco",
             86586,
             null
            ],
            [
             "Mexico",
             3846977,
             null
            ],
            [
             "Mexico",
             7702002,
             null
            ],
            [
             "Mexico",
             1748920,
             null
            ],
            [
             "Mexico",
             1645392.2599999998,
             null
            ],
            [
             "Mozambique",
             204784,
             null
            ],
            [
             "Malawi",
             60,
             null
            ],
            [
             "Malaysia",
             3496,
             null
            ],
            [
             "Norway",
             1314864,
             null
            ],
            [
             "Norway",
             489207,
             null
            ],
            [
             "New Zealand",
             570666,
             null
            ],
            [
             "Peru",
             3123,
             null
            ],
            [
             "Philippines",
             428467.45,
             null
            ],
            [
             "Philippines",
             1216253.08,
             null
            ],
            [
             "Philippines",
             8014366,
             null
            ],
            [
             "Portugal",
             194352,
             null
            ],
            [
             "Portugal",
             202713,
             null
            ],
            [
             "State of Palestine",
             32221,
             null
            ],
            [
             "Russian Federation",
             47888405.13333333,
             null
            ],
            [
             "Sierra Leone",
             1029200,
             null
            ],
            [
             "Sweden",
             242995,
             null
            ],
            [
             "Sweden",
             630308,
             null
            ],
            [
             "Sweden",
             176812,
             null
            ],
            [
             "Sweden",
             430559,
             null
            ],
            [
             "Sweden",
             455709,
             null
            ],
            [
             "Sweden",
             214909,
             null
            ],
            [
             "Sweden",
             661110,
             null
            ],
            [
             "Sweden",
             336717,
             null
            ],
            [
             "Sweden",
             137349.31,
             null
            ],
            [
             "Sweden",
             1186244,
             null
            ],
            [
             "Sweden",
             218000,
             null
            ],
            [
             "Thailand",
             395192.62,
             null
            ],
            [
             "Thailand",
             247235.69,
             null
            ],
            [
             "Thailand",
             355621.94,
             null
            ],
            [
             "Thailand",
             287803.05,
             null
            ],
            [
             "Turkey",
             13176596,
             null
            ],
            [
             "Turkey",
             7502667,
             null
            ],
            [
             "Turkey",
             21869346,
             null
            ],
            [
             "Turkey",
             1509302,
             null
            ],
            [
             "Turkey",
             22769098,
             null
            ],
            [
             "Taiwan",
             522514.73,
             null
            ],
            [
             "Uganda",
             3055230.86,
             null
            ],
            [
             "United States",
             372994,
             null
            ],
            [
             "United States",
             305319,
             null
            ],
            [
             "United States",
             541974.61,
             null
            ],
            [
             "United States",
             869705.35,
             null
            ],
            [
             "United States",
             423285081,
             null
            ],
            [
             "United States",
             22572755,
             null
            ],
            [
             "United States",
             7451000,
             null
            ],
            [
             "United States",
             122982,
             null
            ],
            [
             "United States",
             483773,
             null
            ],
            [
             "United States",
             11752836,
             null
            ],
            [
             "United States",
             939390,
             null
            ],
            [
             "United States",
             312835,
             null
            ],
            [
             "United States",
             625402,
             null
            ],
            [
             "United States",
             1034016.4,
             null
            ],
            [
             "United States",
             178413,
             null
            ],
            [
             "United States",
             402364,
             null
            ],
            [
             "United States",
             777350,
             null
            ],
            [
             "United States",
             132700,
             null
            ],
            [
             "United States",
             518497,
             null
            ],
            [
             "United States",
             328180,
             null
            ],
            [
             "United States",
             6994169,
             null
            ],
            [
             "United States",
             475351.5,
             null
            ],
            [
             "United States",
             3424430,
             null
            ],
            [
             "United States",
             5418982,
             null
            ],
            [
             "United States",
             516205.96,
             null
            ],
            [
             "United States",
             668763,
             null
            ],
            [
             "United States",
             4117276.07,
             null
            ],
            [
             "United States",
             2969656,
             null
            ],
            [
             "United States",
             1726821,
             null
            ],
            [
             "United States",
             127021,
             null
            ],
            [
             "United States",
             198674,
             null
            ],
            [
             "United States",
             41786.99,
             null
            ],
            [
             "United States",
             230595,
             null
            ],
            [
             "Vietnam",
             424089,
             null
            ],
            [
             "Vietnam",
             1103438,
             null
            ],
            [
             "South Africa",
             1008657,
             null
            ],
            [
             "South Africa",
             33031705,
             null
            ]
           ],
           "geo": "geo",
           "hovertemplate": "<b>%{hovertext}</b><br><br>cluster=2<br>CDP_TotalEmissions=%{customdata[1]}<br>City_Latitude=%{lat}<br>City_Longitude=%{lon}<br>Country Name=%{customdata[0]}<br>City_Population=%{customdata[2]}<br>pct_change2=%{marker.color}<extra></extra>",
           "hovertext": [
            "Dubai",
            "Arequito",
            "Arias",
            "Armstrong",
            "Arteaga",
            "Avellaneda",
            "Bell Ville",
            "Bragado",
            "Camilo Aldao",
            "Carcarana",
            "Caseros",
            "Centeno",
            "Chacabuco",
            "Chanar Ladeado",
            "Correa",
            "Corrientes",
            "Cosquin",
            "Crespo",
            "Cruz Alta",
            "Godoy Cruz",
            "Guamini",
            "Guaymallen",
            "Herrera",
            "Inriville",
            "Juana Koslay",
            "La Rioja",
            "Llambi Campbell",
            "Lobos",
            "Los Molles",
            "Malabrigo",
            "Monte Buey",
            "Montecarlo",
            "Moron",
            "Olavarria",
            "Oro Verde",
            "Patagones",
            "Perez",
            "Rauch",
            "Reconquista",
            "Rosario",
            "Salliquelo",
            "San AntonioAreco",
            "San Carlos Sud",
            "San CarlosBariloche",
            "San Martinlos Andes",
            "San Miguel",
            "San Nicolaslos Arroyos",
            "Santa Fe Ciudad",
            "Soldini",
            "Tafi Viejo",
            "Tapalque",
            "Tilisarao",
            "Totoras",
            "Uranga",
            "Venado Tuerto",
            "Villa General Belgrano",
            "Villa Pehuenia",
            "la CiudadParana",
            "Hobsons Bay",
            "Mandurah",
            "Melton",
            "Mornington Peninsula Shire",
            "Perth",
            "Port Phillip",
            "Wollongong",
            "Wyndham",
            "Brussels",
            "Campinas",
            "Sao Jose dos Campos",
            "Terra Nova do Norte",
            "Vinhedo",
            "Kingston",
            "Victoria",
            "Valdivia",
            "Vitacura",
            "Zhenjiang  Peoples",
            "Beteitiva",
            "Busbanza",
            "Corrales",
            "Floresta",
            "Gameza",
            "Mongua",
            "Mongui",
            "Pasto",
            "Topaga",
            "Monte Verde",
            "Greifswald",
            "Fredensborg",
            "Helsingr",
            "Cuenca",
            "Loja",
            "VitoriaGasteiz",
            "Porvoo",
            "Le Havre",
            "Bath",
            "Bristol",
            "Gibraltar",
            "Escuintla",
            "Iztapa",
            "San Jose",
            "Banda Aceh",
            "Banyuwangi",
            "Semarang",
            "Tarakan",
            "the Yogyakarta",
            "Chennai",
            "Rajkot",
            "Bolzano",
            "Parma",
            "Prato",
            "Verbania",
            "Incheon",
            "Seoul",
            "Suwon",
            "Riga",
            "Monaco",
            "Celaya",
            "Hermosillo",
            "JIMAV",
            "Xalapa",
            "Nacala",
            "Blantyre",
            "Petaling Jaya",
            "Arendal",
            "Trondheim",
            "Palmerston North",
            "San Borja",
            "CagayanOro",
            "Muntinlupa",
            "Quezon",
            "Braga",
            "Valongo",
            "Abasan AlKabira",
            "Moscow",
            "Freetown",
            "Falkoping",
            "Helsingborg",
            "Karlskrona",
            "Kristianstad",
            "Orebro",
            "Sigtuna",
            "Skovde",
            "Umea",
            "UpplandsBro kommun",
            "Uppsala",
            "Vastervik",
            "Khon Kaen",
            "Mahasarakham",
            "Nakhon Sawan",
            "Patong",
            "Bursa",
            "Denizli",
            "Izmir",
            "Kadkoy",
            "Kocaeli",
            "Kinmen",
            "Kampala",
            "Ashland OR",
            "Aspen",
            "Berkeley",
            "Boynton Beach",
            "Charlotte",
            "Cuyahoga",
            "Dane",
            "Dedham MA",
            "Encinitas",
            "Erie  NY",
            "Evanston",
            "Highland Park IL",
            "Holland MI",
            "Hollywood",
            "Ithaca",
            "Lake Forest",
            "Lancaster CA",
            "Maplewood",
            "Milwaukie OR",
            "Northampton",
            "Orlando",
            "Princeton NJ",
            "Sacramento",
            "San Jose CA",
            "Santa Barbara CA",
            "Sarasota",
            "South Bend",
            "St Petersburg",
            "Summit  UT",
            "Takoma Park",
            "VillagePark Forest IL",
            "Wellfleet",
            "Winona",
            "Dong Hoi",
            "Vinh",
            "KwaDukuza",
            "Steve Tshwete"
           ],
           "lat": [
            null,
            null,
            null,
            null,
            null,
            null,
            null,
            null,
            null,
            null,
            null,
            null,
            null,
            null,
            null,
            null,
            null,
            null,
            null,
            null,
            null,
            null,
            null,
            null,
            null,
            null,
            null,
            null,
            null,
            null,
            null,
            null,
            null,
            null,
            null,
            null,
            null,
            null,
            null,
            null,
            null,
            null,
            null,
            null,
            null,
            null,
            null,
            null,
            null,
            null,
            null,
            null,
            null,
            null,
            null,
            null,
            null,
            null,
            null,
            null,
            null,
            null,
            null,
            null,
            null,
            null,
            null,
            null,
            null,
            null,
            null,
            null,
            null,
            null,
            null,
            null,
            null,
            null,
            null,
            null,
            null,
            null,
            null,
            null,
            null,
            null,
            null,
            null,
            null,
            null,
            null,
            null,
            null,
            null,
            null,
            null,
            36.1407734,
            null,
            null,
            null,
            null,
            null,
            null,
            null,
            null,
            null,
            null,
            null,
            null,
            null,
            null,
            null,
            null,
            null,
            null,
            null,
            null,
            null,
            null,
            null,
            null,
            null,
            null,
            null,
            null,
            null,
            null,
            null,
            null,
            null,
            null,
            null,
            null,
            null,
            null,
            null,
            null,
            null,
            null,
            null,
            null,
            null,
            null,
            null,
            null,
            null,
            null,
            null,
            null,
            null,
            null,
            null,
            null,
            null,
            null,
            null,
            null,
            null,
            null,
            null,
            null,
            null,
            null,
            null,
            null,
            null,
            null,
            null,
            null,
            null,
            null,
            null,
            null,
            null,
            null,
            null,
            null,
            null,
            null,
            null,
            null,
            null,
            null,
            null,
            null,
            null,
            null,
            null,
            null,
            null,
            null,
            null,
            null,
            null
           ],
           "legendgroup": "",
           "lon": [
            null,
            null,
            null,
            null,
            null,
            null,
            null,
            null,
            null,
            null,
            null,
            null,
            null,
            null,
            null,
            null,
            null,
            null,
            null,
            null,
            null,
            null,
            null,
            null,
            null,
            null,
            null,
            null,
            null,
            null,
            null,
            null,
            null,
            null,
            null,
            null,
            null,
            null,
            null,
            null,
            null,
            null,
            null,
            null,
            null,
            null,
            null,
            null,
            null,
            null,
            null,
            null,
            null,
            null,
            null,
            null,
            null,
            null,
            null,
            null,
            null,
            null,
            null,
            null,
            null,
            null,
            null,
            null,
            null,
            null,
            null,
            null,
            null,
            null,
            null,
            null,
            null,
            null,
            null,
            null,
            null,
            null,
            null,
            null,
            null,
            null,
            null,
            null,
            null,
            null,
            null,
            null,
            null,
            null,
            null,
            null,
            -5.3535994,
            null,
            null,
            null,
            null,
            null,
            null,
            null,
            null,
            null,
            null,
            null,
            null,
            null,
            null,
            null,
            null,
            null,
            null,
            null,
            null,
            null,
            null,
            null,
            null,
            null,
            null,
            null,
            null,
            null,
            null,
            null,
            null,
            null,
            null,
            null,
            null,
            null,
            null,
            null,
            null,
            null,
            null,
            null,
            null,
            null,
            null,
            null,
            null,
            null,
            null,
            null,
            null,
            null,
            null,
            null,
            null,
            null,
            null,
            null,
            null,
            null,
            null,
            null,
            null,
            null,
            null,
            null,
            null,
            null,
            null,
            null,
            null,
            null,
            null,
            null,
            null,
            null,
            null,
            null,
            null,
            null,
            null,
            null,
            null,
            null,
            null,
            null,
            null,
            null,
            null,
            null,
            null,
            null,
            null,
            null,
            null,
            null
           ],
           "marker": {
            "color": [
             0,
             0,
             0,
             0,
             0,
             0,
             0,
             0,
             0,
             0,
             0,
             0,
             0,
             0,
             0,
             0,
             0,
             0,
             0,
             0,
             0,
             0,
             0,
             0,
             0,
             0,
             0,
             0,
             0,
             0,
             0,
             0,
             0,
             0,
             0,
             0,
             0,
             0,
             0,
             0,
             0,
             0,
             0,
             0,
             0,
             0,
             0,
             0,
             0,
             0,
             0,
             0,
             0,
             0,
             0,
             0,
             0,
             0,
             0,
             0,
             0,
             0,
             0,
             0,
             0,
             0,
             0,
             0,
             0,
             0,
             0,
             0,
             0,
             0,
             0,
             0,
             0,
             0,
             0,
             0,
             0,
             0,
             0,
             0,
             0,
             0,
             0,
             0,
             0,
             0,
             0,
             0,
             0,
             0,
             0,
             0,
             0.125,
             0,
             0,
             0,
             0,
             0,
             0,
             0,
             0,
             0,
             0,
             0,
             0,
             0,
             0,
             0,
             0,
             0,
             0,
             0,
             0,
             0,
             0,
             0,
             0,
             0,
             0,
             0,
             0,
             0,
             0,
             0,
             0,
             0,
             0,
             0,
             0,
             0,
             0,
             0,
             0,
             0,
             0,
             0,
             0,
             0,
             0,
             0,
             0,
             0,
             0,
             0,
             0,
             0,
             0,
             0,
             0,
             0,
             0,
             0,
             0,
             0,
             0,
             0,
             0,
             0,
             0,
             0,
             0,
             0,
             0,
             0,
             0,
             0,
             0,
             0,
             0,
             0,
             0,
             0,
             0,
             0,
             -0.1,
             0,
             0,
             0,
             0,
             0,
             0,
             0,
             0,
             0,
             0,
             0,
             0,
             0,
             0,
             0
            ],
            "coloraxis": "coloraxis",
            "opacity": 0.6,
            "size": [
             68091232,
             12128.27,
             95216.71,
             52083.05,
             27857.38,
             1533903.26,
             96806.11,
             668545.8,
             91022.88,
             104047.77,
             20938.19,
             18734.57,
             662343.5599999999,
             39023.24,
             58070.21,
             791744.47,
             37604.54,
             130575.32,
             27730.33,
             443795.38,
             794110.6799999998,
             775221.69,
             37701.46,
             52603.15,
             44050.65,
             634302.97,
             27505.85,
             457265.28,
             3838.13,
             49149.11,
             48468.27,
             1007137.3,
             900594.35,
             3309377.7800000007,
             159209.7,
             664557.76,
             90153.21,
             1149552.31,
             291756.19999999995,
             4523516,
             203695.49,
             182599.95,
             24696.92,
             905190.38,
             241533.26,
             756164.42,
             3371203.24,
             965990.75,
             12056.6,
             106117.74,
             488563.6,
             35144.51,
             116102.18,
             9847.64,
             420095.92,
             56816.69,
             27616.28,
             793211.8,
             1484675.0499999996,
             1114500,
             2363195,
             2067212,
             1361270,
             1423300,
             2747001,
             3605229.91,
             4254080,
             2663901.43,
             4372254,
             297,
             40240.59,
             1149000,
             269967,
             909667,
             4536.54,
             61674200,
             12418.07,
             15268570,
             39712.15,
             15268.57,
             78169.36,
             24831.51,
             48072.19,
             109305.9,
             69118820,
             34.25,
             311.86,
             196090.19,
             299657,
             1499074,
             423878,
             731879,
             252300,
             1894045,
             766878.04,
             1734538.64,
             337070,
             281589,
             63924,
             355163,
             578446,
             12910725,
             4127286.89,
             492164.23,
             1199556.19,
             19315934,
             1887685,
             485684,
             990097,
             863779.51,
             137456,
             69794140,
             48730645.5,
             5901570.666666668,
             1870000,
             86586,
             3846977,
             7702002,
             1748920,
             1645392.2599999998,
             204784,
             60,
             3496,
             1314864,
             489207,
             570666,
             3123,
             428467.45,
             1216253.08,
             8014366,
             194352,
             202713,
             32221,
             47888405.13333333,
             1029200,
             242995,
             630308,
             176812,
             430559,
             455709,
             214909,
             661110,
             336717,
             137349.31,
             1186244,
             218000,
             395192.62,
             247235.69,
             355621.94,
             287803.05,
             13176596,
             7502667,
             21869346,
             1509302,
             22769098,
             522514.73,
             3055230.86,
             372994,
             305319,
             541974.61,
             869705.35,
             423285081,
             22572755,
             7451000,
             122982,
             483773,
             11752836,
             939390,
             312835,
             625402,
             1034016.4,
             178413,
             402364,
             777350,
             132700,
             518497,
             328180,
             6994169,
             475351.5,
             3424430,
             5418982,
             516205.96,
             668763,
             4117276.07,
             2969656,
             1726821,
             127021,
             198674,
             41786.99,
             230595,
             424089,
             1103438,
             1008657,
             33031705
            ],
            "sizemode": "area",
            "sizeref": 202340.8396,
            "symbol": "circle"
           },
           "mode": "markers",
           "name": "",
           "showlegend": false,
           "type": "scattergeo"
          }
         ],
         "name": "2"
        },
        {
         "data": [
          {
           "customdata": [
            [
             "Australia",
             567620.9125,
             24550.8
            ],
            [
             "Australia",
             131617.5,
             null
            ],
            [
             "Australia",
             3856940,
             416250
            ],
            [
             "Australia",
             459787.33333333326,
             51593
            ],
            [
             "Australia",
             4984033.649999999,
             154863.4
            ],
            [
             "Australia",
             4384470.6875,
             227878.8
            ],
            [
             "Canada",
             738745.3333333335,
             null
            ],
            [
             "Canada",
             18371922.6,
             1247651.2
            ],
            [
             "Canada",
             6424752,
             null
            ],
            [
             "Canada",
             16349900.5,
             934644.6
            ],
            [
             "Canada",
             1056077,
             null
            ],
            [
             "Canada",
             5874855.333333332,
             null
            ],
            [
             "Canada",
             14912403.5,
             550405.25
            ],
            [
             "Canada",
             2208451,
             null
            ],
            [
             "Canada",
             2998716.666666666,
             null
            ],
            [
             "Canada",
             7086682.85675,
             721599
            ],
            [
             "Canada",
             12368828.125,
             1954472.75
            ],
            [
             "Canada",
             200996.25,
             null
            ],
            [
             "Canada",
             5858135.666666668,
             726456.04325
            ],
            [
             "Canada",
             143833.775,
             null
            ],
            [
             "Canada",
             435594,
             null
            ],
            [
             "Canada",
             3603674,
             270914
            ],
            [
             "Canada",
             952192,
             133460
            ],
            [
             "Canada",
             19267239.97,
             2833632
            ],
            [
             "Canada",
             2562581.166666666,
             631418
            ],
            [
             "Canada",
             2305060.5,
             220614
            ],
            [
             "Canada",
             5330344.4,
             null
            ],
            [
             "Switzerland",
             831838,
             null
            ],
            [
             "Switzerland",
             499573,
             null
            ],
            [
             "Switzerland",
             107798.5,
             null
            ],
            [
             "Switzerland",
             1849834.166666667,
             421304
            ],
            [
             "Germany",
             20704750,
             null
            ],
            [
             "Germany",
             10863091,
             1775099.5
            ],
            [
             "Germany",
             930147,
             147427.4
            ],
            [
             "Germany",
             1400000,
             null
            ],
            [
             "Germany",
             3806000,
             null
            ],
            [
             "Denmark",
             1900,
             null
            ],
            [
             "Denmark",
             1722035,
             604991.5
            ],
            [
             "Denmark",
             203353,
             42805.66666666666
            ],
            [
             "Denmark",
             294549,
             null
            ],
            [
             "Denmark",
             338141.5,
             68344.2
            ],
            [
             "Denmark",
             417000,
             null
            ],
            [
             "Denmark",
             293270.75,
             null
            ],
            [
             "Denmark",
             142818.87900000002,
             null
            ],
            [
             "Denmark",
             234296.33333333328,
             52864.25
            ],
            [
             "Denmark",
             180000,
             38569
            ],
            [
             "Denmark",
             422955,
             null
            ],
            [
             "Denmark",
             1806679,
             null
            ],
            [
             "Denmark",
             205,
             null
            ],
            [
             "Finland",
             1159527,
             281732.25
            ],
            [
             "Finland",
             3377079.6,
             639758.4
            ],
            [
             "Finland",
             699124,
             119884.4
            ],
            [
             "Finland",
             1004592,
             189400
            ],
            [
             "United Kingdom",
             5199.7,
             null
            ],
            [
             "United Kingdom",
             568869.5,
             260133.33333333328
            ],
            [
             "United Kingdom",
             1382688,
             362100
            ],
            [
             "United Kingdom",
             1341202.8275,
             345617.33333333326
            ],
            [
             "United Kingdom",
             39107949.67142857,
             8797293.666666666
            ],
            [
             "United Kingdom",
             14481606.116666667,
             2055159.166666667
            ],
            [
             "Hong Kong",
             53641576.14285714,
             7398480
            ],
            [
             "Ireland",
             2942349,
             null
            ],
            [
             "Iceland",
             319842.66666666674,
             null
            ],
            [
             "Israel",
             4654482,
             null
            ],
            [
             "Japan",
             8796073,
             null
            ],
            [
             "Japan",
             13940000,
             2288790.5
            ],
            [
             "Japan",
             59080,
             null
            ],
            [
             "Japan",
             6916000,
             null
            ],
            [
             "Japan",
             68819718.125,
             13765448.2
            ],
            [
             "Japan",
             23010612.14285714,
             12136443.25
            ],
            [
             "Lithuania",
             1734374.5,
             null
            ],
            [
             "Malaysia",
             13542335.735,
             1978333.333333333
            ],
            [
             "Netherlands",
             4699250,
             848091.25
            ],
            [
             "Netherlands",
             859000,
             200500
            ],
            [
             "Netherlands",
             505852099,
             null
            ],
            [
             "Netherlands",
             24679764.3322,
             481798.1165
            ],
            [
             "Netherlands",
             1622535,
             537210.6666666665
            ],
            [
             "Norway",
             224955,
             null
            ],
            [
             "Norway",
             1209296.4,
             665929.5
            ],
            [
             "New Zealand",
             9798648.25,
             1614975
            ],
            [
             "New Zealand",
             955724.4285714284,
             209287.25
            ],
            [
             "Poland",
             12339199.166666664,
             1695805.75
            ],
            [
             "Poland",
             4473322.666666667,
             638319.6666666665
            ],
            [
             "Republic of Korea",
             10257440,
             null
            ],
            [
             "Republic of Korea",
             45419000,
             null
            ],
            [
             "Republic of Korea",
             5666432.006,
             null
            ],
            [
             "Singapore",
             41327346.66666666,
             5616666.666666667
            ],
            [
             "Slovenia",
             2318520.666666666,
             null
            ],
            [
             "Sweden",
             903541.5,
             null
            ],
            [
             "Sweden",
             2570721.8571428573,
             938398
            ],
            [
             "Sweden",
             277068.5,
             null
            ],
            [
             "Taiwan",
             65543519.626,
             2776348.6
            ],
            [
             "Taiwan",
             17087136.666666668,
             3985711.75
            ],
            [
             "Taiwan",
             3730635.8025,
             null
            ],
            [
             "Taiwan",
             40284909.88,
             2790743.75
            ],
            [
             "Taiwan",
             21734854.795,
             1883590
            ],
            [
             "Taiwan",
             13881290.333333336,
             2679476.8
            ],
            [
             "Taiwan",
             32919139.13000001,
             2169145.5
            ],
            [
             "Taiwan",
             7921218.211,
             null
            ]
           ],
           "geo": "geo",
           "hovertemplate": "<b>%{hovertext}</b><br><br>cluster=0<br>CDP_TotalEmissions=%{customdata[1]}<br>City_Latitude=%{lat}<br>City_Longitude=%{lon}<br>Country Name=%{customdata[0]}<br>City_Population=%{customdata[2]}<br>pct_change2=%{marker.color}<extra></extra>",
           "hovertext": [
            "Adelaide",
            "Byron Shire",
            "Canberra",
            "Hobart",
            "Melbourne",
            "Sydney",
            "Ajax ON",
            "Calgary",
            "Durham NC",
            "Edmonton",
            "Guelph",
            "Halifax",
            "Hamilton",
            "Laval",
            "London ON",
            "Mississauga",
            "Montreal",
            "North Vancouver",
            "Ottawa",
            "Peterborough",
            "SalaberrydeValleyfield",
            "Saskatoon",
            "St Catharines",
            "Toronto",
            "Vancouver",
            "Windsor",
            "Winnipeg",
            "Basel",
            "Lausanne",
            "Nyon",
            "Zurich",
            "Berlin",
            "Hamburg",
            "Heidelberg",
            "Magdeburg",
            "Mannheim",
            "Aarhus",
            "Copenhagen",
            "Egedal",
            "Elsinore",
            "Gladsaxe",
            "Hjrring",
            "HoejeTaastrup",
            "Hrsholm",
            "Hvidovre",
            "Jammerbugt",
            "Roskilde",
            "Sonderborg",
            "rskbing",
            "Espoo",
            "Helsinki",
            "Lahti",
            "Turku",
            "Birmingham",
            "Bournemouth",
            "Cardiff",
            "Leicester",
            "London",
            "Manchester",
            "Hong Kong",
            "Dublin",
            "Reykjavik",
            "Tel AvivYafo",
            "Hiroshima",
            "Nagoya",
            "Niseko",
            "Okayama",
            "Tokyo",
            "Yokohama",
            "Vilnius",
            "Iskandar",
            "Amsterdam",
            "Groningen",
            "Nijmegen",
            "Rotterdam",
            "The Hague",
            "Brum",
            "Oslo",
            "Auckland",
            "Wellington",
            "Warsaw",
            "Wroclaw",
            "Changwon",
            "Seoul",
            "Suwon",
            "Singapore",
            "Ljubljana",
            "Malmo",
            "Stockholm",
            "Vaxjo",
            "Kaohsiung",
            "New Taipei",
            "Pingtung",
            "Taichung",
            "Tainan",
            "Taipei",
            "Taoyuan",
            "Yilan"
           ],
           "lat": [
            -34.928499,
            null,
            -35.3075,
            -42.890054,
            -37.814107,
            -33.8674869,
            null,
            51.04861500000001,
            null,
            53.544389,
            null,
            null,
            43.250021000000004,
            null,
            null,
            -79.6441,
            45.508669899999994,
            null,
            45.42153,
            null,
            null,
            52.133214,
            43.1594,
            43.653226000000004,
            49.261226,
            42.314937,
            null,
            null,
            null,
            null,
            47.36864979999999,
            null,
            53.5510846,
            49.398752,
            null,
            null,
            null,
            55.676096799999996,
            55.79504499999999,
            null,
            55.733461,
            null,
            null,
            null,
            55.642522,
            57.1453,
            null,
            null,
            null,
            60.205491,
            60.17332439999999,
            60.9833,
            60.451812600000004,
            null,
            50.719164,
            51.481581,
            52.6333,
            51.50485799999999,
            53.47980233333333,
            22.288080899999997,
            null,
            null,
            null,
            null,
            35.1814464,
            null,
            null,
            35.6894875,
            35.4437078,
            null,
            5.714476,
            52.3702157,
            53.232386,
            null,
            51.9244201,
            52.0705,
            null,
            59.913868799999996,
            -36.815328,
            -41.28646029999999,
            52.2296756,
            51.107884999999996,
            null,
            null,
            null,
            1.352083,
            null,
            null,
            59.3293235,
            null,
            22.6238898,
            25.0111,
            null,
            24.161859,
            22.9999,
            25.0465658,
            24.993628,
            null
           ],
           "legendgroup": "",
           "lon": [
            138.600746,
            null,
            149.1244,
            147.281446,
            144.96328,
            151.20699019999995,
            null,
            -114.070846,
            null,
            -113.4909267,
            null,
            null,
            -79.866091,
            null,
            null,
            43.589,
            -73.5539925,
            null,
            -75.697193,
            null,
            null,
            -106.670046,
            -79.2469,
            -79.3831843,
            -123.11392679999999,
            -83.036363,
            null,
            null,
            null,
            null,
            8.539182499999999,
            null,
            9.9936818,
            8.672433999999999,
            null,
            null,
            null,
            12.568337099999999,
            12.238733,
            null,
            12.488686,
            null,
            null,
            null,
            12.475386,
            9.54153,
            null,
            null,
            null,
            24.6559,
            24.9410248,
            25.65,
            22.26663030000001,
            null,
            -1.880769,
            -3.17909,
            -1.1333,
            -0.078689,
            -2.2465334,
            114.13980149999999,
            null,
            null,
            null,
            null,
            136.906398,
            null,
            null,
            139.69170640000002,
            139.6380256,
            null,
            100.99208399999999,
            4.8951679000000015,
            6.551335,
            null,
            4.4777325,
            4.3007,
            null,
            10.7522454,
            174.74178799999999,
            174.776236,
            21.012228699999998,
            17.038538,
            null,
            null,
            null,
            103.819836,
            null,
            null,
            18.068580800000003,
            null,
            120.32307759999999,
            121.4458,
            null,
            120.64696699999999,
            120.2269,
            121.54886689999998,
            121.30098000000001,
            null
           ],
           "marker": {
            "color": [
             0.05,
             -0.5,
             -0.02,
             0.16666666666666666,
             0.042857142857142864,
             -0.012500000000000004,
             0.2333333333333333,
             0,
             0,
             0.03333333333333333,
             0,
             0,
             -0.45,
             0,
             0,
             0.05,
             -0.025,
             0.025,
             0.03333333333333333,
             -0.5,
             0,
             0.05,
             0,
             -0.03333333333333333,
             -0.016666666666666666,
             0.025,
             0,
             -0.06666666666666668,
             0,
             0.05,
             -0.05000000000000001,
             0,
             -0.2,
             0.05,
             0,
             0,
             0,
             -0.08,
             0.06666666666666668,
             0,
             -0.025,
             0,
             0.05,
             0.2,
             0.06666666666666668,
             0,
             0,
             0,
             -0.1,
             -0.03333333333333333,
             0.24,
             0,
             0.03333333333333333,
             0,
             -0.15,
             -0.3666666666666667,
             -0.25,
             -0.028571428571428574,
             -0.016666666666666673,
             0.08571428571428573,
             0,
             -0.06666666666666668,
             0,
             0,
             0.03333333333333333,
             0,
             0,
             0.037500000000000006,
             0.14285714285714285,
             0.075,
             0,
             -0.05,
             0,
             0,
             -0.16,
             0,
             0,
             -0.3,
             0,
             -0.014285714285714282,
             0,
             0.06666666666666668,
             0,
             0.05,
             0,
             0.03333333333333333,
             0.13333333333333333,
             0.05,
             0,
             0.05,
             0.08,
             0.2,
             0,
             0.9,
             0,
             -0.03333333333333333,
             0.1,
             -0.025
            ],
            "coloraxis": "coloraxis",
            "opacity": 0.6,
            "size": [
             567620.9125,
             131617.5,
             3856940,
             459787.33333333326,
             4984033.649999999,
             4384470.6875,
             738745.3333333335,
             18371922.6,
             6424752,
             16349900.5,
             1056077,
             5874855.333333332,
             14912403.5,
             2208451,
             2998716.666666666,
             7086682.85675,
             12368828.125,
             200996.25,
             5858135.666666668,
             143833.775,
             435594,
             3603674,
             952192,
             19267239.97,
             2562581.166666666,
             2305060.5,
             5330344.4,
             831838,
             499573,
             107798.5,
             1849834.166666667,
             20704750,
             10863091,
             930147,
             1400000,
             3806000,
             1900,
             1722035,
             203353,
             294549,
             338141.5,
             417000,
             293270.75,
             142818.87900000002,
             234296.33333333328,
             180000,
             422955,
             1806679,
             205,
             1159527,
             3377079.6,
             699124,
             1004592,
             5199.7,
             568869.5,
             1382688,
             1341202.8275,
             39107949.67142857,
             14481606.116666667,
             53641576.14285714,
             2942349,
             319842.66666666674,
             4654482,
             8796073,
             13940000,
             59080,
             6916000,
             68819718.125,
             23010612.14285714,
             1734374.5,
             13542335.735,
             4699250,
             859000,
             505852099,
             24679764.3322,
             1622535,
             224955,
             1209296.4,
             9798648.25,
             955724.4285714284,
             12339199.166666664,
             4473322.666666667,
             10257440,
             45419000,
             5666432.006,
             41327346.66666666,
             2318520.666666666,
             903541.5,
             2570721.8571428573,
             277068.5,
             65543519.626,
             17087136.666666668,
             3730635.8025,
             40284909.88,
             21734854.795,
             13881290.333333336,
             32919139.13000001,
             7921218.211
            ],
            "sizemode": "area",
            "sizeref": 202340.8396,
            "symbol": "circle"
           },
           "mode": "markers",
           "name": "",
           "showlegend": false,
           "type": "scattergeo"
          }
         ],
         "name": "0"
        },
        {
         "data": [
          {
           "customdata": [
            [
             "United States",
             585905.75,
             null
            ],
            [
             "United States",
             419377,
             null
            ],
            [
             "United States",
             1217091,
             null
            ],
            [
             "United States",
             401079,
             null
            ],
            [
             "United States",
             3557393,
             null
            ],
            [
             "United States",
             1730199.5,
             null
            ],
            [
             "United States",
             2354121.4,
             221575
            ],
            [
             "United States",
             422101,
             null
            ],
            [
             "United States",
             8850258,
             446978.5
            ],
            [
             "United States",
             13929113.8,
             1051644.6
            ],
            [
             "United States",
             9719212.142857144,
             608360.5
            ],
            [
             "United States",
             544503.935,
             27801.33333333333
            ],
            [
             "United States",
             343017.54400000005,
             44360.25
            ],
            [
             "United States",
             1504696.333333333,
             84934.33333333331
            ],
            [
             "United States",
             6339649.666666668,
             673450
            ],
            [
             "United States",
             2221801.944,
             107258.2
            ],
            [
             "United States",
             105015.75,
             null
            ],
            [
             "United States",
             20905601.61,
             1894822
            ],
            [
             "United States",
             2165653,
             null
            ],
            [
             "United States",
             338832.2116666667,
             42284
            ],
            [
             "United States",
             1462236,
             null
            ],
            [
             "United States",
             343795,
             47626.25
            ],
            [
             "United States",
             720870,
             null
            ],
            [
             "United States",
             32743371.42857143,
             5619779.625
            ],
            [
             "United States",
             1143624.13,
             null
            ],
            [
             "United States",
             7505000.333333332,
             null
            ],
            [
             "United States",
             11384904.285714285,
             388678.66666666674
            ],
            [
             "United States",
             7386407,
             null
            ],
            [
             "United States",
             2841583,
             null
            ],
            [
             "United States",
             1848635,
             null
            ],
            [
             "United States",
             10379436.75,
             872181.8
            ],
            [
             "United States",
             237880.03333333327,
             null
            ],
            [
             "United States",
             17856431.2,
             1301361.5
            ],
            [
             "United States",
             348347,
             null
            ],
            [
             "United States",
             1533094.333333333,
             null
            ],
            [
             "United States",
             7422435.2,
             692162.4
            ],
            [
             "United States",
             10449502.4,
             null
            ],
            [
             "United States",
             281711,
             null
            ],
            [
             "United States",
             4507343.666666667,
             null
            ],
            [
             "United States",
             347635,
             26955.5
            ],
            [
             "United States",
             163346.395,
             11483
            ],
            [
             "United States",
             1462861.5,
             null
            ],
            [
             "United States",
             1429119,
             null
            ],
            [
             "United States",
             1252302.176,
             72411
            ],
            [
             "United States",
             2055582.0633333328,
             166197.3333333333
            ],
            [
             "United States",
             1430248.5,
             null
            ],
            [
             "United States",
             4467691,
             null
            ],
            [
             "United States",
             1083235,
             160823.6666666667
            ],
            [
             "United States",
             126611,
             null
            ],
            [
             "United States",
             33308271,
             null
            ],
            [
             "United States",
             2160364.99,
             859670
            ],
            [
             "United States",
             1092580.333333333,
             null
            ],
            [
             "United States",
             12807311,
             null
            ],
            [
             "United States",
             399592,
             null
            ],
            [
             "United States",
             3732503.8625,
             null
            ],
            [
             "United States",
             10647,
             null
            ],
            [
             "United States",
             402364,
             null
            ],
            [
             "United States",
             1692340,
             153620
            ],
            [
             "United States",
             885210,
             null
            ],
            [
             "United States",
             364972,
             null
            ],
            [
             "United States",
             26609670.2,
             649770.75
            ],
            [
             "United States",
             3462180.5,
             null
            ],
            [
             "United States",
             4850026,
             null
            ],
            [
             "United States",
             57243,
             null
            ],
            [
             "United States",
             31625252,
             3993752
            ],
            [
             "United States",
             30685673.5,
             null
            ],
            [
             "United States",
             233009.87,
             null
            ],
            [
             "United States",
             355820.7966666667,
             57666.33333333334
            ],
            [
             "United States",
             18247063.5,
             null
            ],
            [
             "United States",
             4762364.27,
             null
            ],
            [
             "United States",
             1135259.34,
             91825
            ],
            [
             "United States",
             4523788.285714285,
             417166.4
            ],
            [
             "United States",
             12919949,
             679678.6666666665
            ],
            [
             "United States",
             480493,
             95120
            ],
            [
             "United States",
             1058370,
             null
            ],
            [
             "United States",
             4082387,
             391137
            ],
            [
             "United States",
             49644227.28571428,
             8512613
            ],
            [
             "United States",
             3690352,
             null
            ],
            [
             "United States",
             2348336.8,
             423923.75
            ],
            [
             "United States",
             122846.25,
             66791
            ],
            [
             "United States",
             15555.047059,
             null
            ],
            [
             "United States",
             17630629.302857142,
             1558435.666666667
            ],
            [
             "United States",
             16192139,
             1604115.666666667
            ],
            [
             "United States",
             36010,
             null
            ],
            [
             "United States",
             43442,
             null
            ],
            [
             "United States",
             5332983.516,
             null
            ],
            [
             "United States",
             7773812,
             null
            ],
            [
             "United States",
             1142797,
             null
            ],
            [
             "United States",
             7323420,
             null
            ],
            [
             "United States",
             2241101.666666666,
             179260
            ],
            [
             "United States",
             2846433.78,
             null
            ],
            [
             "United States",
             3188954,
             null
            ],
            [
             "United States",
             2803844.75,
             null
            ],
            [
             "United States",
             1983623,
             99192.5
            ],
            [
             "United States",
             1792000,
             null
            ],
            [
             "United States",
             3549993.815,
             305593
            ],
            [
             "United States",
             4752386,
             null
            ],
            [
             "United States",
             16116813,
             1472366
            ],
            [
             "United States",
             12624227,
             null
            ],
            [
             "United States",
             4983516.378571428,
             875842.75
            ],
            [
             "United States",
             652709.6233333334,
             89819.66666666669
            ],
            [
             "United States",
             241127.5,
             null
            ],
            [
             "United States",
             1811089,
             null
            ],
            [
             "United States",
             859274,
             91963
            ],
            [
             "United States",
             3641614.666666666,
             null
            ],
            [
             "United States",
             4301000,
             null
            ],
            [
             "United States",
             592031.25,
             79989.66666666669
            ],
            [
             "United States",
             6834691.775714288,
             311066
            ],
            [
             "United States",
             1269567,
             null
            ],
            [
             "United States",
             2236656.7800000003,
             null
            ],
            [
             "United States",
             6659101,
             null
            ],
            [
             "United States",
             501147,
             null
            ],
            [
             "United States",
             7700200.7179999985,
             null
            ],
            [
             "United States",
             583213,
             null
            ],
            [
             "United States",
             1284100.5666666671,
             110755.5
            ],
            [
             "United States",
             1248650,
             null
            ]
           ],
           "geo": "geo",
           "hovertemplate": "<b>%{hovertext}</b><br><br>cluster=1<br>CDP_TotalEmissions=%{customdata[1]}<br>City_Latitude=%{lat}<br>City_Longitude=%{lon}<br>Country Name=%{customdata[0]}<br>City_Population=%{customdata[2]}<br>pct_change2=%{marker.color}<extra></extra>",
           "hovertext": [
            "Abington",
            "Alameda",
            "Albany",
            "Alton",
            "Anchorage",
            "Ann Arbor",
            "Arlington",
            "Aspen and Pitkin",
            "Atlanta",
            "Austin",
            "Baltimore",
            "Benicia",
            "Blacksburg",
            "Bloomington",
            "Boston",
            "Boulder",
            "Brisbane CA",
            "Broward",
            "Brownsville",
            "Burlington",
            "Cambridge MA",
            "Charlottesville",
            "Charlottesville VA",
            "Chicago",
            "Chula Vista",
            "Cincinnati",
            "Cleveland",
            "Columbia",
            "Columbia MO",
            "Columbia SC",
            "Columbus",
            "Cupertino",
            "Dallas",
            "Davis CA",
            "Denton",
            "Denver",
            "Detroit",
            "Dublin CA",
            "Durham NC",
            "Easton",
            "Emeryville",
            "Eugene",
            "Fayetteville",
            "Flagstaff",
            "Fort Collins",
            "Fremont",
            "Greensboro",
            "Hayward",
            "Hermosa Beach CA",
            "Houston",
            "Indianapolis",
            "Iowa",
            "Kansas",
            "Key West",
            "Knoxville",
            "La Crosse",
            "Lake Forest IL",
            "Lakewood",
            "Lancaster",
            "Lancaster PA",
            "Las Vegas",
            "Lexington MA",
            "Long Beach",
            "Los Altos Hills",
            "Los Angeles",
            "Louisville",
            "Manhattan Beach",
            "Medford",
            "Memphis",
            "Miami",
            "Miami Beach",
            "Minneapolis",
            "Nashville",
            "New Bedford",
            "New Haven",
            "New Orleans",
            "New York",
            "Norfolk",
            "Oakland",
            "Palo Alto",
            "Park",
            "Philadelphia",
            "Phoenix",
            "Piedmont",
            "Piedmont CA",
            "Pittsburgh",
            "Portland",
            "Portland ME",
            "Portland OR",
            "Providence",
            "Reno",
            "Richmond",
            "Richmond VA",
            "Roanoke",
            "Rochester",
            "Saint Paul",
            "Salt Lake",
            "San Antonio",
            "San Diego",
            "San Francisco",
            "San Leandro",
            "Santa Cruz CA",
            "Santa Fe",
            "Santa Monica",
            "Savannah",
            "Seattle",
            "Somerville",
            "St Louis",
            "Tacoma",
            "Tempe",
            "Tucson",
            "University  MO",
            "Washington DC",
            "West Hollywood",
            "West Palm Beach",
            "Yonkers"
           ],
           "lat": [
            null,
            null,
            null,
            null,
            null,
            null,
            37.226486,
            null,
            33.7489954,
            30.2672,
            39.2903848,
            38.049365,
            37.2296,
            39.1653,
            42.358430799999994,
            40.0274,
            null,
            26.1901,
            null,
            44.475882500000004,
            null,
            38.0293,
            null,
            41.8781138,
            null,
            null,
            41.499320000000004,
            null,
            null,
            null,
            39.9611755,
            null,
            32.78013989999999,
            null,
            null,
            39.737567,
            null,
            null,
            null,
            40.6884,
            37.831315999999994,
            null,
            null,
            35.1992,
            40.5853,
            null,
            null,
            37.6689,
            null,
            null,
            39.767625,
            null,
            null,
            null,
            null,
            null,
            null,
            39.7047,
            null,
            null,
            36.169941200000004,
            null,
            null,
            null,
            34.0522342,
            null,
            null,
            42.3265,
            null,
            null,
            25.790654,
            44.983334,
            36.1627,
            41.6362,
            null,
            29.9511,
            40.7127837,
            null,
            37.8044,
            37.4419,
            null,
            39.952335,
            33.4484,
            null,
            null,
            null,
            null,
            null,
            null,
            41.824,
            null,
            null,
            null,
            37.271,
            null,
            44.9537,
            null,
            29.4241,
            null,
            37.7749295,
            37.72493,
            null,
            null,
            34.0219,
            null,
            null,
            42.393449,
            38.6270025,
            null,
            null,
            null,
            null,
            null,
            null,
            26.715342,
            null
           ],
           "legendgroup": "",
           "lon": [
            null,
            null,
            null,
            null,
            null,
            null,
            -76.00259399999999,
            null,
            -84.3879824,
            -97.74309999999998,
            -76.6121893,
            -122.1585777,
            -80.4139,
            -86.5264,
            -71.05977320000002,
            -105.2519,
            null,
            80.3659,
            null,
            -73.21207199999998,
            null,
            -78.4767,
            null,
            -87.62979810000002,
            null,
            null,
            -81.6943605,
            null,
            null,
            null,
            -82.9987942,
            null,
            -96.8004511,
            null,
            null,
            -104.9847179,
            null,
            null,
            null,
            -75.2207,
            -122.28524699999998,
            null,
            null,
            -111.6311,
            105.0844,
            null,
            null,
            -122.0808,
            null,
            null,
            -86.17846899999998,
            null,
            null,
            null,
            null,
            null,
            null,
            -105.0814,
            null,
            null,
            -115.13982959999998,
            null,
            null,
            null,
            -118.24368490000002,
            null,
            null,
            -122.8756,
            null,
            null,
            -80.130045,
            -93.26667,
            -86.7816,
            -70.9342,
            null,
            -90.0715,
            -74.00594129999998,
            null,
            -122.2708,
            -122.14299999999999,
            null,
            -75.16378900000002,
            -112.074,
            null,
            null,
            null,
            null,
            null,
            null,
            -71.4128,
            null,
            null,
            null,
            -79.9414,
            null,
            -93.09,
            null,
            -98.4936,
            null,
            -122.4194155,
            -122.156077,
            null,
            null,
            -118.4814,
            null,
            null,
            -71.082647,
            -90.1994042,
            null,
            null,
            null,
            null,
            null,
            null,
            -80.053375,
            null
           ],
           "marker": {
            "color": [
             0,
             0,
             0,
             0,
             0,
             0.2,
             -0.02,
             -0.06666666666666668,
             -0.06000000000000001,
             0,
             0.15714285714285714,
             -0.2,
             -0.05,
             0.1,
             0,
             0.15999999999999998,
             -0.15,
             0.25,
             0,
             0.05000000000000001,
             0,
             0,
             0,
             -0.014285714285714287,
             0,
             0,
             0.014285714285714282,
             0,
             -0.15,
             0,
             0.07500000000000001,
             -0.1,
             0.04,
             0,
             -0.03333333333333333,
             -0.18,
             0,
             0,
             -0.03333333333333333,
             0,
             -0.025,
             0.075,
             0,
             0,
             0,
             0,
             0,
             0.025,
             0,
             0,
             0,
             -0.10000000000000002,
             0,
             0,
             0.04999999999999999,
             0,
             0,
             0.02,
             0,
             0,
             -0.08,
             -0.225,
             0,
             0,
             -0.05000000000000001,
             0,
             0.05,
             -0.06666666666666668,
             0.15,
             0,
             -0.03333333333333333,
             -0.014285714285714287,
             0.025,
             0,
             0,
             -0.1,
             0.014285714285714287,
             0,
             0.12000000000000002,
             -0.2,
             0,
             -0.028571428571428574,
             0,
             0,
             0,
             -0.04,
             0,
             0,
             0,
             0.16666666666666666,
             -0.3,
             0,
             -0.05,
             0,
             0,
             0.25,
             0,
             0,
             0,
             0.014285714285714287,
             0,
             0,
             0,
             0.1,
             0,
             -0.075,
             0,
             0.1,
             0.2,
             -0.3,
             0,
             0,
             -0.02,
             0,
             -0.06666666666666668,
             0
            ],
            "coloraxis": "coloraxis",
            "opacity": 0.6,
            "size": [
             585905.75,
             419377,
             1217091,
             401079,
             3557393,
             1730199.5,
             2354121.4,
             422101,
             8850258,
             13929113.8,
             9719212.142857144,
             544503.935,
             343017.54400000005,
             1504696.333333333,
             6339649.666666668,
             2221801.944,
             105015.75,
             20905601.61,
             2165653,
             338832.2116666667,
             1462236,
             343795,
             720870,
             32743371.42857143,
             1143624.13,
             7505000.333333332,
             11384904.285714285,
             7386407,
             2841583,
             1848635,
             10379436.75,
             237880.03333333327,
             17856431.2,
             348347,
             1533094.333333333,
             7422435.2,
             10449502.4,
             281711,
             4507343.666666667,
             347635,
             163346.395,
             1462861.5,
             1429119,
             1252302.176,
             2055582.0633333328,
             1430248.5,
             4467691,
             1083235,
             126611,
             33308271,
             2160364.99,
             1092580.333333333,
             12807311,
             399592,
             3732503.8625,
             10647,
             402364,
             1692340,
             885210,
             364972,
             26609670.2,
             3462180.5,
             4850026,
             57243,
             31625252,
             30685673.5,
             233009.87,
             355820.7966666667,
             18247063.5,
             4762364.27,
             1135259.34,
             4523788.285714285,
             12919949,
             480493,
             1058370,
             4082387,
             49644227.28571428,
             3690352,
             2348336.8,
             122846.25,
             15555.047059,
             17630629.302857142,
             16192139,
             36010,
             43442,
             5332983.516,
             7773812,
             1142797,
             7323420,
             2241101.666666666,
             2846433.78,
             3188954,
             2803844.75,
             1983623,
             1792000,
             3549993.815,
             4752386,
             16116813,
             12624227,
             4983516.378571428,
             652709.6233333334,
             241127.5,
             1811089,
             859274,
             3641614.666666666,
             4301000,
             592031.25,
             6834691.775714288,
             1269567,
             2236656.7800000003,
             6659101,
             501147,
             7700200.7179999985,
             583213,
             1284100.5666666671,
             1248650
            ],
            "sizemode": "area",
            "sizeref": 202340.8396,
            "symbol": "circle"
           },
           "mode": "markers",
           "name": "",
           "showlegend": false,
           "type": "scattergeo"
          }
         ],
         "name": "1"
        }
       ],
       "layout": {
        "coloraxis": {
         "colorbar": {
          "title": {
           "text": "pct_change2"
          }
         },
         "colorscale": [
          [
           0,
           "rgb(0,104,55)"
          ],
          [
           0.1,
           "rgb(26,152,80)"
          ],
          [
           0.2,
           "rgb(102,189,99)"
          ],
          [
           0.3,
           "rgb(166,217,106)"
          ],
          [
           0.4,
           "rgb(217,239,139)"
          ],
          [
           0.5,
           "rgb(255,255,191)"
          ],
          [
           0.6,
           "rgb(254,224,139)"
          ],
          [
           0.7,
           "rgb(253,174,97)"
          ],
          [
           0.8,
           "rgb(244,109,67)"
          ],
          [
           0.9,
           "rgb(215,48,39)"
          ],
          [
           1,
           "rgb(165,0,38)"
          ]
         ]
        },
        "geo": {
         "center": {},
         "domain": {
          "x": [
           0,
           1
          ],
          "y": [
           0,
           1
          ]
         },
         "projection": {
          "type": "natural earth"
         }
        },
        "legend": {
         "itemsizing": "constant",
         "tracegroupgap": 0
        },
        "margin": {
         "t": 60
        },
        "sliders": [
         {
          "active": 0,
          "currentvalue": {
           "prefix": "cluster="
          },
          "len": 0.9,
          "pad": {
           "b": 10,
           "t": 60
          },
          "steps": [
           {
            "args": [
             [
              "3"
             ],
             {
              "frame": {
               "duration": 0,
               "redraw": true
              },
              "fromcurrent": true,
              "mode": "immediate",
              "transition": {
               "duration": 0,
               "easing": "linear"
              }
             }
            ],
            "label": "3",
            "method": "animate"
           },
           {
            "args": [
             [
              "2"
             ],
             {
              "frame": {
               "duration": 0,
               "redraw": true
              },
              "fromcurrent": true,
              "mode": "immediate",
              "transition": {
               "duration": 0,
               "easing": "linear"
              }
             }
            ],
            "label": "2",
            "method": "animate"
           },
           {
            "args": [
             [
              "0"
             ],
             {
              "frame": {
               "duration": 0,
               "redraw": true
              },
              "fromcurrent": true,
              "mode": "immediate",
              "transition": {
               "duration": 0,
               "easing": "linear"
              }
             }
            ],
            "label": "0",
            "method": "animate"
           },
           {
            "args": [
             [
              "1"
             ],
             {
              "frame": {
               "duration": 0,
               "redraw": true
              },
              "fromcurrent": true,
              "mode": "immediate",
              "transition": {
               "duration": 0,
               "easing": "linear"
              }
             }
            ],
            "label": "1",
            "method": "animate"
           }
          ],
          "x": 0.1,
          "xanchor": "left",
          "y": 0,
          "yanchor": "top"
         }
        ],
        "template": {
         "data": {
          "bar": [
           {
            "error_x": {
             "color": "#2a3f5f"
            },
            "error_y": {
             "color": "#2a3f5f"
            },
            "marker": {
             "line": {
              "color": "#E5ECF6",
              "width": 0.5
             }
            },
            "type": "bar"
           }
          ],
          "barpolar": [
           {
            "marker": {
             "line": {
              "color": "#E5ECF6",
              "width": 0.5
             }
            },
            "type": "barpolar"
           }
          ],
          "carpet": [
           {
            "aaxis": {
             "endlinecolor": "#2a3f5f",
             "gridcolor": "white",
             "linecolor": "white",
             "minorgridcolor": "white",
             "startlinecolor": "#2a3f5f"
            },
            "baxis": {
             "endlinecolor": "#2a3f5f",
             "gridcolor": "white",
             "linecolor": "white",
             "minorgridcolor": "white",
             "startlinecolor": "#2a3f5f"
            },
            "type": "carpet"
           }
          ],
          "choropleth": [
           {
            "colorbar": {
             "outlinewidth": 0,
             "ticks": ""
            },
            "type": "choropleth"
           }
          ],
          "contour": [
           {
            "colorbar": {
             "outlinewidth": 0,
             "ticks": ""
            },
            "colorscale": [
             [
              0,
              "#0d0887"
             ],
             [
              0.1111111111111111,
              "#46039f"
             ],
             [
              0.2222222222222222,
              "#7201a8"
             ],
             [
              0.3333333333333333,
              "#9c179e"
             ],
             [
              0.4444444444444444,
              "#bd3786"
             ],
             [
              0.5555555555555556,
              "#d8576b"
             ],
             [
              0.6666666666666666,
              "#ed7953"
             ],
             [
              0.7777777777777778,
              "#fb9f3a"
             ],
             [
              0.8888888888888888,
              "#fdca26"
             ],
             [
              1,
              "#f0f921"
             ]
            ],
            "type": "contour"
           }
          ],
          "contourcarpet": [
           {
            "colorbar": {
             "outlinewidth": 0,
             "ticks": ""
            },
            "type": "contourcarpet"
           }
          ],
          "heatmap": [
           {
            "colorbar": {
             "outlinewidth": 0,
             "ticks": ""
            },
            "colorscale": [
             [
              0,
              "#0d0887"
             ],
             [
              0.1111111111111111,
              "#46039f"
             ],
             [
              0.2222222222222222,
              "#7201a8"
             ],
             [
              0.3333333333333333,
              "#9c179e"
             ],
             [
              0.4444444444444444,
              "#bd3786"
             ],
             [
              0.5555555555555556,
              "#d8576b"
             ],
             [
              0.6666666666666666,
              "#ed7953"
             ],
             [
              0.7777777777777778,
              "#fb9f3a"
             ],
             [
              0.8888888888888888,
              "#fdca26"
             ],
             [
              1,
              "#f0f921"
             ]
            ],
            "type": "heatmap"
           }
          ],
          "heatmapgl": [
           {
            "colorbar": {
             "outlinewidth": 0,
             "ticks": ""
            },
            "colorscale": [
             [
              0,
              "#0d0887"
             ],
             [
              0.1111111111111111,
              "#46039f"
             ],
             [
              0.2222222222222222,
              "#7201a8"
             ],
             [
              0.3333333333333333,
              "#9c179e"
             ],
             [
              0.4444444444444444,
              "#bd3786"
             ],
             [
              0.5555555555555556,
              "#d8576b"
             ],
             [
              0.6666666666666666,
              "#ed7953"
             ],
             [
              0.7777777777777778,
              "#fb9f3a"
             ],
             [
              0.8888888888888888,
              "#fdca26"
             ],
             [
              1,
              "#f0f921"
             ]
            ],
            "type": "heatmapgl"
           }
          ],
          "histogram": [
           {
            "marker": {
             "colorbar": {
              "outlinewidth": 0,
              "ticks": ""
             }
            },
            "type": "histogram"
           }
          ],
          "histogram2d": [
           {
            "colorbar": {
             "outlinewidth": 0,
             "ticks": ""
            },
            "colorscale": [
             [
              0,
              "#0d0887"
             ],
             [
              0.1111111111111111,
              "#46039f"
             ],
             [
              0.2222222222222222,
              "#7201a8"
             ],
             [
              0.3333333333333333,
              "#9c179e"
             ],
             [
              0.4444444444444444,
              "#bd3786"
             ],
             [
              0.5555555555555556,
              "#d8576b"
             ],
             [
              0.6666666666666666,
              "#ed7953"
             ],
             [
              0.7777777777777778,
              "#fb9f3a"
             ],
             [
              0.8888888888888888,
              "#fdca26"
             ],
             [
              1,
              "#f0f921"
             ]
            ],
            "type": "histogram2d"
           }
          ],
          "histogram2dcontour": [
           {
            "colorbar": {
             "outlinewidth": 0,
             "ticks": ""
            },
            "colorscale": [
             [
              0,
              "#0d0887"
             ],
             [
              0.1111111111111111,
              "#46039f"
             ],
             [
              0.2222222222222222,
              "#7201a8"
             ],
             [
              0.3333333333333333,
              "#9c179e"
             ],
             [
              0.4444444444444444,
              "#bd3786"
             ],
             [
              0.5555555555555556,
              "#d8576b"
             ],
             [
              0.6666666666666666,
              "#ed7953"
             ],
             [
              0.7777777777777778,
              "#fb9f3a"
             ],
             [
              0.8888888888888888,
              "#fdca26"
             ],
             [
              1,
              "#f0f921"
             ]
            ],
            "type": "histogram2dcontour"
           }
          ],
          "mesh3d": [
           {
            "colorbar": {
             "outlinewidth": 0,
             "ticks": ""
            },
            "type": "mesh3d"
           }
          ],
          "parcoords": [
           {
            "line": {
             "colorbar": {
              "outlinewidth": 0,
              "ticks": ""
             }
            },
            "type": "parcoords"
           }
          ],
          "pie": [
           {
            "automargin": true,
            "type": "pie"
           }
          ],
          "scatter": [
           {
            "marker": {
             "colorbar": {
              "outlinewidth": 0,
              "ticks": ""
             }
            },
            "type": "scatter"
           }
          ],
          "scatter3d": [
           {
            "line": {
             "colorbar": {
              "outlinewidth": 0,
              "ticks": ""
             }
            },
            "marker": {
             "colorbar": {
              "outlinewidth": 0,
              "ticks": ""
             }
            },
            "type": "scatter3d"
           }
          ],
          "scattercarpet": [
           {
            "marker": {
             "colorbar": {
              "outlinewidth": 0,
              "ticks": ""
             }
            },
            "type": "scattercarpet"
           }
          ],
          "scattergeo": [
           {
            "marker": {
             "colorbar": {
              "outlinewidth": 0,
              "ticks": ""
             }
            },
            "type": "scattergeo"
           }
          ],
          "scattergl": [
           {
            "marker": {
             "colorbar": {
              "outlinewidth": 0,
              "ticks": ""
             }
            },
            "type": "scattergl"
           }
          ],
          "scattermapbox": [
           {
            "marker": {
             "colorbar": {
              "outlinewidth": 0,
              "ticks": ""
             }
            },
            "type": "scattermapbox"
           }
          ],
          "scatterpolar": [
           {
            "marker": {
             "colorbar": {
              "outlinewidth": 0,
              "ticks": ""
             }
            },
            "type": "scatterpolar"
           }
          ],
          "scatterpolargl": [
           {
            "marker": {
             "colorbar": {
              "outlinewidth": 0,
              "ticks": ""
             }
            },
            "type": "scatterpolargl"
           }
          ],
          "scatterternary": [
           {
            "marker": {
             "colorbar": {
              "outlinewidth": 0,
              "ticks": ""
             }
            },
            "type": "scatterternary"
           }
          ],
          "surface": [
           {
            "colorbar": {
             "outlinewidth": 0,
             "ticks": ""
            },
            "colorscale": [
             [
              0,
              "#0d0887"
             ],
             [
              0.1111111111111111,
              "#46039f"
             ],
             [
              0.2222222222222222,
              "#7201a8"
             ],
             [
              0.3333333333333333,
              "#9c179e"
             ],
             [
              0.4444444444444444,
              "#bd3786"
             ],
             [
              0.5555555555555556,
              "#d8576b"
             ],
             [
              0.6666666666666666,
              "#ed7953"
             ],
             [
              0.7777777777777778,
              "#fb9f3a"
             ],
             [
              0.8888888888888888,
              "#fdca26"
             ],
             [
              1,
              "#f0f921"
             ]
            ],
            "type": "surface"
           }
          ],
          "table": [
           {
            "cells": {
             "fill": {
              "color": "#EBF0F8"
             },
             "line": {
              "color": "white"
             }
            },
            "header": {
             "fill": {
              "color": "#C8D4E3"
             },
             "line": {
              "color": "white"
             }
            },
            "type": "table"
           }
          ]
         },
         "layout": {
          "annotationdefaults": {
           "arrowcolor": "#2a3f5f",
           "arrowhead": 0,
           "arrowwidth": 1
          },
          "autotypenumbers": "strict",
          "coloraxis": {
           "colorbar": {
            "outlinewidth": 0,
            "ticks": ""
           }
          },
          "colorscale": {
           "diverging": [
            [
             0,
             "#8e0152"
            ],
            [
             0.1,
             "#c51b7d"
            ],
            [
             0.2,
             "#de77ae"
            ],
            [
             0.3,
             "#f1b6da"
            ],
            [
             0.4,
             "#fde0ef"
            ],
            [
             0.5,
             "#f7f7f7"
            ],
            [
             0.6,
             "#e6f5d0"
            ],
            [
             0.7,
             "#b8e186"
            ],
            [
             0.8,
             "#7fbc41"
            ],
            [
             0.9,
             "#4d9221"
            ],
            [
             1,
             "#276419"
            ]
           ],
           "sequential": [
            [
             0,
             "#0d0887"
            ],
            [
             0.1111111111111111,
             "#46039f"
            ],
            [
             0.2222222222222222,
             "#7201a8"
            ],
            [
             0.3333333333333333,
             "#9c179e"
            ],
            [
             0.4444444444444444,
             "#bd3786"
            ],
            [
             0.5555555555555556,
             "#d8576b"
            ],
            [
             0.6666666666666666,
             "#ed7953"
            ],
            [
             0.7777777777777778,
             "#fb9f3a"
            ],
            [
             0.8888888888888888,
             "#fdca26"
            ],
            [
             1,
             "#f0f921"
            ]
           ],
           "sequentialminus": [
            [
             0,
             "#0d0887"
            ],
            [
             0.1111111111111111,
             "#46039f"
            ],
            [
             0.2222222222222222,
             "#7201a8"
            ],
            [
             0.3333333333333333,
             "#9c179e"
            ],
            [
             0.4444444444444444,
             "#bd3786"
            ],
            [
             0.5555555555555556,
             "#d8576b"
            ],
            [
             0.6666666666666666,
             "#ed7953"
            ],
            [
             0.7777777777777778,
             "#fb9f3a"
            ],
            [
             0.8888888888888888,
             "#fdca26"
            ],
            [
             1,
             "#f0f921"
            ]
           ]
          },
          "colorway": [
           "#636efa",
           "#EF553B",
           "#00cc96",
           "#ab63fa",
           "#FFA15A",
           "#19d3f3",
           "#FF6692",
           "#B6E880",
           "#FF97FF",
           "#FECB52"
          ],
          "font": {
           "color": "#2a3f5f"
          },
          "geo": {
           "bgcolor": "white",
           "lakecolor": "white",
           "landcolor": "#E5ECF6",
           "showlakes": true,
           "showland": true,
           "subunitcolor": "white"
          },
          "hoverlabel": {
           "align": "left"
          },
          "hovermode": "closest",
          "mapbox": {
           "style": "light"
          },
          "paper_bgcolor": "white",
          "plot_bgcolor": "#E5ECF6",
          "polar": {
           "angularaxis": {
            "gridcolor": "white",
            "linecolor": "white",
            "ticks": ""
           },
           "bgcolor": "#E5ECF6",
           "radialaxis": {
            "gridcolor": "white",
            "linecolor": "white",
            "ticks": ""
           }
          },
          "scene": {
           "xaxis": {
            "backgroundcolor": "#E5ECF6",
            "gridcolor": "white",
            "gridwidth": 2,
            "linecolor": "white",
            "showbackground": true,
            "ticks": "",
            "zerolinecolor": "white"
           },
           "yaxis": {
            "backgroundcolor": "#E5ECF6",
            "gridcolor": "white",
            "gridwidth": 2,
            "linecolor": "white",
            "showbackground": true,
            "ticks": "",
            "zerolinecolor": "white"
           },
           "zaxis": {
            "backgroundcolor": "#E5ECF6",
            "gridcolor": "white",
            "gridwidth": 2,
            "linecolor": "white",
            "showbackground": true,
            "ticks": "",
            "zerolinecolor": "white"
           }
          },
          "shapedefaults": {
           "line": {
            "color": "#2a3f5f"
           }
          },
          "ternary": {
           "aaxis": {
            "gridcolor": "white",
            "linecolor": "white",
            "ticks": ""
           },
           "baxis": {
            "gridcolor": "white",
            "linecolor": "white",
            "ticks": ""
           },
           "bgcolor": "#E5ECF6",
           "caxis": {
            "gridcolor": "white",
            "linecolor": "white",
            "ticks": ""
           }
          },
          "title": {
           "x": 0.05
          },
          "xaxis": {
           "automargin": true,
           "gridcolor": "white",
           "linecolor": "white",
           "ticks": "",
           "title": {
            "standoff": 15
           },
           "zerolinecolor": "white",
           "zerolinewidth": 2
          },
          "yaxis": {
           "automargin": true,
           "gridcolor": "white",
           "linecolor": "white",
           "ticks": "",
           "title": {
            "standoff": 15
           },
           "zerolinecolor": "white",
           "zerolinewidth": 2
          }
         }
        },
        "updatemenus": [
         {
          "buttons": [
           {
            "args": [
             null,
             {
              "frame": {
               "duration": 500,
               "redraw": true
              },
              "fromcurrent": true,
              "mode": "immediate",
              "transition": {
               "duration": 500,
               "easing": "linear"
              }
             }
            ],
            "label": "&#9654;",
            "method": "animate"
           },
           {
            "args": [
             [
              null
             ],
             {
              "frame": {
               "duration": 0,
               "redraw": true
              },
              "fromcurrent": true,
              "mode": "immediate",
              "transition": {
               "duration": 0,
               "easing": "linear"
              }
             }
            ],
            "label": "&#9724;",
            "method": "animate"
           }
          ],
          "direction": "left",
          "pad": {
           "r": 10,
           "t": 70
          },
          "showactive": false,
          "type": "buttons",
          "x": 0.1,
          "xanchor": "right",
          "y": 0,
          "yanchor": "top"
         }
        ]
       }
      },
      "text/html": [
       "<div>                            <div id=\"6a6bc655-4727-48bb-8b00-4edf54ad4d36\" class=\"plotly-graph-div\" style=\"height:525px; width:100%;\"></div>            <script type=\"text/javascript\">                require([\"plotly\"], function(Plotly) {                    window.PLOTLYENV=window.PLOTLYENV || {};                                    if (document.getElementById(\"6a6bc655-4727-48bb-8b00-4edf54ad4d36\")) {                    Plotly.newPlot(                        \"6a6bc655-4727-48bb-8b00-4edf54ad4d36\",                        [{\"customdata\": [[\"Albania\", 610773.0, null], [\"Argentina\", 15258800.244285716, 3016817.0], [\"Argentina\", 5004314.333333333, null], [\"Argentina\", 395490.62, null], [\"Argentina\", 54024257.0, 115041.0], [\"Argentina\", 938987.0, null], [\"Bulgaria\", 4867839.116666666, 1402665.5], [\"Bulgaria\", 1104.0, null], [\"Bolivia\", 1380.95, null], [\"Brazil\", 1082862.0, null], [\"Brazil\", 3556507.551428572, 2463719.666666667], [\"Brazil\", 3699985.5, null], [\"Brazil\", 773983.0, null], [\"Brazil\", 3615331.333333334, 1822952.0], [\"Brazil\", 131925.96, null], [\"Brazil\", 1258134.142857143, null], [\"Brazil\", 4559979.4095, null], [\"Brazil\", 2016320.0, null], [\"Brazil\", 548195.98, null], [\"Brazil\", 2726421.666666666, null], [\"Brazil\", 1195051.0, null], [\"Brazil\", 1580803.45, null], [\"Brazil\", 625391.59, null], [\"Brazil\", 2590161.5, null], [\"Brazil\", 17164389.21, null], [\"Brazil\", 959544.652, 1619576.0], [\"Brazil\", 18492265.03, null], [\"Brazil\", 3520657.75, null], [\"Brazil\", 15622980.5, null], [\"Brazil\", 1131824.6, 661991.0], [\"Brazil\", 3127795.465, null], [\"Chile\", 24003572.3, 7399031.6], [\"Colombia\", 14465150.51, null], [\"Colombia\", 4615846.279999998, null], [\"Colombia\", 2330487.0, null], [\"Colombia\", 2784141.0, null], [\"Colombia\", 903.738, null], [\"Colombia\", 4174608.0, null], [\"Colombia\", 208681.0, null], [\"Comoros\", 45274.0, null], [\"Costa Rica\", 988760.71, null], [\"Ecuador\", 5264282.0, 2239191.0], [\"Ecuador\", 6787374.0, null], [\"Spain\", 3579483.0, 1617601.5], [\"Spain\", 10930773.285714284, 2397950.5], [\"Spain\", 1734423.59, null], [\"Spain\", 2409104.5, 674097.4], [\"Ethiopia\", 4376076.0, 3516188.6], [\"France\", 2150000.0, null], [\"France\", 2770589.5, 550000.0], [\"France\", 6342506.857142857, 2242245.333333333], [\"Ghana\", 1092173.0, null], [\"Greece\", 4427191.833333333, 664046.0], [\"Honduras\", 5034285.89, null], [\"Indonesia\", 2193642.0, null], [\"Indonesia\", 28665451.07, 10216080.5], [\"Italy\", 2203176.6025, null], [\"Italy\", 1582605.13, null], [\"Italy\", 1630308.0, null], [\"Italy\", 1999159.666666667, null], [\"Italy\", 6065119.020000001, null], [\"Italy\", 2913435.0, null], [\"Italy\", 2736378.5, null], [\"Italy\", 154534.0, null], [\"Italy\", 1892158.0, null], [\"Italy\", 615452.0, null], [\"Italy\", 10372.5, 235996.0], [\"Italy\", 12216361.666666664, 2148980.4035], [\"Italy\", 4028611.75, 885408.6], [\"Italy\", 5065364.0, null], [\"Italy\", 613588.0, null], [\"Italy\", 2743488.5, 261169.75], [\"Jordan\", 8537852.2, 3777487.25], [\"Mexico\", 14330261.0, null], [\"Mexico\", 1131908.75, null], [\"Mexico\", 3905713.0, null], [\"Mexico\", 5012357.0, null], [\"Mexico\", 26368231.80571429, null], [\"Mexico\", 2673675.995, null], [\"Nigeria\", 10000.0, 6091589.0], [\"Nigeria\", 29476644.25, null], [\"Peru\", 15551216.0, 9120333.5], [\"Peru\", 227023.265, null], [\"Philippines\", 428998.0, 343314.0], [\"Philippines\", 1061478.0, null], [\"Philippines\", 788108.0, null], [\"Portugal\", 258882.0, null], [\"Portugal\", 287419.66666666674, 78764.0], [\"Portugal\", 18052.325594, null], [\"Portugal\", 618626.2, 210298.0], [\"Portugal\", 170264.8, null], [\"Portugal\", 260.88750000000005, 61059.0], [\"Portugal\", 401595.0, null], [\"Portugal\", 2556307.5, 547753.0], [\"Portugal\", 65293.74333333334, 66029.0], [\"Portugal\", 1084516.166666667, 238272.5], [\"Portugal\", 242554.0, null], [\"Portugal\", 415526.0, null], [\"Portugal\", 267988.5, null], [\"Thailand\", 47240334.0, null], [\"Turkey\", 758627.0, null], [\"Turkey\", 50341916.0, null], [\"Turkey\", 485.55, 226.8], [\"Turkey\", 546.6666666666666, 226.8], [\"Uruguay\", 3726857.0, null], [\"Venezuela\", 17561958.8, 3518590.0], [\"Vietnam\", 32563662.5, null], [\"South Africa\", 21929248.031666666, null], [\"South Africa\", 19577428.666666668, 10652765.4], [\"South Africa\", 16195880.044000002, 5101095.25], [\"South Africa\", 12232310.0, null], [\"South Africa\", 53141968.66666666, null], [\"South Africa\", 11984729.0, null]], \"geo\": \"geo\", \"hovertemplate\": \"<b>%{hovertext}</b><br><br>cluster=3<br>CDP_TotalEmissions=%{customdata[1]}<br>City_Latitude=%{lat}<br>City_Longitude=%{lon}<br>Country Name=%{customdata[0]}<br>City_Population=%{customdata[2]}<br>pct_change2=%{marker.color}<extra></extra>\", \"hovertext\": [\"Tirana\", \"Buenos Aires\", \"Cordoba\", \"General Alvear Buenos Aires\", \"Mendoza\", \"Rio Grande\", \"Sofia\", \"Stara Zagora\", \"La Paz\", \"Aracaju\", \"Belo Horizonte\", \"Betim\", \"Brasilia\", \"Curitiba\", \"Extrema\", \"Florianopolis\", \"Fortaleza\", \"Goiania\", \"Guaratingueta\", \"Joao Pessoa\", \"Londrina\", \"Niteroi\", \"Palmas\", \"Porto Alegre\", \"Porto Velho\", \"Recife\", \"RioJaneiro\", \"Salvador\", \"Sao Paulo\", \"Sorocaba\", \"Vitoria\", \"Santiago\", \"Bogota\", \"Cali\", \"Ibague\", \"Medellin\", \"Monteria\", \"SantiagoCali\", \"Tulua\", \"Moroni\", \"San Jose\", \"Quito\", \"SantiagoGuayaquil\", \"Barcelona\", \"Madrid\", \"Valencia\", \"Zaragoza\", \"Addis Ababa\", \"Nancy\", \"Nice\", \"Paris\", \"Accra\", \"Athens\", \"Tegucigalpa\", \"Bogor\", \"Jakarta\", \"Bologna\", \"Ferrara\", \"Firenze\", \"Genova\", \"Milano\", \"Naples\", \"Napoli\", \"Oristano\", \"Padova\", \"Piacenza\", \"Ravenna\", \"Roma\", \"Torino\", \"Turin\", \"Udine\", \"Venezia\", \"Amman\", \"Chihuahua\", \"Cuernevaca\", \"Guadalajara\", \"Leonlos Aldamas\", \"Mexico\", \"San Luis Potosi\", \"Ibadan\", \"Lagos\", \"Lima\", \"San Isidro Lima\", \"Batangas\", \"Makati\", \"Paranaque\", \"Agueda\", \"Barreiro\", \"CamaraLobos\", \"Cascais\", \"Fafe\", \"Faro\", \"Guimaraes\", \"Lisbon\", \"Moita\", \"Porto\", \"Santarem\", \"Seixal\", \"Torres Vedras\", \"Bangkok\", \"Bornova\", \"Istanbul\", \"Kadiovacik\", \"Urla\", \"Montevideo\", \"Caracas\", \"Ho Chi Minh\", \"Cape\", \"Durban\", \"Johannesburg\", \"Nelson Mandela Bay\", \"Pretoria  Tshwane\", \"Pretoria Tshwane\"], \"lat\": [null, -34.603723200000005, null, null, -32.8894, null, 42.6977, null, null, null, -19.9167, null, null, 8.309021000000001, null, null, null, null, null, null, null, null, null, null, null, 8.3127386, null, null, null, -23.4774899, null, -33.469119899999995, null, null, null, null, null, null, null, null, null, -0.2333, null, 41.382271, 40.4167754, null, 41.6488226, 9.028874, null, 43.710173, 48.856614, null, 37.98381, null, null, -6.2087634000000005, null, null, null, null, null, null, null, null, null, null, 41.913028000000004, 41.8723889, 45.070312, null, null, 45.440847399999996, 31.945366999999997, null, null, null, null, null, null, 7.377535000000001, null, -12.046374, null, 13.756464999999999, null, null, null, 38.660815, null, 38.6970565, null, 57.9441874, null, 38.722252399999995, 41.30284, 41.1579438, null, null, null, null, null, null, 38.3434574, 38.3434574, null, 10.469640400000001, null, null, -29.8586804, -26.2041028, null, null, null], \"legendgroup\": \"\", \"lon\": [null, -58.381593099999996, null, null, -68.8458, null, 23.3219, null, null, null, -43.9333, null, null, -62.7288829, null, null, null, null, null, null, null, null, null, null, null, -62.7284414, null, null, null, -47.4220615, null, -70.641997, null, null, null, null, null, null, null, null, null, -78.5167, null, 2.177506, -3.7037902000000003, null, -0.8890853000000001, 38.754366, null, 7.261953, 2.3522218999999995, null, 23.727539, null, null, 106.84559899999999, null, null, null, null, null, null, null, null, null, null, 12.518037, 12.4801802, 7.6868565, null, null, 12.315515099999999, 35.928371999999996, null, null, null, null, null, null, 3.9470400000000003, null, -77.042793, null, 121.05830800000001, null, null, null, -9.079072, null, -9.4222945, null, 19.1424789, null, -9.1393366, -8.65731, -8.6291053, null, null, null, null, null, null, 26.553613000000002, 26.553613000000002, null, -66.8037185, null, null, 31.0218404, 28.04730510000001, null, null, null], \"marker\": {\"color\": [0.0, 0.1857142857142857, -0.03333333333333333, 0.0, 0.0, 0.05, 0.13333333333333333, 0.0, -0.05, 0.05, 0.07142857142857142, -0.35, 0.0, 0.05, 0.0, 0.5428571428571428, 0.0, 0.0, 0.0, 0.03333333333333333, -0.06666666666666668, 0.05, 0.0, -0.1, 0.0, 0.07999999999999999, 0.1285714285714286, -0.05, 0.025, 0.03333333333333333, 0.1, 0.05000000000000001, -0.03333333333333333, 0.0, 0.0, 0.0, 0.0, 0.0, 0.0, 0.1, 0.0, 0.0, 0.0, 0.05, 0.0, 0.0, -0.1, 0.2, 0.0, -0.1, 0.11428571428571427, 0.0, 0.0, 0.0, 0.0, -0.28, -0.025, 0.0, 0.0, -0.06666666666666668, 0.0, 0.0, -0.05, 0.0, 0.0, 0.0, -0.1, 0.2333333333333333, -0.025, 0.0, 0.0, 0.0, 0.14, 0.0, 0.0, 0.0, 0.0, 0.014285714285714282, -0.35, 0.0, 0.0, 0.0, -0.3, -0.09999999999999998, -0.35, 0.0, 0.0, 0.0, 0.0, 0.1, 0.02, -0.025, 0.0, -0.05000000000000001, -0.3333333333333333, -0.05000000000000001, -0.275, 0.0, 0.05, 0.0, 0.0, 0.05, -0.08, 1.1, -0.1, 0.0, 0.1, 0.0, 0.26666666666666666, -0.1, 0.0, 0.0, 0.0], \"coloraxis\": \"coloraxis\", \"opacity\": 0.6, \"size\": [610773.0, 15258800.244285716, 5004314.333333333, 395490.62, 54024257.0, 938987.0, 4867839.116666666, 1104.0, 1380.95, 1082862.0, 3556507.551428572, 3699985.5, 773983.0, 3615331.333333334, 131925.96, 1258134.142857143, 4559979.4095, 2016320.0, 548195.98, 2726421.666666666, 1195051.0, 1580803.45, 625391.59, 2590161.5, 17164389.21, 959544.652, 18492265.03, 3520657.75, 15622980.5, 1131824.6, 3127795.465, 24003572.3, 14465150.51, 4615846.279999998, 2330487.0, 2784141.0, 903.738, 4174608.0, 208681.0, 45274.0, 988760.71, 5264282.0, 6787374.0, 3579483.0, 10930773.285714284, 1734423.59, 2409104.5, 4376076.0, 2150000.0, 2770589.5, 6342506.857142857, 1092173.0, 4427191.833333333, 5034285.89, 2193642.0, 28665451.07, 2203176.6025, 1582605.13, 1630308.0, 1999159.666666667, 6065119.020000001, 2913435.0, 2736378.5, 154534.0, 1892158.0, 615452.0, 10372.5, 12216361.666666664, 4028611.75, 5065364.0, 613588.0, 2743488.5, 8537852.2, 14330261.0, 1131908.75, 3905713.0, 5012357.0, 26368231.80571429, 2673675.995, 10000.0, 29476644.25, 15551216.0, 227023.265, 428998.0, 1061478.0, 788108.0, 258882.0, 287419.66666666674, 18052.325594, 618626.2, 170264.8, 260.88750000000005, 401595.0, 2556307.5, 65293.74333333334, 1084516.166666667, 242554.0, 415526.0, 267988.5, 47240334.0, 758627.0, 50341916.0, 485.55, 546.6666666666666, 3726857.0, 17561958.8, 32563662.5, 21929248.031666666, 19577428.666666668, 16195880.044000002, 12232310.0, 53141968.66666666, 11984729.0], \"sizemode\": \"area\", \"sizeref\": 202340.8396, \"symbol\": \"circle\"}, \"mode\": \"markers\", \"name\": \"\", \"showlegend\": false, \"type\": \"scattergeo\"}],                        {\"coloraxis\": {\"colorbar\": {\"title\": {\"text\": \"pct_change2\"}}, \"colorscale\": [[0.0, \"rgb(0,104,55)\"], [0.1, \"rgb(26,152,80)\"], [0.2, \"rgb(102,189,99)\"], [0.3, \"rgb(166,217,106)\"], [0.4, \"rgb(217,239,139)\"], [0.5, \"rgb(255,255,191)\"], [0.6, \"rgb(254,224,139)\"], [0.7, \"rgb(253,174,97)\"], [0.8, \"rgb(244,109,67)\"], [0.9, \"rgb(215,48,39)\"], [1.0, \"rgb(165,0,38)\"]]}, \"geo\": {\"center\": {}, \"domain\": {\"x\": [0.0, 1.0], \"y\": [0.0, 1.0]}, \"projection\": {\"type\": \"natural earth\"}}, \"legend\": {\"itemsizing\": \"constant\", \"tracegroupgap\": 0}, \"margin\": {\"t\": 60}, \"sliders\": [{\"active\": 0, \"currentvalue\": {\"prefix\": \"cluster=\"}, \"len\": 0.9, \"pad\": {\"b\": 10, \"t\": 60}, \"steps\": [{\"args\": [[\"3\"], {\"frame\": {\"duration\": 0, \"redraw\": true}, \"fromcurrent\": true, \"mode\": \"immediate\", \"transition\": {\"duration\": 0, \"easing\": \"linear\"}}], \"label\": \"3\", \"method\": \"animate\"}, {\"args\": [[\"2\"], {\"frame\": {\"duration\": 0, \"redraw\": true}, \"fromcurrent\": true, \"mode\": \"immediate\", \"transition\": {\"duration\": 0, \"easing\": \"linear\"}}], \"label\": \"2\", \"method\": \"animate\"}, {\"args\": [[\"0\"], {\"frame\": {\"duration\": 0, \"redraw\": true}, \"fromcurrent\": true, \"mode\": \"immediate\", \"transition\": {\"duration\": 0, \"easing\": \"linear\"}}], \"label\": \"0\", \"method\": \"animate\"}, {\"args\": [[\"1\"], {\"frame\": {\"duration\": 0, \"redraw\": true}, \"fromcurrent\": true, \"mode\": \"immediate\", \"transition\": {\"duration\": 0, \"easing\": \"linear\"}}], \"label\": \"1\", \"method\": \"animate\"}], \"x\": 0.1, \"xanchor\": \"left\", \"y\": 0, \"yanchor\": \"top\"}], \"template\": {\"data\": {\"bar\": [{\"error_x\": {\"color\": \"#2a3f5f\"}, \"error_y\": {\"color\": \"#2a3f5f\"}, \"marker\": {\"line\": {\"color\": \"#E5ECF6\", \"width\": 0.5}}, \"type\": \"bar\"}], \"barpolar\": [{\"marker\": {\"line\": {\"color\": \"#E5ECF6\", \"width\": 0.5}}, \"type\": \"barpolar\"}], \"carpet\": [{\"aaxis\": {\"endlinecolor\": \"#2a3f5f\", \"gridcolor\": \"white\", \"linecolor\": \"white\", \"minorgridcolor\": \"white\", \"startlinecolor\": \"#2a3f5f\"}, \"baxis\": {\"endlinecolor\": \"#2a3f5f\", \"gridcolor\": \"white\", \"linecolor\": \"white\", \"minorgridcolor\": \"white\", \"startlinecolor\": \"#2a3f5f\"}, \"type\": \"carpet\"}], \"choropleth\": [{\"colorbar\": {\"outlinewidth\": 0, \"ticks\": \"\"}, \"type\": \"choropleth\"}], \"contour\": [{\"colorbar\": {\"outlinewidth\": 0, \"ticks\": \"\"}, \"colorscale\": [[0.0, \"#0d0887\"], [0.1111111111111111, \"#46039f\"], [0.2222222222222222, \"#7201a8\"], [0.3333333333333333, \"#9c179e\"], [0.4444444444444444, \"#bd3786\"], [0.5555555555555556, \"#d8576b\"], [0.6666666666666666, \"#ed7953\"], [0.7777777777777778, \"#fb9f3a\"], [0.8888888888888888, \"#fdca26\"], [1.0, \"#f0f921\"]], \"type\": \"contour\"}], \"contourcarpet\": [{\"colorbar\": {\"outlinewidth\": 0, \"ticks\": \"\"}, \"type\": \"contourcarpet\"}], \"heatmap\": [{\"colorbar\": {\"outlinewidth\": 0, \"ticks\": \"\"}, \"colorscale\": [[0.0, \"#0d0887\"], [0.1111111111111111, \"#46039f\"], [0.2222222222222222, \"#7201a8\"], [0.3333333333333333, \"#9c179e\"], [0.4444444444444444, \"#bd3786\"], [0.5555555555555556, \"#d8576b\"], [0.6666666666666666, \"#ed7953\"], [0.7777777777777778, \"#fb9f3a\"], [0.8888888888888888, \"#fdca26\"], [1.0, \"#f0f921\"]], \"type\": \"heatmap\"}], \"heatmapgl\": [{\"colorbar\": {\"outlinewidth\": 0, \"ticks\": \"\"}, \"colorscale\": [[0.0, \"#0d0887\"], [0.1111111111111111, \"#46039f\"], [0.2222222222222222, \"#7201a8\"], [0.3333333333333333, \"#9c179e\"], [0.4444444444444444, \"#bd3786\"], [0.5555555555555556, \"#d8576b\"], [0.6666666666666666, \"#ed7953\"], [0.7777777777777778, \"#fb9f3a\"], [0.8888888888888888, \"#fdca26\"], [1.0, \"#f0f921\"]], \"type\": \"heatmapgl\"}], \"histogram\": [{\"marker\": {\"colorbar\": {\"outlinewidth\": 0, \"ticks\": \"\"}}, \"type\": \"histogram\"}], \"histogram2d\": [{\"colorbar\": {\"outlinewidth\": 0, \"ticks\": \"\"}, \"colorscale\": [[0.0, \"#0d0887\"], [0.1111111111111111, \"#46039f\"], [0.2222222222222222, \"#7201a8\"], [0.3333333333333333, \"#9c179e\"], [0.4444444444444444, \"#bd3786\"], [0.5555555555555556, \"#d8576b\"], [0.6666666666666666, \"#ed7953\"], [0.7777777777777778, \"#fb9f3a\"], [0.8888888888888888, \"#fdca26\"], [1.0, \"#f0f921\"]], \"type\": \"histogram2d\"}], \"histogram2dcontour\": [{\"colorbar\": {\"outlinewidth\": 0, \"ticks\": \"\"}, \"colorscale\": [[0.0, \"#0d0887\"], [0.1111111111111111, \"#46039f\"], [0.2222222222222222, \"#7201a8\"], [0.3333333333333333, \"#9c179e\"], [0.4444444444444444, \"#bd3786\"], [0.5555555555555556, \"#d8576b\"], [0.6666666666666666, \"#ed7953\"], [0.7777777777777778, \"#fb9f3a\"], [0.8888888888888888, \"#fdca26\"], [1.0, \"#f0f921\"]], \"type\": \"histogram2dcontour\"}], \"mesh3d\": [{\"colorbar\": {\"outlinewidth\": 0, \"ticks\": \"\"}, \"type\": \"mesh3d\"}], \"parcoords\": [{\"line\": {\"colorbar\": {\"outlinewidth\": 0, \"ticks\": \"\"}}, \"type\": \"parcoords\"}], \"pie\": [{\"automargin\": true, \"type\": \"pie\"}], \"scatter\": [{\"marker\": {\"colorbar\": {\"outlinewidth\": 0, \"ticks\": \"\"}}, \"type\": \"scatter\"}], \"scatter3d\": [{\"line\": {\"colorbar\": {\"outlinewidth\": 0, \"ticks\": \"\"}}, \"marker\": {\"colorbar\": {\"outlinewidth\": 0, \"ticks\": \"\"}}, \"type\": \"scatter3d\"}], \"scattercarpet\": [{\"marker\": {\"colorbar\": {\"outlinewidth\": 0, \"ticks\": \"\"}}, \"type\": \"scattercarpet\"}], \"scattergeo\": [{\"marker\": {\"colorbar\": {\"outlinewidth\": 0, \"ticks\": \"\"}}, \"type\": \"scattergeo\"}], \"scattergl\": [{\"marker\": {\"colorbar\": {\"outlinewidth\": 0, \"ticks\": \"\"}}, \"type\": \"scattergl\"}], \"scattermapbox\": [{\"marker\": {\"colorbar\": {\"outlinewidth\": 0, \"ticks\": \"\"}}, \"type\": \"scattermapbox\"}], \"scatterpolar\": [{\"marker\": {\"colorbar\": {\"outlinewidth\": 0, \"ticks\": \"\"}}, \"type\": \"scatterpolar\"}], \"scatterpolargl\": [{\"marker\": {\"colorbar\": {\"outlinewidth\": 0, \"ticks\": \"\"}}, \"type\": \"scatterpolargl\"}], \"scatterternary\": [{\"marker\": {\"colorbar\": {\"outlinewidth\": 0, \"ticks\": \"\"}}, \"type\": \"scatterternary\"}], \"surface\": [{\"colorbar\": {\"outlinewidth\": 0, \"ticks\": \"\"}, \"colorscale\": [[0.0, \"#0d0887\"], [0.1111111111111111, \"#46039f\"], [0.2222222222222222, \"#7201a8\"], [0.3333333333333333, \"#9c179e\"], [0.4444444444444444, \"#bd3786\"], [0.5555555555555556, \"#d8576b\"], [0.6666666666666666, \"#ed7953\"], [0.7777777777777778, \"#fb9f3a\"], [0.8888888888888888, \"#fdca26\"], [1.0, \"#f0f921\"]], \"type\": \"surface\"}], \"table\": [{\"cells\": {\"fill\": {\"color\": \"#EBF0F8\"}, \"line\": {\"color\": \"white\"}}, \"header\": {\"fill\": {\"color\": \"#C8D4E3\"}, \"line\": {\"color\": \"white\"}}, \"type\": \"table\"}]}, \"layout\": {\"annotationdefaults\": {\"arrowcolor\": \"#2a3f5f\", \"arrowhead\": 0, \"arrowwidth\": 1}, \"autotypenumbers\": \"strict\", \"coloraxis\": {\"colorbar\": {\"outlinewidth\": 0, \"ticks\": \"\"}}, \"colorscale\": {\"diverging\": [[0, \"#8e0152\"], [0.1, \"#c51b7d\"], [0.2, \"#de77ae\"], [0.3, \"#f1b6da\"], [0.4, \"#fde0ef\"], [0.5, \"#f7f7f7\"], [0.6, \"#e6f5d0\"], [0.7, \"#b8e186\"], [0.8, \"#7fbc41\"], [0.9, \"#4d9221\"], [1, \"#276419\"]], \"sequential\": [[0.0, \"#0d0887\"], [0.1111111111111111, \"#46039f\"], [0.2222222222222222, \"#7201a8\"], [0.3333333333333333, \"#9c179e\"], [0.4444444444444444, \"#bd3786\"], [0.5555555555555556, \"#d8576b\"], [0.6666666666666666, \"#ed7953\"], [0.7777777777777778, \"#fb9f3a\"], [0.8888888888888888, \"#fdca26\"], [1.0, \"#f0f921\"]], \"sequentialminus\": [[0.0, \"#0d0887\"], [0.1111111111111111, \"#46039f\"], [0.2222222222222222, \"#7201a8\"], [0.3333333333333333, \"#9c179e\"], [0.4444444444444444, \"#bd3786\"], [0.5555555555555556, \"#d8576b\"], [0.6666666666666666, \"#ed7953\"], [0.7777777777777778, \"#fb9f3a\"], [0.8888888888888888, \"#fdca26\"], [1.0, \"#f0f921\"]]}, \"colorway\": [\"#636efa\", \"#EF553B\", \"#00cc96\", \"#ab63fa\", \"#FFA15A\", \"#19d3f3\", \"#FF6692\", \"#B6E880\", \"#FF97FF\", \"#FECB52\"], \"font\": {\"color\": \"#2a3f5f\"}, \"geo\": {\"bgcolor\": \"white\", \"lakecolor\": \"white\", \"landcolor\": \"#E5ECF6\", \"showlakes\": true, \"showland\": true, \"subunitcolor\": \"white\"}, \"hoverlabel\": {\"align\": \"left\"}, \"hovermode\": \"closest\", \"mapbox\": {\"style\": \"light\"}, \"paper_bgcolor\": \"white\", \"plot_bgcolor\": \"#E5ECF6\", \"polar\": {\"angularaxis\": {\"gridcolor\": \"white\", \"linecolor\": \"white\", \"ticks\": \"\"}, \"bgcolor\": \"#E5ECF6\", \"radialaxis\": {\"gridcolor\": \"white\", \"linecolor\": \"white\", \"ticks\": \"\"}}, \"scene\": {\"xaxis\": {\"backgroundcolor\": \"#E5ECF6\", \"gridcolor\": \"white\", \"gridwidth\": 2, \"linecolor\": \"white\", \"showbackground\": true, \"ticks\": \"\", \"zerolinecolor\": \"white\"}, \"yaxis\": {\"backgroundcolor\": \"#E5ECF6\", \"gridcolor\": \"white\", \"gridwidth\": 2, \"linecolor\": \"white\", \"showbackground\": true, \"ticks\": \"\", \"zerolinecolor\": \"white\"}, \"zaxis\": {\"backgroundcolor\": \"#E5ECF6\", \"gridcolor\": \"white\", \"gridwidth\": 2, \"linecolor\": \"white\", \"showbackground\": true, \"ticks\": \"\", \"zerolinecolor\": \"white\"}}, \"shapedefaults\": {\"line\": {\"color\": \"#2a3f5f\"}}, \"ternary\": {\"aaxis\": {\"gridcolor\": \"white\", \"linecolor\": \"white\", \"ticks\": \"\"}, \"baxis\": {\"gridcolor\": \"white\", \"linecolor\": \"white\", \"ticks\": \"\"}, \"bgcolor\": \"#E5ECF6\", \"caxis\": {\"gridcolor\": \"white\", \"linecolor\": \"white\", \"ticks\": \"\"}}, \"title\": {\"x\": 0.05}, \"xaxis\": {\"automargin\": true, \"gridcolor\": \"white\", \"linecolor\": \"white\", \"ticks\": \"\", \"title\": {\"standoff\": 15}, \"zerolinecolor\": \"white\", \"zerolinewidth\": 2}, \"yaxis\": {\"automargin\": true, \"gridcolor\": \"white\", \"linecolor\": \"white\", \"ticks\": \"\", \"title\": {\"standoff\": 15}, \"zerolinecolor\": \"white\", \"zerolinewidth\": 2}}}, \"updatemenus\": [{\"buttons\": [{\"args\": [null, {\"frame\": {\"duration\": 500, \"redraw\": true}, \"fromcurrent\": true, \"mode\": \"immediate\", \"transition\": {\"duration\": 500, \"easing\": \"linear\"}}], \"label\": \"&#9654;\", \"method\": \"animate\"}, {\"args\": [[null], {\"frame\": {\"duration\": 0, \"redraw\": true}, \"fromcurrent\": true, \"mode\": \"immediate\", \"transition\": {\"duration\": 0, \"easing\": \"linear\"}}], \"label\": \"&#9724;\", \"method\": \"animate\"}], \"direction\": \"left\", \"pad\": {\"r\": 10, \"t\": 70}, \"showactive\": false, \"type\": \"buttons\", \"x\": 0.1, \"xanchor\": \"right\", \"y\": 0, \"yanchor\": \"top\"}]},                        {\"responsive\": true}                    ).then(function(){\n",
       "                            Plotly.addFrames('6a6bc655-4727-48bb-8b00-4edf54ad4d36', [{\"data\": [{\"customdata\": [[\"Albania\", 610773.0, null], [\"Argentina\", 15258800.244285716, 3016817.0], [\"Argentina\", 5004314.333333333, null], [\"Argentina\", 395490.62, null], [\"Argentina\", 54024257.0, 115041.0], [\"Argentina\", 938987.0, null], [\"Bulgaria\", 4867839.116666666, 1402665.5], [\"Bulgaria\", 1104.0, null], [\"Bolivia\", 1380.95, null], [\"Brazil\", 1082862.0, null], [\"Brazil\", 3556507.551428572, 2463719.666666667], [\"Brazil\", 3699985.5, null], [\"Brazil\", 773983.0, null], [\"Brazil\", 3615331.333333334, 1822952.0], [\"Brazil\", 131925.96, null], [\"Brazil\", 1258134.142857143, null], [\"Brazil\", 4559979.4095, null], [\"Brazil\", 2016320.0, null], [\"Brazil\", 548195.98, null], [\"Brazil\", 2726421.666666666, null], [\"Brazil\", 1195051.0, null], [\"Brazil\", 1580803.45, null], [\"Brazil\", 625391.59, null], [\"Brazil\", 2590161.5, null], [\"Brazil\", 17164389.21, null], [\"Brazil\", 959544.652, 1619576.0], [\"Brazil\", 18492265.03, null], [\"Brazil\", 3520657.75, null], [\"Brazil\", 15622980.5, null], [\"Brazil\", 1131824.6, 661991.0], [\"Brazil\", 3127795.465, null], [\"Chile\", 24003572.3, 7399031.6], [\"Colombia\", 14465150.51, null], [\"Colombia\", 4615846.279999998, null], [\"Colombia\", 2330487.0, null], [\"Colombia\", 2784141.0, null], [\"Colombia\", 903.738, null], [\"Colombia\", 4174608.0, null], [\"Colombia\", 208681.0, null], [\"Comoros\", 45274.0, null], [\"Costa Rica\", 988760.71, null], [\"Ecuador\", 5264282.0, 2239191.0], [\"Ecuador\", 6787374.0, null], [\"Spain\", 3579483.0, 1617601.5], [\"Spain\", 10930773.285714284, 2397950.5], [\"Spain\", 1734423.59, null], [\"Spain\", 2409104.5, 674097.4], [\"Ethiopia\", 4376076.0, 3516188.6], [\"France\", 2150000.0, null], [\"France\", 2770589.5, 550000.0], [\"France\", 6342506.857142857, 2242245.333333333], [\"Ghana\", 1092173.0, null], [\"Greece\", 4427191.833333333, 664046.0], [\"Honduras\", 5034285.89, null], [\"Indonesia\", 2193642.0, null], [\"Indonesia\", 28665451.07, 10216080.5], [\"Italy\", 2203176.6025, null], [\"Italy\", 1582605.13, null], [\"Italy\", 1630308.0, null], [\"Italy\", 1999159.666666667, null], [\"Italy\", 6065119.020000001, null], [\"Italy\", 2913435.0, null], [\"Italy\", 2736378.5, null], [\"Italy\", 154534.0, null], [\"Italy\", 1892158.0, null], [\"Italy\", 615452.0, null], [\"Italy\", 10372.5, 235996.0], [\"Italy\", 12216361.666666664, 2148980.4035], [\"Italy\", 4028611.75, 885408.6], [\"Italy\", 5065364.0, null], [\"Italy\", 613588.0, null], [\"Italy\", 2743488.5, 261169.75], [\"Jordan\", 8537852.2, 3777487.25], [\"Mexico\", 14330261.0, null], [\"Mexico\", 1131908.75, null], [\"Mexico\", 3905713.0, null], [\"Mexico\", 5012357.0, null], [\"Mexico\", 26368231.80571429, null], [\"Mexico\", 2673675.995, null], [\"Nigeria\", 10000.0, 6091589.0], [\"Nigeria\", 29476644.25, null], [\"Peru\", 15551216.0, 9120333.5], [\"Peru\", 227023.265, null], [\"Philippines\", 428998.0, 343314.0], [\"Philippines\", 1061478.0, null], [\"Philippines\", 788108.0, null], [\"Portugal\", 258882.0, null], [\"Portugal\", 287419.66666666674, 78764.0], [\"Portugal\", 18052.325594, null], [\"Portugal\", 618626.2, 210298.0], [\"Portugal\", 170264.8, null], [\"Portugal\", 260.88750000000005, 61059.0], [\"Portugal\", 401595.0, null], [\"Portugal\", 2556307.5, 547753.0], [\"Portugal\", 65293.74333333334, 66029.0], [\"Portugal\", 1084516.166666667, 238272.5], [\"Portugal\", 242554.0, null], [\"Portugal\", 415526.0, null], [\"Portugal\", 267988.5, null], [\"Thailand\", 47240334.0, null], [\"Turkey\", 758627.0, null], [\"Turkey\", 50341916.0, null], [\"Turkey\", 485.55, 226.8], [\"Turkey\", 546.6666666666666, 226.8], [\"Uruguay\", 3726857.0, null], [\"Venezuela\", 17561958.8, 3518590.0], [\"Vietnam\", 32563662.5, null], [\"South Africa\", 21929248.031666666, null], [\"South Africa\", 19577428.666666668, 10652765.4], [\"South Africa\", 16195880.044000002, 5101095.25], [\"South Africa\", 12232310.0, null], [\"South Africa\", 53141968.66666666, null], [\"South Africa\", 11984729.0, null]], \"geo\": \"geo\", \"hovertemplate\": \"<b>%{hovertext}</b><br><br>cluster=3<br>CDP_TotalEmissions=%{customdata[1]}<br>City_Latitude=%{lat}<br>City_Longitude=%{lon}<br>Country Name=%{customdata[0]}<br>City_Population=%{customdata[2]}<br>pct_change2=%{marker.color}<extra></extra>\", \"hovertext\": [\"Tirana\", \"Buenos Aires\", \"Cordoba\", \"General Alvear Buenos Aires\", \"Mendoza\", \"Rio Grande\", \"Sofia\", \"Stara Zagora\", \"La Paz\", \"Aracaju\", \"Belo Horizonte\", \"Betim\", \"Brasilia\", \"Curitiba\", \"Extrema\", \"Florianopolis\", \"Fortaleza\", \"Goiania\", \"Guaratingueta\", \"Joao Pessoa\", \"Londrina\", \"Niteroi\", \"Palmas\", \"Porto Alegre\", \"Porto Velho\", \"Recife\", \"RioJaneiro\", \"Salvador\", \"Sao Paulo\", \"Sorocaba\", \"Vitoria\", \"Santiago\", \"Bogota\", \"Cali\", \"Ibague\", \"Medellin\", \"Monteria\", \"SantiagoCali\", \"Tulua\", \"Moroni\", \"San Jose\", \"Quito\", \"SantiagoGuayaquil\", \"Barcelona\", \"Madrid\", \"Valencia\", \"Zaragoza\", \"Addis Ababa\", \"Nancy\", \"Nice\", \"Paris\", \"Accra\", \"Athens\", \"Tegucigalpa\", \"Bogor\", \"Jakarta\", \"Bologna\", \"Ferrara\", \"Firenze\", \"Genova\", \"Milano\", \"Naples\", \"Napoli\", \"Oristano\", \"Padova\", \"Piacenza\", \"Ravenna\", \"Roma\", \"Torino\", \"Turin\", \"Udine\", \"Venezia\", \"Amman\", \"Chihuahua\", \"Cuernevaca\", \"Guadalajara\", \"Leonlos Aldamas\", \"Mexico\", \"San Luis Potosi\", \"Ibadan\", \"Lagos\", \"Lima\", \"San Isidro Lima\", \"Batangas\", \"Makati\", \"Paranaque\", \"Agueda\", \"Barreiro\", \"CamaraLobos\", \"Cascais\", \"Fafe\", \"Faro\", \"Guimaraes\", \"Lisbon\", \"Moita\", \"Porto\", \"Santarem\", \"Seixal\", \"Torres Vedras\", \"Bangkok\", \"Bornova\", \"Istanbul\", \"Kadiovacik\", \"Urla\", \"Montevideo\", \"Caracas\", \"Ho Chi Minh\", \"Cape\", \"Durban\", \"Johannesburg\", \"Nelson Mandela Bay\", \"Pretoria  Tshwane\", \"Pretoria Tshwane\"], \"lat\": [null, -34.603723200000005, null, null, -32.8894, null, 42.6977, null, null, null, -19.9167, null, null, 8.309021000000001, null, null, null, null, null, null, null, null, null, null, null, 8.3127386, null, null, null, -23.4774899, null, -33.469119899999995, null, null, null, null, null, null, null, null, null, -0.2333, null, 41.382271, 40.4167754, null, 41.6488226, 9.028874, null, 43.710173, 48.856614, null, 37.98381, null, null, -6.2087634000000005, null, null, null, null, null, null, null, null, null, null, 41.913028000000004, 41.8723889, 45.070312, null, null, 45.440847399999996, 31.945366999999997, null, null, null, null, null, null, 7.377535000000001, null, -12.046374, null, 13.756464999999999, null, null, null, 38.660815, null, 38.6970565, null, 57.9441874, null, 38.722252399999995, 41.30284, 41.1579438, null, null, null, null, null, null, 38.3434574, 38.3434574, null, 10.469640400000001, null, null, -29.8586804, -26.2041028, null, null, null], \"legendgroup\": \"\", \"lon\": [null, -58.381593099999996, null, null, -68.8458, null, 23.3219, null, null, null, -43.9333, null, null, -62.7288829, null, null, null, null, null, null, null, null, null, null, null, -62.7284414, null, null, null, -47.4220615, null, -70.641997, null, null, null, null, null, null, null, null, null, -78.5167, null, 2.177506, -3.7037902000000003, null, -0.8890853000000001, 38.754366, null, 7.261953, 2.3522218999999995, null, 23.727539, null, null, 106.84559899999999, null, null, null, null, null, null, null, null, null, null, 12.518037, 12.4801802, 7.6868565, null, null, 12.315515099999999, 35.928371999999996, null, null, null, null, null, null, 3.9470400000000003, null, -77.042793, null, 121.05830800000001, null, null, null, -9.079072, null, -9.4222945, null, 19.1424789, null, -9.1393366, -8.65731, -8.6291053, null, null, null, null, null, null, 26.553613000000002, 26.553613000000002, null, -66.8037185, null, null, 31.0218404, 28.04730510000001, null, null, null], \"marker\": {\"color\": [0.0, 0.1857142857142857, -0.03333333333333333, 0.0, 0.0, 0.05, 0.13333333333333333, 0.0, -0.05, 0.05, 0.07142857142857142, -0.35, 0.0, 0.05, 0.0, 0.5428571428571428, 0.0, 0.0, 0.0, 0.03333333333333333, -0.06666666666666668, 0.05, 0.0, -0.1, 0.0, 0.07999999999999999, 0.1285714285714286, -0.05, 0.025, 0.03333333333333333, 0.1, 0.05000000000000001, -0.03333333333333333, 0.0, 0.0, 0.0, 0.0, 0.0, 0.0, 0.1, 0.0, 0.0, 0.0, 0.05, 0.0, 0.0, -0.1, 0.2, 0.0, -0.1, 0.11428571428571427, 0.0, 0.0, 0.0, 0.0, -0.28, -0.025, 0.0, 0.0, -0.06666666666666668, 0.0, 0.0, -0.05, 0.0, 0.0, 0.0, -0.1, 0.2333333333333333, -0.025, 0.0, 0.0, 0.0, 0.14, 0.0, 0.0, 0.0, 0.0, 0.014285714285714282, -0.35, 0.0, 0.0, 0.0, -0.3, -0.09999999999999998, -0.35, 0.0, 0.0, 0.0, 0.0, 0.1, 0.02, -0.025, 0.0, -0.05000000000000001, -0.3333333333333333, -0.05000000000000001, -0.275, 0.0, 0.05, 0.0, 0.0, 0.05, -0.08, 1.1, -0.1, 0.0, 0.1, 0.0, 0.26666666666666666, -0.1, 0.0, 0.0, 0.0], \"coloraxis\": \"coloraxis\", \"opacity\": 0.6, \"size\": [610773.0, 15258800.244285716, 5004314.333333333, 395490.62, 54024257.0, 938987.0, 4867839.116666666, 1104.0, 1380.95, 1082862.0, 3556507.551428572, 3699985.5, 773983.0, 3615331.333333334, 131925.96, 1258134.142857143, 4559979.4095, 2016320.0, 548195.98, 2726421.666666666, 1195051.0, 1580803.45, 625391.59, 2590161.5, 17164389.21, 959544.652, 18492265.03, 3520657.75, 15622980.5, 1131824.6, 3127795.465, 24003572.3, 14465150.51, 4615846.279999998, 2330487.0, 2784141.0, 903.738, 4174608.0, 208681.0, 45274.0, 988760.71, 5264282.0, 6787374.0, 3579483.0, 10930773.285714284, 1734423.59, 2409104.5, 4376076.0, 2150000.0, 2770589.5, 6342506.857142857, 1092173.0, 4427191.833333333, 5034285.89, 2193642.0, 28665451.07, 2203176.6025, 1582605.13, 1630308.0, 1999159.666666667, 6065119.020000001, 2913435.0, 2736378.5, 154534.0, 1892158.0, 615452.0, 10372.5, 12216361.666666664, 4028611.75, 5065364.0, 613588.0, 2743488.5, 8537852.2, 14330261.0, 1131908.75, 3905713.0, 5012357.0, 26368231.80571429, 2673675.995, 10000.0, 29476644.25, 15551216.0, 227023.265, 428998.0, 1061478.0, 788108.0, 258882.0, 287419.66666666674, 18052.325594, 618626.2, 170264.8, 260.88750000000005, 401595.0, 2556307.5, 65293.74333333334, 1084516.166666667, 242554.0, 415526.0, 267988.5, 47240334.0, 758627.0, 50341916.0, 485.55, 546.6666666666666, 3726857.0, 17561958.8, 32563662.5, 21929248.031666666, 19577428.666666668, 16195880.044000002, 12232310.0, 53141968.66666666, 11984729.0], \"sizemode\": \"area\", \"sizeref\": 202340.8396, \"symbol\": \"circle\"}, \"mode\": \"markers\", \"name\": \"\", \"showlegend\": false, \"type\": \"scattergeo\"}], \"name\": \"3\"}, {\"data\": [{\"customdata\": [[\"United Arab Emirates\", 68091232.0, null], [\"Argentina\", 12128.27, null], [\"Argentina\", 95216.71, null], [\"Argentina\", 52083.05, null], [\"Argentina\", 27857.38, null], [\"Argentina\", 1533903.26, null], [\"Argentina\", 96806.11, null], [\"Argentina\", 668545.8, null], [\"Argentina\", 91022.88, null], [\"Argentina\", 104047.77, null], [\"Argentina\", 20938.19, null], [\"Argentina\", 18734.57, null], [\"Argentina\", 662343.5599999999, null], [\"Argentina\", 39023.24, null], [\"Argentina\", 58070.21, null], [\"Argentina\", 791744.47, null], [\"Argentina\", 37604.54, null], [\"Argentina\", 130575.32, null], [\"Argentina\", 27730.33, null], [\"Argentina\", 443795.38, null], [\"Argentina\", 794110.6799999998, null], [\"Argentina\", 775221.69, null], [\"Argentina\", 37701.46, null], [\"Argentina\", 52603.15, null], [\"Argentina\", 44050.65, null], [\"Argentina\", 634302.97, null], [\"Argentina\", 27505.85, null], [\"Argentina\", 457265.28, null], [\"Argentina\", 3838.13, null], [\"Argentina\", 49149.11, null], [\"Argentina\", 48468.27, null], [\"Argentina\", 1007137.3, null], [\"Argentina\", 900594.35, null], [\"Argentina\", 3309377.7800000007, null], [\"Argentina\", 159209.7, null], [\"Argentina\", 664557.76, null], [\"Argentina\", 90153.21, null], [\"Argentina\", 1149552.31, null], [\"Argentina\", 291756.19999999995, null], [\"Argentina\", 4523516.0, null], [\"Argentina\", 203695.49, null], [\"Argentina\", 182599.95, null], [\"Argentina\", 24696.92, null], [\"Argentina\", 905190.38, null], [\"Argentina\", 241533.26, null], [\"Argentina\", 756164.42, null], [\"Argentina\", 3371203.24, null], [\"Argentina\", 965990.75, null], [\"Argentina\", 12056.6, null], [\"Argentina\", 106117.74, null], [\"Argentina\", 488563.6, null], [\"Argentina\", 35144.51, null], [\"Argentina\", 116102.18, null], [\"Argentina\", 9847.64, null], [\"Argentina\", 420095.92, null], [\"Argentina\", 56816.69, null], [\"Argentina\", 27616.28, null], [\"Argentina\", 793211.8, null], [\"Australia\", 1484675.0499999996, null], [\"Australia\", 1114500.0, null], [\"Australia\", 2363195.0, null], [\"Australia\", 2067212.0, null], [\"Australia\", 1361270.0, null], [\"Australia\", 1423300.0, null], [\"Australia\", 2747001.0, null], [\"Australia\", 3605229.91, null], [\"Belgium\", 4254080.0, null], [\"Brazil\", 2663901.43, null], [\"Brazil\", 4372254.0, null], [\"Brazil\", 297.0, null], [\"Brazil\", 40240.59, null], [\"Canada\", 1149000.0, null], [\"Canada\", 269967.0, null], [\"Chile\", 909667.0, null], [\"Chile\", 4536.54, null], [\"China\", 61674200.0, null], [\"Colombia\", 12418.07, null], [\"Colombia\", 15268570.0, null], [\"Colombia\", 39712.15, null], [\"Colombia\", 15268.57, null], [\"Colombia\", 78169.36, null], [\"Colombia\", 24831.51, null], [\"Colombia\", 48072.19, null], [\"Colombia\", 109305.9, null], [\"Colombia\", 69118820.0, null], [\"Costa Rica\", 34.25, null], [\"Germany\", 311.86, null], [\"Denmark\", 196090.19, null], [\"Denmark\", 299657.0, null], [\"Ecuador\", 1499074.0, null], [\"Ecuador\", 423878.0, null], [\"Spain\", 731879.0, null], [\"Finland\", 252300.0, null], [\"France\", 1894045.0, null], [\"United Kingdom\", 766878.04, null], [\"United Kingdom\", 1734538.64, null], [\"Gibraltar\", 337070.0, 34313.75], [\"Guatemala\", 281589.0, null], [\"Guatemala\", 63924.0, null], [\"Guatemala\", 355163.0, null], [\"Indonesia\", 578446.0, null], [\"Indonesia\", 12910725.0, null], [\"Indonesia\", 4127286.89, null], [\"Indonesia\", 492164.23, null], [\"Indonesia\", 1199556.19, null], [\"India\", 19315934.0, null], [\"India\", 1887685.0, null], [\"Italy\", 485684.0, null], [\"Italy\", 990097.0, null], [\"Italy\", 863779.51, null], [\"Italy\", 137456.0, null], [\"Korea, Republic of\", 69794140.0, null], [\"Korea, Republic of\", 48730645.5, null], [\"Korea, Republic of\", 5901570.666666668, null], [\"Latvia\", 1870000.0, null], [\"Monaco\", 86586.0, null], [\"Mexico\", 3846977.0, null], [\"Mexico\", 7702002.0, null], [\"Mexico\", 1748920.0, null], [\"Mexico\", 1645392.2599999998, null], [\"Mozambique\", 204784.0, null], [\"Malawi\", 60.0, null], [\"Malaysia\", 3496.0, null], [\"Norway\", 1314864.0, null], [\"Norway\", 489207.0, null], [\"New Zealand\", 570666.0, null], [\"Peru\", 3123.0, null], [\"Philippines\", 428467.45, null], [\"Philippines\", 1216253.08, null], [\"Philippines\", 8014366.0, null], [\"Portugal\", 194352.0, null], [\"Portugal\", 202713.0, null], [\"State of Palestine\", 32221.0, null], [\"Russian Federation\", 47888405.13333333, null], [\"Sierra Leone\", 1029200.0, null], [\"Sweden\", 242995.0, null], [\"Sweden\", 630308.0, null], [\"Sweden\", 176812.0, null], [\"Sweden\", 430559.0, null], [\"Sweden\", 455709.0, null], [\"Sweden\", 214909.0, null], [\"Sweden\", 661110.0, null], [\"Sweden\", 336717.0, null], [\"Sweden\", 137349.31, null], [\"Sweden\", 1186244.0, null], [\"Sweden\", 218000.0, null], [\"Thailand\", 395192.62, null], [\"Thailand\", 247235.69, null], [\"Thailand\", 355621.94, null], [\"Thailand\", 287803.05, null], [\"Turkey\", 13176596.0, null], [\"Turkey\", 7502667.0, null], [\"Turkey\", 21869346.0, null], [\"Turkey\", 1509302.0, null], [\"Turkey\", 22769098.0, null], [\"Taiwan\", 522514.73, null], [\"Uganda\", 3055230.86, null], [\"United States\", 372994.0, null], [\"United States\", 305319.0, null], [\"United States\", 541974.61, null], [\"United States\", 869705.35, null], [\"United States\", 423285081.0, null], [\"United States\", 22572755.0, null], [\"United States\", 7451000.0, null], [\"United States\", 122982.0, null], [\"United States\", 483773.0, null], [\"United States\", 11752836.0, null], [\"United States\", 939390.0, null], [\"United States\", 312835.0, null], [\"United States\", 625402.0, null], [\"United States\", 1034016.4, null], [\"United States\", 178413.0, null], [\"United States\", 402364.0, null], [\"United States\", 777350.0, null], [\"United States\", 132700.0, null], [\"United States\", 518497.0, null], [\"United States\", 328180.0, null], [\"United States\", 6994169.0, null], [\"United States\", 475351.5, null], [\"United States\", 3424430.0, null], [\"United States\", 5418982.0, null], [\"United States\", 516205.96, null], [\"United States\", 668763.0, null], [\"United States\", 4117276.07, null], [\"United States\", 2969656.0, null], [\"United States\", 1726821.0, null], [\"United States\", 127021.0, null], [\"United States\", 198674.0, null], [\"United States\", 41786.99, null], [\"United States\", 230595.0, null], [\"Vietnam\", 424089.0, null], [\"Vietnam\", 1103438.0, null], [\"South Africa\", 1008657.0, null], [\"South Africa\", 33031705.0, null]], \"geo\": \"geo\", \"hovertemplate\": \"<b>%{hovertext}</b><br><br>cluster=2<br>CDP_TotalEmissions=%{customdata[1]}<br>City_Latitude=%{lat}<br>City_Longitude=%{lon}<br>Country Name=%{customdata[0]}<br>City_Population=%{customdata[2]}<br>pct_change2=%{marker.color}<extra></extra>\", \"hovertext\": [\"Dubai\", \"Arequito\", \"Arias\", \"Armstrong\", \"Arteaga\", \"Avellaneda\", \"Bell Ville\", \"Bragado\", \"Camilo Aldao\", \"Carcarana\", \"Caseros\", \"Centeno\", \"Chacabuco\", \"Chanar Ladeado\", \"Correa\", \"Corrientes\", \"Cosquin\", \"Crespo\", \"Cruz Alta\", \"Godoy Cruz\", \"Guamini\", \"Guaymallen\", \"Herrera\", \"Inriville\", \"Juana Koslay\", \"La Rioja\", \"Llambi Campbell\", \"Lobos\", \"Los Molles\", \"Malabrigo\", \"Monte Buey\", \"Montecarlo\", \"Moron\", \"Olavarria\", \"Oro Verde\", \"Patagones\", \"Perez\", \"Rauch\", \"Reconquista\", \"Rosario\", \"Salliquelo\", \"San AntonioAreco\", \"San Carlos Sud\", \"San CarlosBariloche\", \"San Martinlos Andes\", \"San Miguel\", \"San Nicolaslos Arroyos\", \"Santa Fe Ciudad\", \"Soldini\", \"Tafi Viejo\", \"Tapalque\", \"Tilisarao\", \"Totoras\", \"Uranga\", \"Venado Tuerto\", \"Villa General Belgrano\", \"Villa Pehuenia\", \"la CiudadParana\", \"Hobsons Bay\", \"Mandurah\", \"Melton\", \"Mornington Peninsula Shire\", \"Perth\", \"Port Phillip\", \"Wollongong\", \"Wyndham\", \"Brussels\", \"Campinas\", \"Sao Jose dos Campos\", \"Terra Nova do Norte\", \"Vinhedo\", \"Kingston\", \"Victoria\", \"Valdivia\", \"Vitacura\", \"Zhenjiang  Peoples\", \"Beteitiva\", \"Busbanza\", \"Corrales\", \"Floresta\", \"Gameza\", \"Mongua\", \"Mongui\", \"Pasto\", \"Topaga\", \"Monte Verde\", \"Greifswald\", \"Fredensborg\", \"Helsingr\", \"Cuenca\", \"Loja\", \"VitoriaGasteiz\", \"Porvoo\", \"Le Havre\", \"Bath\", \"Bristol\", \"Gibraltar\", \"Escuintla\", \"Iztapa\", \"San Jose\", \"Banda Aceh\", \"Banyuwangi\", \"Semarang\", \"Tarakan\", \"the Yogyakarta\", \"Chennai\", \"Rajkot\", \"Bolzano\", \"Parma\", \"Prato\", \"Verbania\", \"Incheon\", \"Seoul\", \"Suwon\", \"Riga\", \"Monaco\", \"Celaya\", \"Hermosillo\", \"JIMAV\", \"Xalapa\", \"Nacala\", \"Blantyre\", \"Petaling Jaya\", \"Arendal\", \"Trondheim\", \"Palmerston North\", \"San Borja\", \"CagayanOro\", \"Muntinlupa\", \"Quezon\", \"Braga\", \"Valongo\", \"Abasan AlKabira\", \"Moscow\", \"Freetown\", \"Falkoping\", \"Helsingborg\", \"Karlskrona\", \"Kristianstad\", \"Orebro\", \"Sigtuna\", \"Skovde\", \"Umea\", \"UpplandsBro kommun\", \"Uppsala\", \"Vastervik\", \"Khon Kaen\", \"Mahasarakham\", \"Nakhon Sawan\", \"Patong\", \"Bursa\", \"Denizli\", \"Izmir\", \"Kadkoy\", \"Kocaeli\", \"Kinmen\", \"Kampala\", \"Ashland OR\", \"Aspen\", \"Berkeley\", \"Boynton Beach\", \"Charlotte\", \"Cuyahoga\", \"Dane\", \"Dedham MA\", \"Encinitas\", \"Erie  NY\", \"Evanston\", \"Highland Park IL\", \"Holland MI\", \"Hollywood\", \"Ithaca\", \"Lake Forest\", \"Lancaster CA\", \"Maplewood\", \"Milwaukie OR\", \"Northampton\", \"Orlando\", \"Princeton NJ\", \"Sacramento\", \"San Jose CA\", \"Santa Barbara CA\", \"Sarasota\", \"South Bend\", \"St Petersburg\", \"Summit  UT\", \"Takoma Park\", \"VillagePark Forest IL\", \"Wellfleet\", \"Winona\", \"Dong Hoi\", \"Vinh\", \"KwaDukuza\", \"Steve Tshwete\"], \"lat\": [null, null, null, null, null, null, null, null, null, null, null, null, null, null, null, null, null, null, null, null, null, null, null, null, null, null, null, null, null, null, null, null, null, null, null, null, null, null, null, null, null, null, null, null, null, null, null, null, null, null, null, null, null, null, null, null, null, null, null, null, null, null, null, null, null, null, null, null, null, null, null, null, null, null, null, null, null, null, null, null, null, null, null, null, null, null, null, null, null, null, null, null, null, null, null, null, 36.1407734, null, null, null, null, null, null, null, null, null, null, null, null, null, null, null, null, null, null, null, null, null, null, null, null, null, null, null, null, null, null, null, null, null, null, null, null, null, null, null, null, null, null, null, null, null, null, null, null, null, null, null, null, null, null, null, null, null, null, null, null, null, null, null, null, null, null, null, null, null, null, null, null, null, null, null, null, null, null, null, null, null, null, null, null, null, null, null, null, null, null, null, null, null, null, null, null, null], \"legendgroup\": \"\", \"lon\": [null, null, null, null, null, null, null, null, null, null, null, null, null, null, null, null, null, null, null, null, null, null, null, null, null, null, null, null, null, null, null, null, null, null, null, null, null, null, null, null, null, null, null, null, null, null, null, null, null, null, null, null, null, null, null, null, null, null, null, null, null, null, null, null, null, null, null, null, null, null, null, null, null, null, null, null, null, null, null, null, null, null, null, null, null, null, null, null, null, null, null, null, null, null, null, null, -5.3535994, null, null, null, null, null, null, null, null, null, null, null, null, null, null, null, null, null, null, null, null, null, null, null, null, null, null, null, null, null, null, null, null, null, null, null, null, null, null, null, null, null, null, null, null, null, null, null, null, null, null, null, null, null, null, null, null, null, null, null, null, null, null, null, null, null, null, null, null, null, null, null, null, null, null, null, null, null, null, null, null, null, null, null, null, null, null, null, null, null, null, null, null, null, null, null, null, null], \"marker\": {\"color\": [0.0, 0.0, 0.0, 0.0, 0.0, 0.0, 0.0, 0.0, 0.0, 0.0, 0.0, 0.0, 0.0, 0.0, 0.0, 0.0, 0.0, 0.0, 0.0, 0.0, 0.0, 0.0, 0.0, 0.0, 0.0, 0.0, 0.0, 0.0, 0.0, 0.0, 0.0, 0.0, 0.0, 0.0, 0.0, 0.0, 0.0, 0.0, 0.0, 0.0, 0.0, 0.0, 0.0, 0.0, 0.0, 0.0, 0.0, 0.0, 0.0, 0.0, 0.0, 0.0, 0.0, 0.0, 0.0, 0.0, 0.0, 0.0, 0.0, 0.0, 0.0, 0.0, 0.0, 0.0, 0.0, 0.0, 0.0, 0.0, 0.0, 0.0, 0.0, 0.0, 0.0, 0.0, 0.0, 0.0, 0.0, 0.0, 0.0, 0.0, 0.0, 0.0, 0.0, 0.0, 0.0, 0.0, 0.0, 0.0, 0.0, 0.0, 0.0, 0.0, 0.0, 0.0, 0.0, 0.0, 0.125, 0.0, 0.0, 0.0, 0.0, 0.0, 0.0, 0.0, 0.0, 0.0, 0.0, 0.0, 0.0, 0.0, 0.0, 0.0, 0.0, 0.0, 0.0, 0.0, 0.0, 0.0, 0.0, 0.0, 0.0, 0.0, 0.0, 0.0, 0.0, 0.0, 0.0, 0.0, 0.0, 0.0, 0.0, 0.0, 0.0, 0.0, 0.0, 0.0, 0.0, 0.0, 0.0, 0.0, 0.0, 0.0, 0.0, 0.0, 0.0, 0.0, 0.0, 0.0, 0.0, 0.0, 0.0, 0.0, 0.0, 0.0, 0.0, 0.0, 0.0, 0.0, 0.0, 0.0, 0.0, 0.0, 0.0, 0.0, 0.0, 0.0, 0.0, 0.0, 0.0, 0.0, 0.0, 0.0, 0.0, 0.0, 0.0, 0.0, 0.0, 0.0, -0.1, 0.0, 0.0, 0.0, 0.0, 0.0, 0.0, 0.0, 0.0, 0.0, 0.0, 0.0, 0.0, 0.0, 0.0, 0.0], \"coloraxis\": \"coloraxis\", \"opacity\": 0.6, \"size\": [68091232.0, 12128.27, 95216.71, 52083.05, 27857.38, 1533903.26, 96806.11, 668545.8, 91022.88, 104047.77, 20938.19, 18734.57, 662343.5599999999, 39023.24, 58070.21, 791744.47, 37604.54, 130575.32, 27730.33, 443795.38, 794110.6799999998, 775221.69, 37701.46, 52603.15, 44050.65, 634302.97, 27505.85, 457265.28, 3838.13, 49149.11, 48468.27, 1007137.3, 900594.35, 3309377.7800000007, 159209.7, 664557.76, 90153.21, 1149552.31, 291756.19999999995, 4523516.0, 203695.49, 182599.95, 24696.92, 905190.38, 241533.26, 756164.42, 3371203.24, 965990.75, 12056.6, 106117.74, 488563.6, 35144.51, 116102.18, 9847.64, 420095.92, 56816.69, 27616.28, 793211.8, 1484675.0499999996, 1114500.0, 2363195.0, 2067212.0, 1361270.0, 1423300.0, 2747001.0, 3605229.91, 4254080.0, 2663901.43, 4372254.0, 297.0, 40240.59, 1149000.0, 269967.0, 909667.0, 4536.54, 61674200.0, 12418.07, 15268570.0, 39712.15, 15268.57, 78169.36, 24831.51, 48072.19, 109305.9, 69118820.0, 34.25, 311.86, 196090.19, 299657.0, 1499074.0, 423878.0, 731879.0, 252300.0, 1894045.0, 766878.04, 1734538.64, 337070.0, 281589.0, 63924.0, 355163.0, 578446.0, 12910725.0, 4127286.89, 492164.23, 1199556.19, 19315934.0, 1887685.0, 485684.0, 990097.0, 863779.51, 137456.0, 69794140.0, 48730645.5, 5901570.666666668, 1870000.0, 86586.0, 3846977.0, 7702002.0, 1748920.0, 1645392.2599999998, 204784.0, 60.0, 3496.0, 1314864.0, 489207.0, 570666.0, 3123.0, 428467.45, 1216253.08, 8014366.0, 194352.0, 202713.0, 32221.0, 47888405.13333333, 1029200.0, 242995.0, 630308.0, 176812.0, 430559.0, 455709.0, 214909.0, 661110.0, 336717.0, 137349.31, 1186244.0, 218000.0, 395192.62, 247235.69, 355621.94, 287803.05, 13176596.0, 7502667.0, 21869346.0, 1509302.0, 22769098.0, 522514.73, 3055230.86, 372994.0, 305319.0, 541974.61, 869705.35, 423285081.0, 22572755.0, 7451000.0, 122982.0, 483773.0, 11752836.0, 939390.0, 312835.0, 625402.0, 1034016.4, 178413.0, 402364.0, 777350.0, 132700.0, 518497.0, 328180.0, 6994169.0, 475351.5, 3424430.0, 5418982.0, 516205.96, 668763.0, 4117276.07, 2969656.0, 1726821.0, 127021.0, 198674.0, 41786.99, 230595.0, 424089.0, 1103438.0, 1008657.0, 33031705.0], \"sizemode\": \"area\", \"sizeref\": 202340.8396, \"symbol\": \"circle\"}, \"mode\": \"markers\", \"name\": \"\", \"showlegend\": false, \"type\": \"scattergeo\"}], \"name\": \"2\"}, {\"data\": [{\"customdata\": [[\"Australia\", 567620.9125, 24550.8], [\"Australia\", 131617.5, null], [\"Australia\", 3856940.0, 416250.0], [\"Australia\", 459787.33333333326, 51593.0], [\"Australia\", 4984033.649999999, 154863.4], [\"Australia\", 4384470.6875, 227878.8], [\"Canada\", 738745.3333333335, null], [\"Canada\", 18371922.6, 1247651.2], [\"Canada\", 6424752.0, null], [\"Canada\", 16349900.5, 934644.6], [\"Canada\", 1056077.0, null], [\"Canada\", 5874855.333333332, null], [\"Canada\", 14912403.5, 550405.25], [\"Canada\", 2208451.0, null], [\"Canada\", 2998716.666666666, null], [\"Canada\", 7086682.85675, 721599.0], [\"Canada\", 12368828.125, 1954472.75], [\"Canada\", 200996.25, null], [\"Canada\", 5858135.666666668, 726456.04325], [\"Canada\", 143833.775, null], [\"Canada\", 435594.0, null], [\"Canada\", 3603674.0, 270914.0], [\"Canada\", 952192.0, 133460.0], [\"Canada\", 19267239.97, 2833632.0], [\"Canada\", 2562581.166666666, 631418.0], [\"Canada\", 2305060.5, 220614.0], [\"Canada\", 5330344.4, null], [\"Switzerland\", 831838.0, null], [\"Switzerland\", 499573.0, null], [\"Switzerland\", 107798.5, null], [\"Switzerland\", 1849834.166666667, 421304.0], [\"Germany\", 20704750.0, null], [\"Germany\", 10863091.0, 1775099.5], [\"Germany\", 930147.0, 147427.4], [\"Germany\", 1400000.0, null], [\"Germany\", 3806000.0, null], [\"Denmark\", 1900.0, null], [\"Denmark\", 1722035.0, 604991.5], [\"Denmark\", 203353.0, 42805.66666666666], [\"Denmark\", 294549.0, null], [\"Denmark\", 338141.5, 68344.2], [\"Denmark\", 417000.0, null], [\"Denmark\", 293270.75, null], [\"Denmark\", 142818.87900000002, null], [\"Denmark\", 234296.33333333328, 52864.25], [\"Denmark\", 180000.0, 38569.0], [\"Denmark\", 422955.0, null], [\"Denmark\", 1806679.0, null], [\"Denmark\", 205.0, null], [\"Finland\", 1159527.0, 281732.25], [\"Finland\", 3377079.6, 639758.4], [\"Finland\", 699124.0, 119884.4], [\"Finland\", 1004592.0, 189400.0], [\"United Kingdom\", 5199.7, null], [\"United Kingdom\", 568869.5, 260133.33333333328], [\"United Kingdom\", 1382688.0, 362100.0], [\"United Kingdom\", 1341202.8275, 345617.33333333326], [\"United Kingdom\", 39107949.67142857, 8797293.666666666], [\"United Kingdom\", 14481606.116666667, 2055159.166666667], [\"Hong Kong\", 53641576.14285714, 7398480.0], [\"Ireland\", 2942349.0, null], [\"Iceland\", 319842.66666666674, null], [\"Israel\", 4654482.0, null], [\"Japan\", 8796073.0, null], [\"Japan\", 13940000.0, 2288790.5], [\"Japan\", 59080.0, null], [\"Japan\", 6916000.0, null], [\"Japan\", 68819718.125, 13765448.2], [\"Japan\", 23010612.14285714, 12136443.25], [\"Lithuania\", 1734374.5, null], [\"Malaysia\", 13542335.735, 1978333.333333333], [\"Netherlands\", 4699250.0, 848091.25], [\"Netherlands\", 859000.0, 200500.0], [\"Netherlands\", 505852099.0, null], [\"Netherlands\", 24679764.3322, 481798.1165], [\"Netherlands\", 1622535.0, 537210.6666666665], [\"Norway\", 224955.0, null], [\"Norway\", 1209296.4, 665929.5], [\"New Zealand\", 9798648.25, 1614975.0], [\"New Zealand\", 955724.4285714284, 209287.25], [\"Poland\", 12339199.166666664, 1695805.75], [\"Poland\", 4473322.666666667, 638319.6666666665], [\"Republic of Korea\", 10257440.0, null], [\"Republic of Korea\", 45419000.0, null], [\"Republic of Korea\", 5666432.006, null], [\"Singapore\", 41327346.66666666, 5616666.666666667], [\"Slovenia\", 2318520.666666666, null], [\"Sweden\", 903541.5, null], [\"Sweden\", 2570721.8571428573, 938398.0], [\"Sweden\", 277068.5, null], [\"Taiwan\", 65543519.626, 2776348.6], [\"Taiwan\", 17087136.666666668, 3985711.75], [\"Taiwan\", 3730635.8025, null], [\"Taiwan\", 40284909.88, 2790743.75], [\"Taiwan\", 21734854.795, 1883590.0], [\"Taiwan\", 13881290.333333336, 2679476.8], [\"Taiwan\", 32919139.13000001, 2169145.5], [\"Taiwan\", 7921218.211, null]], \"geo\": \"geo\", \"hovertemplate\": \"<b>%{hovertext}</b><br><br>cluster=0<br>CDP_TotalEmissions=%{customdata[1]}<br>City_Latitude=%{lat}<br>City_Longitude=%{lon}<br>Country Name=%{customdata[0]}<br>City_Population=%{customdata[2]}<br>pct_change2=%{marker.color}<extra></extra>\", \"hovertext\": [\"Adelaide\", \"Byron Shire\", \"Canberra\", \"Hobart\", \"Melbourne\", \"Sydney\", \"Ajax ON\", \"Calgary\", \"Durham NC\", \"Edmonton\", \"Guelph\", \"Halifax\", \"Hamilton\", \"Laval\", \"London ON\", \"Mississauga\", \"Montreal\", \"North Vancouver\", \"Ottawa\", \"Peterborough\", \"SalaberrydeValleyfield\", \"Saskatoon\", \"St Catharines\", \"Toronto\", \"Vancouver\", \"Windsor\", \"Winnipeg\", \"Basel\", \"Lausanne\", \"Nyon\", \"Zurich\", \"Berlin\", \"Hamburg\", \"Heidelberg\", \"Magdeburg\", \"Mannheim\", \"Aarhus\", \"Copenhagen\", \"Egedal\", \"Elsinore\", \"Gladsaxe\", \"Hjrring\", \"HoejeTaastrup\", \"Hrsholm\", \"Hvidovre\", \"Jammerbugt\", \"Roskilde\", \"Sonderborg\", \"rskbing\", \"Espoo\", \"Helsinki\", \"Lahti\", \"Turku\", \"Birmingham\", \"Bournemouth\", \"Cardiff\", \"Leicester\", \"London\", \"Manchester\", \"Hong Kong\", \"Dublin\", \"Reykjavik\", \"Tel AvivYafo\", \"Hiroshima\", \"Nagoya\", \"Niseko\", \"Okayama\", \"Tokyo\", \"Yokohama\", \"Vilnius\", \"Iskandar\", \"Amsterdam\", \"Groningen\", \"Nijmegen\", \"Rotterdam\", \"The Hague\", \"Brum\", \"Oslo\", \"Auckland\", \"Wellington\", \"Warsaw\", \"Wroclaw\", \"Changwon\", \"Seoul\", \"Suwon\", \"Singapore\", \"Ljubljana\", \"Malmo\", \"Stockholm\", \"Vaxjo\", \"Kaohsiung\", \"New Taipei\", \"Pingtung\", \"Taichung\", \"Tainan\", \"Taipei\", \"Taoyuan\", \"Yilan\"], \"lat\": [-34.928499, null, -35.3075, -42.890054, -37.814107, -33.8674869, null, 51.04861500000001, null, 53.544389, null, null, 43.250021000000004, null, null, -79.6441, 45.508669899999994, null, 45.42153, null, null, 52.133214, 43.1594, 43.653226000000004, 49.261226, 42.314937, null, null, null, null, 47.36864979999999, null, 53.5510846, 49.398752, null, null, null, 55.676096799999996, 55.79504499999999, null, 55.733461, null, null, null, 55.642522, 57.1453, null, null, null, 60.205491, 60.17332439999999, 60.9833, 60.451812600000004, null, 50.719164, 51.481581, 52.6333, 51.50485799999999, 53.47980233333333, 22.288080899999997, null, null, null, null, 35.1814464, null, null, 35.6894875, 35.4437078, null, 5.714476, 52.3702157, 53.232386, null, 51.9244201, 52.0705, null, 59.913868799999996, -36.815328, -41.28646029999999, 52.2296756, 51.107884999999996, null, null, null, 1.352083, null, null, 59.3293235, null, 22.6238898, 25.0111, null, 24.161859, 22.9999, 25.0465658, 24.993628, null], \"legendgroup\": \"\", \"lon\": [138.600746, null, 149.1244, 147.281446, 144.96328, 151.20699019999995, null, -114.070846, null, -113.4909267, null, null, -79.866091, null, null, 43.589, -73.5539925, null, -75.697193, null, null, -106.670046, -79.2469, -79.3831843, -123.11392679999999, -83.036363, null, null, null, null, 8.539182499999999, null, 9.9936818, 8.672433999999999, null, null, null, 12.568337099999999, 12.238733, null, 12.488686, null, null, null, 12.475386, 9.54153, null, null, null, 24.6559, 24.9410248, 25.65, 22.26663030000001, null, -1.880769, -3.17909, -1.1333, -0.078689, -2.2465334, 114.13980149999999, null, null, null, null, 136.906398, null, null, 139.69170640000002, 139.6380256, null, 100.99208399999999, 4.8951679000000015, 6.551335, null, 4.4777325, 4.3007, null, 10.7522454, 174.74178799999999, 174.776236, 21.012228699999998, 17.038538, null, null, null, 103.819836, null, null, 18.068580800000003, null, 120.32307759999999, 121.4458, null, 120.64696699999999, 120.2269, 121.54886689999998, 121.30098000000001, null], \"marker\": {\"color\": [0.05, -0.5, -0.02, 0.16666666666666666, 0.042857142857142864, -0.012500000000000004, 0.2333333333333333, 0.0, 0.0, 0.03333333333333333, 0.0, 0.0, -0.45, 0.0, 0.0, 0.05, -0.025, 0.025, 0.03333333333333333, -0.5, 0.0, 0.05, 0.0, -0.03333333333333333, -0.016666666666666666, 0.025, 0.0, -0.06666666666666668, 0.0, 0.05, -0.05000000000000001, 0.0, -0.2, 0.05, 0.0, 0.0, 0.0, -0.08, 0.06666666666666668, 0.0, -0.025, 0.0, 0.05, 0.2, 0.06666666666666668, 0.0, 0.0, 0.0, -0.1, -0.03333333333333333, 0.24, 0.0, 0.03333333333333333, 0.0, -0.15, -0.3666666666666667, -0.25, -0.028571428571428574, -0.016666666666666673, 0.08571428571428573, 0.0, -0.06666666666666668, 0.0, 0.0, 0.03333333333333333, 0.0, 0.0, 0.037500000000000006, 0.14285714285714285, 0.075, 0.0, -0.05, 0.0, 0.0, -0.16, 0.0, 0.0, -0.3, 0.0, -0.014285714285714282, 0.0, 0.06666666666666668, 0.0, 0.05, 0.0, 0.03333333333333333, 0.13333333333333333, 0.05, 0.0, 0.05, 0.08, 0.2, 0.0, 0.9, 0.0, -0.03333333333333333, 0.1, -0.025], \"coloraxis\": \"coloraxis\", \"opacity\": 0.6, \"size\": [567620.9125, 131617.5, 3856940.0, 459787.33333333326, 4984033.649999999, 4384470.6875, 738745.3333333335, 18371922.6, 6424752.0, 16349900.5, 1056077.0, 5874855.333333332, 14912403.5, 2208451.0, 2998716.666666666, 7086682.85675, 12368828.125, 200996.25, 5858135.666666668, 143833.775, 435594.0, 3603674.0, 952192.0, 19267239.97, 2562581.166666666, 2305060.5, 5330344.4, 831838.0, 499573.0, 107798.5, 1849834.166666667, 20704750.0, 10863091.0, 930147.0, 1400000.0, 3806000.0, 1900.0, 1722035.0, 203353.0, 294549.0, 338141.5, 417000.0, 293270.75, 142818.87900000002, 234296.33333333328, 180000.0, 422955.0, 1806679.0, 205.0, 1159527.0, 3377079.6, 699124.0, 1004592.0, 5199.7, 568869.5, 1382688.0, 1341202.8275, 39107949.67142857, 14481606.116666667, 53641576.14285714, 2942349.0, 319842.66666666674, 4654482.0, 8796073.0, 13940000.0, 59080.0, 6916000.0, 68819718.125, 23010612.14285714, 1734374.5, 13542335.735, 4699250.0, 859000.0, 505852099.0, 24679764.3322, 1622535.0, 224955.0, 1209296.4, 9798648.25, 955724.4285714284, 12339199.166666664, 4473322.666666667, 10257440.0, 45419000.0, 5666432.006, 41327346.66666666, 2318520.666666666, 903541.5, 2570721.8571428573, 277068.5, 65543519.626, 17087136.666666668, 3730635.8025, 40284909.88, 21734854.795, 13881290.333333336, 32919139.13000001, 7921218.211], \"sizemode\": \"area\", \"sizeref\": 202340.8396, \"symbol\": \"circle\"}, \"mode\": \"markers\", \"name\": \"\", \"showlegend\": false, \"type\": \"scattergeo\"}], \"name\": \"0\"}, {\"data\": [{\"customdata\": [[\"United States\", 585905.75, null], [\"United States\", 419377.0, null], [\"United States\", 1217091.0, null], [\"United States\", 401079.0, null], [\"United States\", 3557393.0, null], [\"United States\", 1730199.5, null], [\"United States\", 2354121.4, 221575.0], [\"United States\", 422101.0, null], [\"United States\", 8850258.0, 446978.5], [\"United States\", 13929113.8, 1051644.6], [\"United States\", 9719212.142857144, 608360.5], [\"United States\", 544503.935, 27801.33333333333], [\"United States\", 343017.54400000005, 44360.25], [\"United States\", 1504696.333333333, 84934.33333333331], [\"United States\", 6339649.666666668, 673450.0], [\"United States\", 2221801.944, 107258.2], [\"United States\", 105015.75, null], [\"United States\", 20905601.61, 1894822.0], [\"United States\", 2165653.0, null], [\"United States\", 338832.2116666667, 42284.0], [\"United States\", 1462236.0, null], [\"United States\", 343795.0, 47626.25], [\"United States\", 720870.0, null], [\"United States\", 32743371.42857143, 5619779.625], [\"United States\", 1143624.13, null], [\"United States\", 7505000.333333332, null], [\"United States\", 11384904.285714285, 388678.66666666674], [\"United States\", 7386407.0, null], [\"United States\", 2841583.0, null], [\"United States\", 1848635.0, null], [\"United States\", 10379436.75, 872181.8], [\"United States\", 237880.03333333327, null], [\"United States\", 17856431.2, 1301361.5], [\"United States\", 348347.0, null], [\"United States\", 1533094.333333333, null], [\"United States\", 7422435.2, 692162.4], [\"United States\", 10449502.4, null], [\"United States\", 281711.0, null], [\"United States\", 4507343.666666667, null], [\"United States\", 347635.0, 26955.5], [\"United States\", 163346.395, 11483.0], [\"United States\", 1462861.5, null], [\"United States\", 1429119.0, null], [\"United States\", 1252302.176, 72411.0], [\"United States\", 2055582.0633333328, 166197.3333333333], [\"United States\", 1430248.5, null], [\"United States\", 4467691.0, null], [\"United States\", 1083235.0, 160823.6666666667], [\"United States\", 126611.0, null], [\"United States\", 33308271.0, null], [\"United States\", 2160364.99, 859670.0], [\"United States\", 1092580.333333333, null], [\"United States\", 12807311.0, null], [\"United States\", 399592.0, null], [\"United States\", 3732503.8625, null], [\"United States\", 10647.0, null], [\"United States\", 402364.0, null], [\"United States\", 1692340.0, 153620.0], [\"United States\", 885210.0, null], [\"United States\", 364972.0, null], [\"United States\", 26609670.2, 649770.75], [\"United States\", 3462180.5, null], [\"United States\", 4850026.0, null], [\"United States\", 57243.0, null], [\"United States\", 31625252.0, 3993752.0], [\"United States\", 30685673.5, null], [\"United States\", 233009.87, null], [\"United States\", 355820.7966666667, 57666.33333333334], [\"United States\", 18247063.5, null], [\"United States\", 4762364.27, null], [\"United States\", 1135259.34, 91825.0], [\"United States\", 4523788.285714285, 417166.4], [\"United States\", 12919949.0, 679678.6666666665], [\"United States\", 480493.0, 95120.0], [\"United States\", 1058370.0, null], [\"United States\", 4082387.0, 391137.0], [\"United States\", 49644227.28571428, 8512613.0], [\"United States\", 3690352.0, null], [\"United States\", 2348336.8, 423923.75], [\"United States\", 122846.25, 66791.0], [\"United States\", 15555.047059, null], [\"United States\", 17630629.302857142, 1558435.666666667], [\"United States\", 16192139.0, 1604115.666666667], [\"United States\", 36010.0, null], [\"United States\", 43442.0, null], [\"United States\", 5332983.516, null], [\"United States\", 7773812.0, null], [\"United States\", 1142797.0, null], [\"United States\", 7323420.0, null], [\"United States\", 2241101.666666666, 179260.0], [\"United States\", 2846433.78, null], [\"United States\", 3188954.0, null], [\"United States\", 2803844.75, null], [\"United States\", 1983623.0, 99192.5], [\"United States\", 1792000.0, null], [\"United States\", 3549993.815, 305593.0], [\"United States\", 4752386.0, null], [\"United States\", 16116813.0, 1472366.0], [\"United States\", 12624227.0, null], [\"United States\", 4983516.378571428, 875842.75], [\"United States\", 652709.6233333334, 89819.66666666669], [\"United States\", 241127.5, null], [\"United States\", 1811089.0, null], [\"United States\", 859274.0, 91963.0], [\"United States\", 3641614.666666666, null], [\"United States\", 4301000.0, null], [\"United States\", 592031.25, 79989.66666666669], [\"United States\", 6834691.775714288, 311066.0], [\"United States\", 1269567.0, null], [\"United States\", 2236656.7800000003, null], [\"United States\", 6659101.0, null], [\"United States\", 501147.0, null], [\"United States\", 7700200.7179999985, null], [\"United States\", 583213.0, null], [\"United States\", 1284100.5666666671, 110755.5], [\"United States\", 1248650.0, null]], \"geo\": \"geo\", \"hovertemplate\": \"<b>%{hovertext}</b><br><br>cluster=1<br>CDP_TotalEmissions=%{customdata[1]}<br>City_Latitude=%{lat}<br>City_Longitude=%{lon}<br>Country Name=%{customdata[0]}<br>City_Population=%{customdata[2]}<br>pct_change2=%{marker.color}<extra></extra>\", \"hovertext\": [\"Abington\", \"Alameda\", \"Albany\", \"Alton\", \"Anchorage\", \"Ann Arbor\", \"Arlington\", \"Aspen and Pitkin\", \"Atlanta\", \"Austin\", \"Baltimore\", \"Benicia\", \"Blacksburg\", \"Bloomington\", \"Boston\", \"Boulder\", \"Brisbane CA\", \"Broward\", \"Brownsville\", \"Burlington\", \"Cambridge MA\", \"Charlottesville\", \"Charlottesville VA\", \"Chicago\", \"Chula Vista\", \"Cincinnati\", \"Cleveland\", \"Columbia\", \"Columbia MO\", \"Columbia SC\", \"Columbus\", \"Cupertino\", \"Dallas\", \"Davis CA\", \"Denton\", \"Denver\", \"Detroit\", \"Dublin CA\", \"Durham NC\", \"Easton\", \"Emeryville\", \"Eugene\", \"Fayetteville\", \"Flagstaff\", \"Fort Collins\", \"Fremont\", \"Greensboro\", \"Hayward\", \"Hermosa Beach CA\", \"Houston\", \"Indianapolis\", \"Iowa\", \"Kansas\", \"Key West\", \"Knoxville\", \"La Crosse\", \"Lake Forest IL\", \"Lakewood\", \"Lancaster\", \"Lancaster PA\", \"Las Vegas\", \"Lexington MA\", \"Long Beach\", \"Los Altos Hills\", \"Los Angeles\", \"Louisville\", \"Manhattan Beach\", \"Medford\", \"Memphis\", \"Miami\", \"Miami Beach\", \"Minneapolis\", \"Nashville\", \"New Bedford\", \"New Haven\", \"New Orleans\", \"New York\", \"Norfolk\", \"Oakland\", \"Palo Alto\", \"Park\", \"Philadelphia\", \"Phoenix\", \"Piedmont\", \"Piedmont CA\", \"Pittsburgh\", \"Portland\", \"Portland ME\", \"Portland OR\", \"Providence\", \"Reno\", \"Richmond\", \"Richmond VA\", \"Roanoke\", \"Rochester\", \"Saint Paul\", \"Salt Lake\", \"San Antonio\", \"San Diego\", \"San Francisco\", \"San Leandro\", \"Santa Cruz CA\", \"Santa Fe\", \"Santa Monica\", \"Savannah\", \"Seattle\", \"Somerville\", \"St Louis\", \"Tacoma\", \"Tempe\", \"Tucson\", \"University  MO\", \"Washington DC\", \"West Hollywood\", \"West Palm Beach\", \"Yonkers\"], \"lat\": [null, null, null, null, null, null, 37.226486, null, 33.7489954, 30.2672, 39.2903848, 38.049365, 37.2296, 39.1653, 42.358430799999994, 40.0274, null, 26.1901, null, 44.475882500000004, null, 38.0293, null, 41.8781138, null, null, 41.499320000000004, null, null, null, 39.9611755, null, 32.78013989999999, null, null, 39.737567, null, null, null, 40.6884, 37.831315999999994, null, null, 35.1992, 40.5853, null, null, 37.6689, null, null, 39.767625, null, null, null, null, null, null, 39.7047, null, null, 36.169941200000004, null, null, null, 34.0522342, null, null, 42.3265, null, null, 25.790654, 44.983334, 36.1627, 41.6362, null, 29.9511, 40.7127837, null, 37.8044, 37.4419, null, 39.952335, 33.4484, null, null, null, null, null, null, 41.824, null, null, null, 37.271, null, 44.9537, null, 29.4241, null, 37.7749295, 37.72493, null, null, 34.0219, null, null, 42.393449, 38.6270025, null, null, null, null, null, null, 26.715342, null], \"legendgroup\": \"\", \"lon\": [null, null, null, null, null, null, -76.00259399999999, null, -84.3879824, -97.74309999999998, -76.6121893, -122.1585777, -80.4139, -86.5264, -71.05977320000002, -105.2519, null, 80.3659, null, -73.21207199999998, null, -78.4767, null, -87.62979810000002, null, null, -81.6943605, null, null, null, -82.9987942, null, -96.8004511, null, null, -104.9847179, null, null, null, -75.2207, -122.28524699999998, null, null, -111.6311, 105.0844, null, null, -122.0808, null, null, -86.17846899999998, null, null, null, null, null, null, -105.0814, null, null, -115.13982959999998, null, null, null, -118.24368490000002, null, null, -122.8756, null, null, -80.130045, -93.26667, -86.7816, -70.9342, null, -90.0715, -74.00594129999998, null, -122.2708, -122.14299999999999, null, -75.16378900000002, -112.074, null, null, null, null, null, null, -71.4128, null, null, null, -79.9414, null, -93.09, null, -98.4936, null, -122.4194155, -122.156077, null, null, -118.4814, null, null, -71.082647, -90.1994042, null, null, null, null, null, null, -80.053375, null], \"marker\": {\"color\": [0.0, 0.0, 0.0, 0.0, 0.0, 0.2, -0.02, -0.06666666666666668, -0.06000000000000001, 0.0, 0.15714285714285714, -0.2, -0.05, 0.1, 0.0, 0.15999999999999998, -0.15, 0.25, 0.0, 0.05000000000000001, 0.0, 0.0, 0.0, -0.014285714285714287, 0.0, 0.0, 0.014285714285714282, 0.0, -0.15, 0.0, 0.07500000000000001, -0.1, 0.04, 0.0, -0.03333333333333333, -0.18, 0.0, 0.0, -0.03333333333333333, 0.0, -0.025, 0.075, 0.0, 0.0, 0.0, 0.0, 0.0, 0.025, 0.0, 0.0, 0.0, -0.10000000000000002, 0.0, 0.0, 0.04999999999999999, 0.0, 0.0, 0.02, 0.0, 0.0, -0.08, -0.225, 0.0, 0.0, -0.05000000000000001, 0.0, 0.05, -0.06666666666666668, 0.15, 0.0, -0.03333333333333333, -0.014285714285714287, 0.025, 0.0, 0.0, -0.1, 0.014285714285714287, 0.0, 0.12000000000000002, -0.2, 0.0, -0.028571428571428574, 0.0, 0.0, 0.0, -0.04, 0.0, 0.0, 0.0, 0.16666666666666666, -0.3, 0.0, -0.05, 0.0, 0.0, 0.25, 0.0, 0.0, 0.0, 0.014285714285714287, 0.0, 0.0, 0.0, 0.1, 0.0, -0.075, 0.0, 0.1, 0.2, -0.3, 0.0, 0.0, -0.02, 0.0, -0.06666666666666668, 0.0], \"coloraxis\": \"coloraxis\", \"opacity\": 0.6, \"size\": [585905.75, 419377.0, 1217091.0, 401079.0, 3557393.0, 1730199.5, 2354121.4, 422101.0, 8850258.0, 13929113.8, 9719212.142857144, 544503.935, 343017.54400000005, 1504696.333333333, 6339649.666666668, 2221801.944, 105015.75, 20905601.61, 2165653.0, 338832.2116666667, 1462236.0, 343795.0, 720870.0, 32743371.42857143, 1143624.13, 7505000.333333332, 11384904.285714285, 7386407.0, 2841583.0, 1848635.0, 10379436.75, 237880.03333333327, 17856431.2, 348347.0, 1533094.333333333, 7422435.2, 10449502.4, 281711.0, 4507343.666666667, 347635.0, 163346.395, 1462861.5, 1429119.0, 1252302.176, 2055582.0633333328, 1430248.5, 4467691.0, 1083235.0, 126611.0, 33308271.0, 2160364.99, 1092580.333333333, 12807311.0, 399592.0, 3732503.8625, 10647.0, 402364.0, 1692340.0, 885210.0, 364972.0, 26609670.2, 3462180.5, 4850026.0, 57243.0, 31625252.0, 30685673.5, 233009.87, 355820.7966666667, 18247063.5, 4762364.27, 1135259.34, 4523788.285714285, 12919949.0, 480493.0, 1058370.0, 4082387.0, 49644227.28571428, 3690352.0, 2348336.8, 122846.25, 15555.047059, 17630629.302857142, 16192139.0, 36010.0, 43442.0, 5332983.516, 7773812.0, 1142797.0, 7323420.0, 2241101.666666666, 2846433.78, 3188954.0, 2803844.75, 1983623.0, 1792000.0, 3549993.815, 4752386.0, 16116813.0, 12624227.0, 4983516.378571428, 652709.6233333334, 241127.5, 1811089.0, 859274.0, 3641614.666666666, 4301000.0, 592031.25, 6834691.775714288, 1269567.0, 2236656.7800000003, 6659101.0, 501147.0, 7700200.7179999985, 583213.0, 1284100.5666666671, 1248650.0], \"sizemode\": \"area\", \"sizeref\": 202340.8396, \"symbol\": \"circle\"}, \"mode\": \"markers\", \"name\": \"\", \"showlegend\": false, \"type\": \"scattergeo\"}], \"name\": \"1\"}]);\n",
       "                        }).then(function(){\n",
       "                            \n",
       "var gd = document.getElementById('6a6bc655-4727-48bb-8b00-4edf54ad4d36');\n",
       "var x = new MutationObserver(function (mutations, observer) {{\n",
       "        var display = window.getComputedStyle(gd).display;\n",
       "        if (!display || display === 'none') {{\n",
       "            console.log([gd, 'removed!']);\n",
       "            Plotly.purge(gd);\n",
       "            observer.disconnect();\n",
       "        }}\n",
       "}});\n",
       "\n",
       "// Listen for the removal of the full notebook cells\n",
       "var notebookContainer = gd.closest('#notebook-container');\n",
       "if (notebookContainer) {{\n",
       "    x.observe(notebookContainer, {childList: true});\n",
       "}}\n",
       "\n",
       "// Listen for the clearing of the current output cell\n",
       "var outputEl = gd.closest('.output');\n",
       "if (outputEl) {{\n",
       "    x.observe(outputEl, {childList: true});\n",
       "}}\n",
       "\n",
       "                        })                };                });            </script>        </div>"
      ]
     },
     "metadata": {},
     "output_type": "display_data"
    }
   ],
   "source": [
    "\n",
    "map_emissions.show()"
   ]
  },
  {
   "cell_type": "code",
   "execution_count": null,
   "metadata": {},
   "outputs": [],
   "source": []
  }
 ],
 "metadata": {
  "kernelspec": {
   "display_name": "Python 3",
   "language": "python",
   "name": "python3"
  },
  "language_info": {
   "codemirror_mode": {
    "name": "ipython",
    "version": 3
   },
   "file_extension": ".py",
   "mimetype": "text/x-python",
   "name": "python",
   "nbconvert_exporter": "python",
   "pygments_lexer": "ipython3",
   "version": "3.8.5"
  },
  "latex_envs": {
   "LaTeX_envs_menu_present": true,
   "autoclose": true,
   "autocomplete": true,
   "bibliofile": "biblio.bib",
   "cite_by": "apalike",
   "current_citInitial": 1,
   "eqLabelWithNumbers": true,
   "eqNumInitial": 1,
   "hotkeys": {
    "equation": "Ctrl-E",
    "itemize": "Ctrl-I"
   },
   "labels_anchors": false,
   "latex_user_defs": false,
   "report_style_numbering": false,
   "user_envs_cfg": false
  },
  "toc": {
   "base_numbering": 1,
   "nav_menu": {},
   "number_sections": true,
   "sideBar": true,
   "skip_h1_title": true,
   "title_cell": "Table of Contents",
   "title_sidebar": "Contents",
   "toc_cell": true,
   "toc_position": {},
   "toc_section_display": true,
   "toc_window_display": true
  },
  "varInspector": {
   "cols": {
    "lenName": 16,
    "lenType": 16,
    "lenVar": 40
   },
   "kernels_config": {
    "python": {
     "delete_cmd_postfix": "",
     "delete_cmd_prefix": "del ",
     "library": "var_list.py",
     "varRefreshCmd": "print(var_dic_list())"
    },
    "r": {
     "delete_cmd_postfix": ") ",
     "delete_cmd_prefix": "rm(",
     "library": "var_list.r",
     "varRefreshCmd": "cat(var_dic_list()) "
    }
   },
   "types_to_exclude": [
    "module",
    "function",
    "builtin_function_or_method",
    "instance",
    "_Feature"
   ],
   "window_display": false
  }
 },
 "nbformat": 4,
 "nbformat_minor": 4
}
